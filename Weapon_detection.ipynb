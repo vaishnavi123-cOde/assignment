{
  "nbformat": 4,
  "nbformat_minor": 0,
  "metadata": {
    "colab": {
      "provenance": [],
      "gpuType": "T4",
      "authorship_tag": "ABX9TyMz/VKai30QPC65/AUM3DMo",
      "include_colab_link": true
    },
    "kernelspec": {
      "name": "python3",
      "display_name": "Python 3"
    },
    "language_info": {
      "name": "python"
    },
    "accelerator": "GPU"
  },
  "cells": [
    {
      "cell_type": "markdown",
      "metadata": {
        "id": "view-in-github",
        "colab_type": "text"
      },
      "source": [
        "<a href=\"https://colab.research.google.com/github/vaishnavi123-cOde/assignment/blob/main/Weapon_detection.ipynb\" target=\"_parent\"><img src=\"https://colab.research.google.com/assets/colab-badge.svg\" alt=\"Open In Colab\"/></a>"
      ]
    },
    {
      "cell_type": "code",
      "execution_count": null,
      "metadata": {
        "id": "2C1drzIPXhra",
        "colab": {
          "base_uri": "https://localhost:8080/"
        },
        "outputId": "91d46c3b-6aa5-4ab1-aa3d-e6121e2bce2e"
      },
      "outputs": [
        {
          "output_type": "stream",
          "name": "stdout",
          "text": [
            "Fri Jul 18 16:32:27 2025       \n",
            "+-----------------------------------------------------------------------------------------+\n",
            "| NVIDIA-SMI 550.54.15              Driver Version: 550.54.15      CUDA Version: 12.4     |\n",
            "|-----------------------------------------+------------------------+----------------------+\n",
            "| GPU  Name                 Persistence-M | Bus-Id          Disp.A | Volatile Uncorr. ECC |\n",
            "| Fan  Temp   Perf          Pwr:Usage/Cap |           Memory-Usage | GPU-Util  Compute M. |\n",
            "|                                         |                        |               MIG M. |\n",
            "|=========================================+========================+======================|\n",
            "|   0  Tesla T4                       Off |   00000000:00:04.0 Off |                    0 |\n",
            "| N/A   68C    P8             10W /   70W |       0MiB /  15360MiB |      0%      Default |\n",
            "|                                         |                        |                  N/A |\n",
            "+-----------------------------------------+------------------------+----------------------+\n",
            "                                                                                         \n",
            "+-----------------------------------------------------------------------------------------+\n",
            "| Processes:                                                                              |\n",
            "|  GPU   GI   CI        PID   Type   Process name                              GPU Memory |\n",
            "|        ID   ID                                                               Usage      |\n",
            "|=========================================================================================|\n",
            "|  No running processes found                                                             |\n",
            "+-----------------------------------------------------------------------------------------+\n"
          ]
        }
      ],
      "source": [
        "!nvidia-smi"
      ]
    },
    {
      "cell_type": "code",
      "source": [
        "!pip install ultralytics"
      ],
      "metadata": {
        "colab": {
          "base_uri": "https://localhost:8080/"
        },
        "id": "ByKgwiaGYPUo",
        "outputId": "fe1a363f-f08d-4255-ebe7-c63b668ec5f0"
      },
      "execution_count": null,
      "outputs": [
        {
          "output_type": "stream",
          "name": "stdout",
          "text": [
            "Collecting ultralytics\n",
            "  Downloading ultralytics-8.3.168-py3-none-any.whl.metadata (37 kB)\n",
            "Requirement already satisfied: numpy>=1.23.0 in /usr/local/lib/python3.11/dist-packages (from ultralytics) (2.0.2)\n",
            "Requirement already satisfied: matplotlib>=3.3.0 in /usr/local/lib/python3.11/dist-packages (from ultralytics) (3.10.0)\n",
            "Requirement already satisfied: opencv-python>=4.6.0 in /usr/local/lib/python3.11/dist-packages (from ultralytics) (4.11.0.86)\n",
            "Requirement already satisfied: pillow>=7.1.2 in /usr/local/lib/python3.11/dist-packages (from ultralytics) (11.2.1)\n",
            "Requirement already satisfied: pyyaml>=5.3.1 in /usr/local/lib/python3.11/dist-packages (from ultralytics) (6.0.2)\n",
            "Requirement already satisfied: requests>=2.23.0 in /usr/local/lib/python3.11/dist-packages (from ultralytics) (2.32.3)\n",
            "Requirement already satisfied: scipy>=1.4.1 in /usr/local/lib/python3.11/dist-packages (from ultralytics) (1.15.3)\n",
            "Requirement already satisfied: torch>=1.8.0 in /usr/local/lib/python3.11/dist-packages (from ultralytics) (2.6.0+cu124)\n",
            "Requirement already satisfied: torchvision>=0.9.0 in /usr/local/lib/python3.11/dist-packages (from ultralytics) (0.21.0+cu124)\n",
            "Requirement already satisfied: tqdm>=4.64.0 in /usr/local/lib/python3.11/dist-packages (from ultralytics) (4.67.1)\n",
            "Requirement already satisfied: psutil in /usr/local/lib/python3.11/dist-packages (from ultralytics) (5.9.5)\n",
            "Requirement already satisfied: py-cpuinfo in /usr/local/lib/python3.11/dist-packages (from ultralytics) (9.0.0)\n",
            "Requirement already satisfied: pandas>=1.1.4 in /usr/local/lib/python3.11/dist-packages (from ultralytics) (2.2.2)\n",
            "Collecting ultralytics-thop>=2.0.0 (from ultralytics)\n",
            "  Downloading ultralytics_thop-2.0.14-py3-none-any.whl.metadata (9.4 kB)\n",
            "Requirement already satisfied: contourpy>=1.0.1 in /usr/local/lib/python3.11/dist-packages (from matplotlib>=3.3.0->ultralytics) (1.3.2)\n",
            "Requirement already satisfied: cycler>=0.10 in /usr/local/lib/python3.11/dist-packages (from matplotlib>=3.3.0->ultralytics) (0.12.1)\n",
            "Requirement already satisfied: fonttools>=4.22.0 in /usr/local/lib/python3.11/dist-packages (from matplotlib>=3.3.0->ultralytics) (4.58.5)\n",
            "Requirement already satisfied: kiwisolver>=1.3.1 in /usr/local/lib/python3.11/dist-packages (from matplotlib>=3.3.0->ultralytics) (1.4.8)\n",
            "Requirement already satisfied: packaging>=20.0 in /usr/local/lib/python3.11/dist-packages (from matplotlib>=3.3.0->ultralytics) (25.0)\n",
            "Requirement already satisfied: pyparsing>=2.3.1 in /usr/local/lib/python3.11/dist-packages (from matplotlib>=3.3.0->ultralytics) (3.2.3)\n",
            "Requirement already satisfied: python-dateutil>=2.7 in /usr/local/lib/python3.11/dist-packages (from matplotlib>=3.3.0->ultralytics) (2.9.0.post0)\n",
            "Requirement already satisfied: pytz>=2020.1 in /usr/local/lib/python3.11/dist-packages (from pandas>=1.1.4->ultralytics) (2025.2)\n",
            "Requirement already satisfied: tzdata>=2022.7 in /usr/local/lib/python3.11/dist-packages (from pandas>=1.1.4->ultralytics) (2025.2)\n",
            "Requirement already satisfied: charset-normalizer<4,>=2 in /usr/local/lib/python3.11/dist-packages (from requests>=2.23.0->ultralytics) (3.4.2)\n",
            "Requirement already satisfied: idna<4,>=2.5 in /usr/local/lib/python3.11/dist-packages (from requests>=2.23.0->ultralytics) (3.10)\n",
            "Requirement already satisfied: urllib3<3,>=1.21.1 in /usr/local/lib/python3.11/dist-packages (from requests>=2.23.0->ultralytics) (2.4.0)\n",
            "Requirement already satisfied: certifi>=2017.4.17 in /usr/local/lib/python3.11/dist-packages (from requests>=2.23.0->ultralytics) (2025.7.14)\n",
            "Requirement already satisfied: filelock in /usr/local/lib/python3.11/dist-packages (from torch>=1.8.0->ultralytics) (3.18.0)\n",
            "Requirement already satisfied: typing-extensions>=4.10.0 in /usr/local/lib/python3.11/dist-packages (from torch>=1.8.0->ultralytics) (4.14.1)\n",
            "Requirement already satisfied: networkx in /usr/local/lib/python3.11/dist-packages (from torch>=1.8.0->ultralytics) (3.5)\n",
            "Requirement already satisfied: jinja2 in /usr/local/lib/python3.11/dist-packages (from torch>=1.8.0->ultralytics) (3.1.6)\n",
            "Requirement already satisfied: fsspec in /usr/local/lib/python3.11/dist-packages (from torch>=1.8.0->ultralytics) (2025.3.2)\n",
            "Collecting nvidia-cuda-nvrtc-cu12==12.4.127 (from torch>=1.8.0->ultralytics)\n",
            "  Downloading nvidia_cuda_nvrtc_cu12-12.4.127-py3-none-manylinux2014_x86_64.whl.metadata (1.5 kB)\n",
            "Collecting nvidia-cuda-runtime-cu12==12.4.127 (from torch>=1.8.0->ultralytics)\n",
            "  Downloading nvidia_cuda_runtime_cu12-12.4.127-py3-none-manylinux2014_x86_64.whl.metadata (1.5 kB)\n",
            "Collecting nvidia-cuda-cupti-cu12==12.4.127 (from torch>=1.8.0->ultralytics)\n",
            "  Downloading nvidia_cuda_cupti_cu12-12.4.127-py3-none-manylinux2014_x86_64.whl.metadata (1.6 kB)\n",
            "Collecting nvidia-cudnn-cu12==9.1.0.70 (from torch>=1.8.0->ultralytics)\n",
            "  Downloading nvidia_cudnn_cu12-9.1.0.70-py3-none-manylinux2014_x86_64.whl.metadata (1.6 kB)\n",
            "Collecting nvidia-cublas-cu12==12.4.5.8 (from torch>=1.8.0->ultralytics)\n",
            "  Downloading nvidia_cublas_cu12-12.4.5.8-py3-none-manylinux2014_x86_64.whl.metadata (1.5 kB)\n",
            "Collecting nvidia-cufft-cu12==11.2.1.3 (from torch>=1.8.0->ultralytics)\n",
            "  Downloading nvidia_cufft_cu12-11.2.1.3-py3-none-manylinux2014_x86_64.whl.metadata (1.5 kB)\n",
            "Collecting nvidia-curand-cu12==10.3.5.147 (from torch>=1.8.0->ultralytics)\n",
            "  Downloading nvidia_curand_cu12-10.3.5.147-py3-none-manylinux2014_x86_64.whl.metadata (1.5 kB)\n",
            "Collecting nvidia-cusolver-cu12==11.6.1.9 (from torch>=1.8.0->ultralytics)\n",
            "  Downloading nvidia_cusolver_cu12-11.6.1.9-py3-none-manylinux2014_x86_64.whl.metadata (1.6 kB)\n",
            "Collecting nvidia-cusparse-cu12==12.3.1.170 (from torch>=1.8.0->ultralytics)\n",
            "  Downloading nvidia_cusparse_cu12-12.3.1.170-py3-none-manylinux2014_x86_64.whl.metadata (1.6 kB)\n",
            "Requirement already satisfied: nvidia-cusparselt-cu12==0.6.2 in /usr/local/lib/python3.11/dist-packages (from torch>=1.8.0->ultralytics) (0.6.2)\n",
            "Requirement already satisfied: nvidia-nccl-cu12==2.21.5 in /usr/local/lib/python3.11/dist-packages (from torch>=1.8.0->ultralytics) (2.21.5)\n",
            "Requirement already satisfied: nvidia-nvtx-cu12==12.4.127 in /usr/local/lib/python3.11/dist-packages (from torch>=1.8.0->ultralytics) (12.4.127)\n",
            "Collecting nvidia-nvjitlink-cu12==12.4.127 (from torch>=1.8.0->ultralytics)\n",
            "  Downloading nvidia_nvjitlink_cu12-12.4.127-py3-none-manylinux2014_x86_64.whl.metadata (1.5 kB)\n",
            "Requirement already satisfied: triton==3.2.0 in /usr/local/lib/python3.11/dist-packages (from torch>=1.8.0->ultralytics) (3.2.0)\n",
            "Requirement already satisfied: sympy==1.13.1 in /usr/local/lib/python3.11/dist-packages (from torch>=1.8.0->ultralytics) (1.13.1)\n",
            "Requirement already satisfied: mpmath<1.4,>=1.1.0 in /usr/local/lib/python3.11/dist-packages (from sympy==1.13.1->torch>=1.8.0->ultralytics) (1.3.0)\n",
            "Requirement already satisfied: six>=1.5 in /usr/local/lib/python3.11/dist-packages (from python-dateutil>=2.7->matplotlib>=3.3.0->ultralytics) (1.17.0)\n",
            "Requirement already satisfied: MarkupSafe>=2.0 in /usr/local/lib/python3.11/dist-packages (from jinja2->torch>=1.8.0->ultralytics) (3.0.2)\n",
            "Downloading ultralytics-8.3.168-py3-none-any.whl (1.0 MB)\n",
            "\u001b[2K   \u001b[90m━━━━━━━━━━━━━━━━━━━━━━━━━━━━━━━━━━━━━━━━\u001b[0m \u001b[32m1.0/1.0 MB\u001b[0m \u001b[31m70.4 MB/s\u001b[0m eta \u001b[36m0:00:00\u001b[0m\n",
            "\u001b[?25hDownloading nvidia_cublas_cu12-12.4.5.8-py3-none-manylinux2014_x86_64.whl (363.4 MB)\n",
            "\u001b[2K   \u001b[90m━━━━━━━━━━━━━━━━━━━━━━━━━━━━━━━━━━━━━━━━\u001b[0m \u001b[32m363.4/363.4 MB\u001b[0m \u001b[31m3.9 MB/s\u001b[0m eta \u001b[36m0:00:00\u001b[0m\n",
            "\u001b[?25hDownloading nvidia_cuda_cupti_cu12-12.4.127-py3-none-manylinux2014_x86_64.whl (13.8 MB)\n",
            "\u001b[2K   \u001b[90m━━━━━━━━━━━━━━━━━━━━━━━━━━━━━━━━━━━━━━━━\u001b[0m \u001b[32m13.8/13.8 MB\u001b[0m \u001b[31m84.7 MB/s\u001b[0m eta \u001b[36m0:00:00\u001b[0m\n",
            "\u001b[?25hDownloading nvidia_cuda_nvrtc_cu12-12.4.127-py3-none-manylinux2014_x86_64.whl (24.6 MB)\n",
            "\u001b[2K   \u001b[90m━━━━━━━━━━━━━━━━━━━━━━━━━━━━━━━━━━━━━━━━\u001b[0m \u001b[32m24.6/24.6 MB\u001b[0m \u001b[31m63.1 MB/s\u001b[0m eta \u001b[36m0:00:00\u001b[0m\n",
            "\u001b[?25hDownloading nvidia_cuda_runtime_cu12-12.4.127-py3-none-manylinux2014_x86_64.whl (883 kB)\n",
            "\u001b[2K   \u001b[90m━━━━━━━━━━━━━━━━━━━━━━━━━━━━━━━━━━━━━━━━\u001b[0m \u001b[32m883.7/883.7 kB\u001b[0m \u001b[31m52.6 MB/s\u001b[0m eta \u001b[36m0:00:00\u001b[0m\n",
            "\u001b[?25hDownloading nvidia_cudnn_cu12-9.1.0.70-py3-none-manylinux2014_x86_64.whl (664.8 MB)\n",
            "\u001b[2K   \u001b[90m━━━━━━━━━━━━━━━━━━━━━━━━━━━━━━━━━━━━━━━━\u001b[0m \u001b[32m664.8/664.8 MB\u001b[0m \u001b[31m1.2 MB/s\u001b[0m eta \u001b[36m0:00:00\u001b[0m\n",
            "\u001b[?25hDownloading nvidia_cufft_cu12-11.2.1.3-py3-none-manylinux2014_x86_64.whl (211.5 MB)\n",
            "\u001b[2K   \u001b[90m━━━━━━━━━━━━━━━━━━━━━━━━━━━━━━━━━━━━━━━━\u001b[0m \u001b[32m211.5/211.5 MB\u001b[0m \u001b[31m5.4 MB/s\u001b[0m eta \u001b[36m0:00:00\u001b[0m\n",
            "\u001b[?25hDownloading nvidia_curand_cu12-10.3.5.147-py3-none-manylinux2014_x86_64.whl (56.3 MB)\n",
            "\u001b[2K   \u001b[90m━━━━━━━━━━━━━━━━━━━━━━━━━━━━━━━━━━━━━━━━\u001b[0m \u001b[32m56.3/56.3 MB\u001b[0m \u001b[31m16.6 MB/s\u001b[0m eta \u001b[36m0:00:00\u001b[0m\n",
            "\u001b[?25hDownloading nvidia_cusolver_cu12-11.6.1.9-py3-none-manylinux2014_x86_64.whl (127.9 MB)\n",
            "\u001b[2K   \u001b[90m━━━━━━━━━━━━━━━━━━━━━━━━━━━━━━━━━━━━━━━━\u001b[0m \u001b[32m127.9/127.9 MB\u001b[0m \u001b[31m7.3 MB/s\u001b[0m eta \u001b[36m0:00:00\u001b[0m\n",
            "\u001b[?25hDownloading nvidia_cusparse_cu12-12.3.1.170-py3-none-manylinux2014_x86_64.whl (207.5 MB)\n",
            "\u001b[2K   \u001b[90m━━━━━━━━━━━━━━━━━━━━━━━━━━━━━━━━━━━━━━━━\u001b[0m \u001b[32m207.5/207.5 MB\u001b[0m \u001b[31m5.1 MB/s\u001b[0m eta \u001b[36m0:00:00\u001b[0m\n",
            "\u001b[?25hDownloading nvidia_nvjitlink_cu12-12.4.127-py3-none-manylinux2014_x86_64.whl (21.1 MB)\n",
            "\u001b[2K   \u001b[90m━━━━━━━━━━━━━━━━━━━━━━━━━━━━━━━━━━━━━━━━\u001b[0m \u001b[32m21.1/21.1 MB\u001b[0m \u001b[31m41.3 MB/s\u001b[0m eta \u001b[36m0:00:00\u001b[0m\n",
            "\u001b[?25hDownloading ultralytics_thop-2.0.14-py3-none-any.whl (26 kB)\n",
            "Installing collected packages: nvidia-nvjitlink-cu12, nvidia-curand-cu12, nvidia-cufft-cu12, nvidia-cuda-runtime-cu12, nvidia-cuda-nvrtc-cu12, nvidia-cuda-cupti-cu12, nvidia-cublas-cu12, nvidia-cusparse-cu12, nvidia-cudnn-cu12, nvidia-cusolver-cu12, ultralytics-thop, ultralytics\n",
            "  Attempting uninstall: nvidia-nvjitlink-cu12\n",
            "    Found existing installation: nvidia-nvjitlink-cu12 12.5.82\n",
            "    Uninstalling nvidia-nvjitlink-cu12-12.5.82:\n",
            "      Successfully uninstalled nvidia-nvjitlink-cu12-12.5.82\n",
            "  Attempting uninstall: nvidia-curand-cu12\n",
            "    Found existing installation: nvidia-curand-cu12 10.3.6.82\n",
            "    Uninstalling nvidia-curand-cu12-10.3.6.82:\n",
            "      Successfully uninstalled nvidia-curand-cu12-10.3.6.82\n",
            "  Attempting uninstall: nvidia-cufft-cu12\n",
            "    Found existing installation: nvidia-cufft-cu12 11.2.3.61\n",
            "    Uninstalling nvidia-cufft-cu12-11.2.3.61:\n",
            "      Successfully uninstalled nvidia-cufft-cu12-11.2.3.61\n",
            "  Attempting uninstall: nvidia-cuda-runtime-cu12\n",
            "    Found existing installation: nvidia-cuda-runtime-cu12 12.5.82\n",
            "    Uninstalling nvidia-cuda-runtime-cu12-12.5.82:\n",
            "      Successfully uninstalled nvidia-cuda-runtime-cu12-12.5.82\n",
            "  Attempting uninstall: nvidia-cuda-nvrtc-cu12\n",
            "    Found existing installation: nvidia-cuda-nvrtc-cu12 12.5.82\n",
            "    Uninstalling nvidia-cuda-nvrtc-cu12-12.5.82:\n",
            "      Successfully uninstalled nvidia-cuda-nvrtc-cu12-12.5.82\n",
            "  Attempting uninstall: nvidia-cuda-cupti-cu12\n",
            "    Found existing installation: nvidia-cuda-cupti-cu12 12.5.82\n",
            "    Uninstalling nvidia-cuda-cupti-cu12-12.5.82:\n",
            "      Successfully uninstalled nvidia-cuda-cupti-cu12-12.5.82\n",
            "  Attempting uninstall: nvidia-cublas-cu12\n",
            "    Found existing installation: nvidia-cublas-cu12 12.5.3.2\n",
            "    Uninstalling nvidia-cublas-cu12-12.5.3.2:\n",
            "      Successfully uninstalled nvidia-cublas-cu12-12.5.3.2\n",
            "  Attempting uninstall: nvidia-cusparse-cu12\n",
            "    Found existing installation: nvidia-cusparse-cu12 12.5.1.3\n",
            "    Uninstalling nvidia-cusparse-cu12-12.5.1.3:\n",
            "      Successfully uninstalled nvidia-cusparse-cu12-12.5.1.3\n",
            "  Attempting uninstall: nvidia-cudnn-cu12\n",
            "    Found existing installation: nvidia-cudnn-cu12 9.3.0.75\n",
            "    Uninstalling nvidia-cudnn-cu12-9.3.0.75:\n",
            "      Successfully uninstalled nvidia-cudnn-cu12-9.3.0.75\n",
            "  Attempting uninstall: nvidia-cusolver-cu12\n",
            "    Found existing installation: nvidia-cusolver-cu12 11.6.3.83\n",
            "    Uninstalling nvidia-cusolver-cu12-11.6.3.83:\n",
            "      Successfully uninstalled nvidia-cusolver-cu12-11.6.3.83\n",
            "Successfully installed nvidia-cublas-cu12-12.4.5.8 nvidia-cuda-cupti-cu12-12.4.127 nvidia-cuda-nvrtc-cu12-12.4.127 nvidia-cuda-runtime-cu12-12.4.127 nvidia-cudnn-cu12-9.1.0.70 nvidia-cufft-cu12-11.2.1.3 nvidia-curand-cu12-10.3.5.147 nvidia-cusolver-cu12-11.6.1.9 nvidia-cusparse-cu12-12.3.1.170 nvidia-nvjitlink-cu12-12.4.127 ultralytics-8.3.168 ultralytics-thop-2.0.14\n"
          ]
        }
      ]
    },
    {
      "cell_type": "code",
      "source": [
        "import zipfile, os, shutil\n",
        "from sklearn.model_selection import train_test_split\n",
        "\n",
        "# Define paths\n",
        "zip_path = '/content/data.zip.zip'  # Colab-style path\n",
        "extract_path = '/content/weapons-dataset'\n",
        "images_path = os.path.join(extract_path, 'images')\n",
        "labels_path = os.path.join(extract_path, 'labels')\n",
        "\n",
        "# Unzip the dataset\n",
        "with zipfile.ZipFile(zip_path, 'r') as zip_ref:\n",
        "    zip_ref.extractall(extract_path)\n",
        "\n",
        "# Gather all images and corresponding labels\n",
        "image_files = [f for f in os.listdir(images_path) if f.endswith(('.jpg', '.png'))]\n",
        "label_files = [f.replace('.jpg', '.txt').replace('.png', '.txt') for f in image_files]\n",
        "\n",
        "# Split into train, val, test (70%, 20%, 10%)\n",
        "train_imgs, test_imgs = train_test_split(image_files, test_size=0.3, random_state=42)\n",
        "val_imgs, test_imgs = train_test_split(test_imgs, test_size=1/3, random_state=42)  # 0.2 val, 0.1 test\n",
        "\n",
        "# Helper function to copy files\n",
        "def copy_files(img_list, dest_img_dir, dest_label_dir):\n",
        "    os.makedirs(dest_img_dir, exist_ok=True)\n",
        "    os.makedirs(dest_label_dir, exist_ok=True)\n",
        "    for img_name in img_list:\n",
        "        label_name = img_name.replace('.jpg', '.txt').replace('.png', '.txt')\n",
        "        shutil.copy(os.path.join(images_path, img_name), dest_img_dir)\n",
        "        shutil.copy(os.path.join(labels_path, label_name), dest_label_dir)\n",
        "\n",
        "# Organize directories\n",
        "base = '/content/yolo_gun_dataset'\n",
        "copy_files(train_imgs, f'{base}/train/images', f'{base}/train/labels')\n",
        "copy_files(val_imgs, f'{base}/val/images', f'{base}/val/labels')\n",
        "copy_files(test_imgs, f'{base}/test/images', f'{base}/test/labels')\n"
      ],
      "metadata": {
        "id": "kJDLJHW-Yg06"
      },
      "execution_count": null,
      "outputs": []
    },
    {
      "cell_type": "code",
      "source": [
        "yaml_content = \"\"\"\n",
        "path: /content/yolo_gun_dataset\n",
        "train: train/images\n",
        "val: val/images\n",
        "test: test/images\n",
        "\n",
        "names:\n",
        "  0: gun\n",
        "\"\"\"\n",
        "\n",
        "with open('/content/gun_data.yaml', 'w') as f:\n",
        "    f.write(yaml_content)\n"
      ],
      "metadata": {
        "id": "ejzSEIlKY-bL"
      },
      "execution_count": null,
      "outputs": []
    },
    {
      "cell_type": "code",
      "source": [
        "from ultralytics import YOLO\n",
        "\n",
        "# Load a YOLOv8 model (or use a custom one)\n",
        "model = YOLO('yolov8n.pt')  # or yolov8s.pt, yolov8m.pt depending on your setup\n",
        "\n",
        "# Train the model\n",
        "model.train(data='/content/gun_data.yaml', epochs=50, imgsz=640, batch=16)\n"
      ],
      "metadata": {
        "colab": {
          "base_uri": "https://localhost:8080/"
        },
        "id": "w-zL6hr-ZTxU",
        "outputId": "60cec4f9-404f-4647-afdc-3313ddfc5b54"
      },
      "execution_count": null,
      "outputs": [
        {
          "output_type": "stream",
          "name": "stdout",
          "text": [
            "Creating new Ultralytics Settings v0.0.6 file ✅ \n",
            "View Ultralytics Settings with 'yolo settings' or at '/root/.config/Ultralytics/settings.json'\n",
            "Update Settings with 'yolo settings key=value', i.e. 'yolo settings runs_dir=path/to/dir'. For help see https://docs.ultralytics.com/quickstart/#ultralytics-settings.\n",
            "Downloading https://github.com/ultralytics/assets/releases/download/v8.3.0/yolov8n.pt to 'yolov8n.pt'...\n"
          ]
        },
        {
          "output_type": "stream",
          "name": "stderr",
          "text": [
            "100%|██████████| 6.25M/6.25M [00:00<00:00, 358MB/s]"
          ]
        },
        {
          "output_type": "stream",
          "name": "stdout",
          "text": [
            "Ultralytics 8.3.168 🚀 Python-3.11.13 torch-2.6.0+cu124 CUDA:0 (Tesla T4, 15095MiB)\n"
          ]
        },
        {
          "output_type": "stream",
          "name": "stderr",
          "text": [
            "\n"
          ]
        },
        {
          "output_type": "stream",
          "name": "stdout",
          "text": [
            "\u001b[34m\u001b[1mengine/trainer: \u001b[0magnostic_nms=False, amp=True, augment=False, auto_augment=randaugment, batch=16, bgr=0.0, box=7.5, cache=False, cfg=None, classes=None, close_mosaic=10, cls=0.5, conf=None, copy_paste=0.0, copy_paste_mode=flip, cos_lr=False, cutmix=0.0, data=/content/gun_data.yaml, degrees=0.0, deterministic=True, device=None, dfl=1.5, dnn=False, dropout=0.0, dynamic=False, embed=None, epochs=50, erasing=0.4, exist_ok=False, fliplr=0.5, flipud=0.0, format=torchscript, fraction=1.0, freeze=None, half=False, hsv_h=0.015, hsv_s=0.7, hsv_v=0.4, imgsz=640, int8=False, iou=0.7, keras=False, kobj=1.0, line_width=None, lr0=0.01, lrf=0.01, mask_ratio=4, max_det=300, mixup=0.0, mode=train, model=yolov8n.pt, momentum=0.937, mosaic=1.0, multi_scale=False, name=train, nbs=64, nms=False, opset=None, optimize=False, optimizer=auto, overlap_mask=True, patience=100, perspective=0.0, plots=True, pose=12.0, pretrained=True, profile=False, project=None, rect=False, resume=False, retina_masks=False, save=True, save_conf=False, save_crop=False, save_dir=runs/detect/train, save_frames=False, save_json=False, save_period=-1, save_txt=False, scale=0.5, seed=0, shear=0.0, show=False, show_boxes=True, show_conf=True, show_labels=True, simplify=True, single_cls=False, source=None, split=val, stream_buffer=False, task=detect, time=None, tracker=botsort.yaml, translate=0.1, val=True, verbose=True, vid_stride=1, visualize=False, warmup_bias_lr=0.1, warmup_epochs=3.0, warmup_momentum=0.8, weight_decay=0.0005, workers=8, workspace=None\n",
            "Downloading https://ultralytics.com/assets/Arial.ttf to '/root/.config/Ultralytics/Arial.ttf'...\n"
          ]
        },
        {
          "output_type": "stream",
          "name": "stderr",
          "text": [
            "100%|██████████| 755k/755k [00:00<00:00, 117MB/s]"
          ]
        },
        {
          "output_type": "stream",
          "name": "stdout",
          "text": [
            "Overriding model.yaml nc=80 with nc=1\n",
            "\n",
            "                   from  n    params  module                                       arguments                     \n",
            "  0                  -1  1       464  ultralytics.nn.modules.conv.Conv             [3, 16, 3, 2]                 \n",
            "  1                  -1  1      4672  ultralytics.nn.modules.conv.Conv             [16, 32, 3, 2]                \n",
            "  2                  -1  1      7360  ultralytics.nn.modules.block.C2f             [32, 32, 1, True]             \n",
            "  3                  -1  1     18560  ultralytics.nn.modules.conv.Conv             [32, 64, 3, 2]                \n",
            "  4                  -1  2     49664  ultralytics.nn.modules.block.C2f             [64, 64, 2, True]             \n",
            "  5                  -1  1     73984  ultralytics.nn.modules.conv.Conv             [64, 128, 3, 2]               \n",
            "  6                  -1  2    197632  ultralytics.nn.modules.block.C2f             [128, 128, 2, True]           \n",
            "  7                  -1  1    295424  ultralytics.nn.modules.conv.Conv             [128, 256, 3, 2]              \n",
            "  8                  -1  1    460288  ultralytics.nn.modules.block.C2f             [256, 256, 1, True]           \n",
            "  9                  -1  1    164608  ultralytics.nn.modules.block.SPPF            [256, 256, 5]                 \n",
            " 10                  -1  1         0  torch.nn.modules.upsampling.Upsample         [None, 2, 'nearest']          \n",
            " 11             [-1, 6]  1         0  ultralytics.nn.modules.conv.Concat           [1]                           \n",
            " 12                  -1  1    148224  ultralytics.nn.modules.block.C2f             [384, 128, 1]                 \n",
            " 13                  -1  1         0  torch.nn.modules.upsampling.Upsample         [None, 2, 'nearest']          \n",
            " 14             [-1, 4]  1         0  ultralytics.nn.modules.conv.Concat           [1]                           \n",
            " 15                  -1  1     37248  ultralytics.nn.modules.block.C2f             [192, 64, 1]                  \n",
            " 16                  -1  1     36992  ultralytics.nn.modules.conv.Conv             [64, 64, 3, 2]                \n",
            " 17            [-1, 12]  1         0  ultralytics.nn.modules.conv.Concat           [1]                           \n",
            " 18                  -1  1    123648  ultralytics.nn.modules.block.C2f             [192, 128, 1]                 \n",
            " 19                  -1  1    147712  ultralytics.nn.modules.conv.Conv             [128, 128, 3, 2]              \n",
            " 20             [-1, 9]  1         0  ultralytics.nn.modules.conv.Concat           [1]                           \n",
            " 21                  -1  1    493056  ultralytics.nn.modules.block.C2f             [384, 256, 1]                 \n",
            " 22        [15, 18, 21]  1    751507  ultralytics.nn.modules.head.Detect           [1, [64, 128, 256]]           \n"
          ]
        },
        {
          "output_type": "stream",
          "name": "stderr",
          "text": [
            "\n"
          ]
        },
        {
          "output_type": "stream",
          "name": "stdout",
          "text": [
            "Model summary: 129 layers, 3,011,043 parameters, 3,011,027 gradients, 8.2 GFLOPs\n",
            "\n",
            "Transferred 319/355 items from pretrained weights\n",
            "Freezing layer 'model.22.dfl.conv.weight'\n",
            "\u001b[34m\u001b[1mAMP: \u001b[0mrunning Automatic Mixed Precision (AMP) checks...\n",
            "Downloading https://github.com/ultralytics/assets/releases/download/v8.3.0/yolo11n.pt to 'yolo11n.pt'...\n"
          ]
        },
        {
          "output_type": "stream",
          "name": "stderr",
          "text": [
            "100%|██████████| 5.35M/5.35M [00:00<00:00, 421MB/s]\n"
          ]
        },
        {
          "output_type": "stream",
          "name": "stdout",
          "text": [
            "\u001b[34m\u001b[1mAMP: \u001b[0mchecks passed ✅\n",
            "\u001b[34m\u001b[1mtrain: \u001b[0mFast image access ✅ (ping: 0.0±0.0 ms, read: 1157.7±448.8 MB/s, size: 42.0 KB)\n"
          ]
        },
        {
          "output_type": "stream",
          "name": "stderr",
          "text": [
            "\u001b[34m\u001b[1mtrain: \u001b[0mScanning /content/yolo_gun_dataset/train/labels... 368 images, 0 backgrounds, 0 corrupt: 100%|██████████| 368/368 [00:00<00:00, 2477.84it/s]"
          ]
        },
        {
          "output_type": "stream",
          "name": "stdout",
          "text": [
            "\u001b[34m\u001b[1mtrain: \u001b[0mNew cache created: /content/yolo_gun_dataset/train/labels.cache\n"
          ]
        },
        {
          "output_type": "stream",
          "name": "stderr",
          "text": [
            "\n"
          ]
        },
        {
          "output_type": "stream",
          "name": "stdout",
          "text": [
            "\u001b[34m\u001b[1malbumentations: \u001b[0mBlur(p=0.01, blur_limit=(3, 7)), MedianBlur(p=0.01, blur_limit=(3, 7)), ToGray(p=0.01, method='weighted_average', num_output_channels=3), CLAHE(p=0.01, clip_limit=(1.0, 4.0), tile_grid_size=(8, 8))\n",
            "\u001b[34m\u001b[1mval: \u001b[0mFast image access ✅ (ping: 0.0±0.1 ms, read: 385.0±129.1 MB/s, size: 66.9 KB)\n"
          ]
        },
        {
          "output_type": "stream",
          "name": "stderr",
          "text": [
            "\u001b[34m\u001b[1mval: \u001b[0mScanning /content/yolo_gun_dataset/val/labels... 105 images, 1 backgrounds, 0 corrupt: 100%|██████████| 105/105 [00:00<00:00, 1584.03it/s]"
          ]
        },
        {
          "output_type": "stream",
          "name": "stdout",
          "text": [
            "\u001b[34m\u001b[1mval: \u001b[0mNew cache created: /content/yolo_gun_dataset/val/labels.cache\n"
          ]
        },
        {
          "output_type": "stream",
          "name": "stderr",
          "text": [
            "\n"
          ]
        },
        {
          "output_type": "stream",
          "name": "stdout",
          "text": [
            "Plotting labels to runs/detect/train/labels.jpg... \n",
            "\u001b[34m\u001b[1moptimizer:\u001b[0m 'optimizer=auto' found, ignoring 'lr0=0.01' and 'momentum=0.937' and determining best 'optimizer', 'lr0' and 'momentum' automatically... \n",
            "\u001b[34m\u001b[1moptimizer:\u001b[0m AdamW(lr=0.002, momentum=0.9) with parameter groups 57 weight(decay=0.0), 64 weight(decay=0.0005), 63 bias(decay=0.0)\n",
            "Image sizes 640 train, 640 val\n",
            "Using 2 dataloader workers\n",
            "Logging results to \u001b[1mruns/detect/train\u001b[0m\n",
            "Starting training for 50 epochs...\n",
            "\n",
            "      Epoch    GPU_mem   box_loss   cls_loss   dfl_loss  Instances       Size\n"
          ]
        },
        {
          "output_type": "stream",
          "name": "stderr",
          "text": [
            "       1/50      2.02G      1.816      3.141      1.846         47        640: 100%|██████████| 23/23 [00:07<00:00,  2.88it/s]\n",
            "                 Class     Images  Instances      Box(P          R      mAP50  mAP50-95): 100%|██████████| 4/4 [00:02<00:00,  1.89it/s]"
          ]
        },
        {
          "output_type": "stream",
          "name": "stdout",
          "text": [
            "                   all        105        126    0.00384       0.96      0.201     0.0942\n"
          ]
        },
        {
          "output_type": "stream",
          "name": "stderr",
          "text": [
            "\n"
          ]
        },
        {
          "output_type": "stream",
          "name": "stdout",
          "text": [
            "\n",
            "      Epoch    GPU_mem   box_loss   cls_loss   dfl_loss  Instances       Size\n"
          ]
        },
        {
          "output_type": "stream",
          "name": "stderr",
          "text": [
            "       2/50       2.5G       1.63      2.384      1.699         38        640: 100%|██████████| 23/23 [00:05<00:00,  4.14it/s]\n",
            "                 Class     Images  Instances      Box(P          R      mAP50  mAP50-95): 100%|██████████| 4/4 [00:01<00:00,  2.22it/s]"
          ]
        },
        {
          "output_type": "stream",
          "name": "stdout",
          "text": [
            "                   all        105        126        0.5      0.246      0.332      0.139\n"
          ]
        },
        {
          "output_type": "stream",
          "name": "stderr",
          "text": [
            "\n"
          ]
        },
        {
          "output_type": "stream",
          "name": "stdout",
          "text": [
            "\n",
            "      Epoch    GPU_mem   box_loss   cls_loss   dfl_loss  Instances       Size\n"
          ]
        },
        {
          "output_type": "stream",
          "name": "stderr",
          "text": [
            "       3/50      2.52G      1.594       2.17      1.662         51        640: 100%|██████████| 23/23 [00:05<00:00,  4.43it/s]\n",
            "                 Class     Images  Instances      Box(P          R      mAP50  mAP50-95): 100%|██████████| 4/4 [00:01<00:00,  3.09it/s]"
          ]
        },
        {
          "output_type": "stream",
          "name": "stdout",
          "text": [
            "                   all        105        126      0.428      0.452      0.409      0.193\n"
          ]
        },
        {
          "output_type": "stream",
          "name": "stderr",
          "text": [
            "\n"
          ]
        },
        {
          "output_type": "stream",
          "name": "stdout",
          "text": [
            "\n",
            "      Epoch    GPU_mem   box_loss   cls_loss   dfl_loss  Instances       Size\n"
          ]
        },
        {
          "output_type": "stream",
          "name": "stderr",
          "text": [
            "       4/50      2.54G      1.661      2.036      1.697         47        640: 100%|██████████| 23/23 [00:06<00:00,  3.57it/s]\n",
            "                 Class     Images  Instances      Box(P          R      mAP50  mAP50-95): 100%|██████████| 4/4 [00:01<00:00,  3.91it/s]"
          ]
        },
        {
          "output_type": "stream",
          "name": "stdout",
          "text": [
            "                   all        105        126       0.34      0.437      0.273     0.0962\n"
          ]
        },
        {
          "output_type": "stream",
          "name": "stderr",
          "text": [
            "\n"
          ]
        },
        {
          "output_type": "stream",
          "name": "stdout",
          "text": [
            "\n",
            "      Epoch    GPU_mem   box_loss   cls_loss   dfl_loss  Instances       Size\n"
          ]
        },
        {
          "output_type": "stream",
          "name": "stderr",
          "text": [
            "       5/50      2.55G      1.691      2.048      1.674         37        640: 100%|██████████| 23/23 [00:05<00:00,  4.34it/s]\n",
            "                 Class     Images  Instances      Box(P          R      mAP50  mAP50-95): 100%|██████████| 4/4 [00:01<00:00,  3.98it/s]"
          ]
        },
        {
          "output_type": "stream",
          "name": "stdout",
          "text": [
            "                   all        105        126      0.236       0.38      0.205     0.0825\n"
          ]
        },
        {
          "output_type": "stream",
          "name": "stderr",
          "text": [
            "\n"
          ]
        },
        {
          "output_type": "stream",
          "name": "stdout",
          "text": [
            "\n",
            "      Epoch    GPU_mem   box_loss   cls_loss   dfl_loss  Instances       Size\n"
          ]
        },
        {
          "output_type": "stream",
          "name": "stderr",
          "text": [
            "       6/50      2.57G      1.665      1.882      1.661         46        640: 100%|██████████| 23/23 [00:06<00:00,  3.61it/s]\n",
            "                 Class     Images  Instances      Box(P          R      mAP50  mAP50-95): 100%|██████████| 4/4 [00:01<00:00,  3.57it/s]"
          ]
        },
        {
          "output_type": "stream",
          "name": "stdout",
          "text": [
            "                   all        105        126      0.484      0.476      0.393      0.175\n"
          ]
        },
        {
          "output_type": "stream",
          "name": "stderr",
          "text": [
            "\n"
          ]
        },
        {
          "output_type": "stream",
          "name": "stdout",
          "text": [
            "\n",
            "      Epoch    GPU_mem   box_loss   cls_loss   dfl_loss  Instances       Size\n"
          ]
        },
        {
          "output_type": "stream",
          "name": "stderr",
          "text": [
            "       7/50      2.59G      1.702       1.78      1.647         36        640: 100%|██████████| 23/23 [00:05<00:00,  4.50it/s]\n",
            "                 Class     Images  Instances      Box(P          R      mAP50  mAP50-95): 100%|██████████| 4/4 [00:01<00:00,  3.73it/s]"
          ]
        },
        {
          "output_type": "stream",
          "name": "stdout",
          "text": [
            "                   all        105        126      0.428      0.522       0.47      0.193\n"
          ]
        },
        {
          "output_type": "stream",
          "name": "stderr",
          "text": [
            "\n"
          ]
        },
        {
          "output_type": "stream",
          "name": "stdout",
          "text": [
            "\n",
            "      Epoch    GPU_mem   box_loss   cls_loss   dfl_loss  Instances       Size\n"
          ]
        },
        {
          "output_type": "stream",
          "name": "stderr",
          "text": [
            "       8/50       2.6G      1.672      1.709      1.643         41        640: 100%|██████████| 23/23 [00:07<00:00,  3.07it/s]\n",
            "                 Class     Images  Instances      Box(P          R      mAP50  mAP50-95): 100%|██████████| 4/4 [00:01<00:00,  3.76it/s]"
          ]
        },
        {
          "output_type": "stream",
          "name": "stdout",
          "text": [
            "                   all        105        126      0.461      0.535      0.427      0.173\n"
          ]
        },
        {
          "output_type": "stream",
          "name": "stderr",
          "text": [
            "\n"
          ]
        },
        {
          "output_type": "stream",
          "name": "stdout",
          "text": [
            "\n",
            "      Epoch    GPU_mem   box_loss   cls_loss   dfl_loss  Instances       Size\n"
          ]
        },
        {
          "output_type": "stream",
          "name": "stderr",
          "text": [
            "       9/50      2.62G      1.636      1.644      1.634         35        640: 100%|██████████| 23/23 [00:05<00:00,  4.33it/s]\n",
            "                 Class     Images  Instances      Box(P          R      mAP50  mAP50-95): 100%|██████████| 4/4 [00:01<00:00,  2.07it/s]"
          ]
        },
        {
          "output_type": "stream",
          "name": "stdout",
          "text": [
            "                   all        105        126      0.544      0.625      0.573      0.276\n"
          ]
        },
        {
          "output_type": "stream",
          "name": "stderr",
          "text": [
            "\n"
          ]
        },
        {
          "output_type": "stream",
          "name": "stdout",
          "text": [
            "\n",
            "      Epoch    GPU_mem   box_loss   cls_loss   dfl_loss  Instances       Size\n"
          ]
        },
        {
          "output_type": "stream",
          "name": "stderr",
          "text": [
            "      10/50      2.64G       1.63      1.602      1.606         50        640: 100%|██████████| 23/23 [00:05<00:00,  4.48it/s]\n",
            "                 Class     Images  Instances      Box(P          R      mAP50  mAP50-95): 100%|██████████| 4/4 [00:01<00:00,  3.74it/s]"
          ]
        },
        {
          "output_type": "stream",
          "name": "stdout",
          "text": [
            "                   all        105        126      0.676       0.69       0.68      0.342\n"
          ]
        },
        {
          "output_type": "stream",
          "name": "stderr",
          "text": [
            "\n"
          ]
        },
        {
          "output_type": "stream",
          "name": "stdout",
          "text": [
            "\n",
            "      Epoch    GPU_mem   box_loss   cls_loss   dfl_loss  Instances       Size\n"
          ]
        },
        {
          "output_type": "stream",
          "name": "stderr",
          "text": [
            "      11/50      2.65G      1.581      1.448      1.577         38        640: 100%|██████████| 23/23 [00:06<00:00,  3.77it/s]\n",
            "                 Class     Images  Instances      Box(P          R      mAP50  mAP50-95): 100%|██████████| 4/4 [00:01<00:00,  3.22it/s]"
          ]
        },
        {
          "output_type": "stream",
          "name": "stdout",
          "text": [
            "                   all        105        126      0.658      0.635      0.658      0.308\n"
          ]
        },
        {
          "output_type": "stream",
          "name": "stderr",
          "text": [
            "\n"
          ]
        },
        {
          "output_type": "stream",
          "name": "stdout",
          "text": [
            "\n",
            "      Epoch    GPU_mem   box_loss   cls_loss   dfl_loss  Instances       Size\n"
          ]
        },
        {
          "output_type": "stream",
          "name": "stderr",
          "text": [
            "      12/50      2.67G      1.601      1.467      1.598         30        640: 100%|██████████| 23/23 [00:05<00:00,  4.26it/s]\n",
            "                 Class     Images  Instances      Box(P          R      mAP50  mAP50-95): 100%|██████████| 4/4 [00:01<00:00,  3.75it/s]"
          ]
        },
        {
          "output_type": "stream",
          "name": "stdout",
          "text": [
            "                   all        105        126      0.654      0.651      0.654      0.282\n"
          ]
        },
        {
          "output_type": "stream",
          "name": "stderr",
          "text": [
            "\n"
          ]
        },
        {
          "output_type": "stream",
          "name": "stdout",
          "text": [
            "\n",
            "      Epoch    GPU_mem   box_loss   cls_loss   dfl_loss  Instances       Size\n"
          ]
        },
        {
          "output_type": "stream",
          "name": "stderr",
          "text": [
            "      13/50      2.69G      1.557      1.414      1.542         42        640: 100%|██████████| 23/23 [00:06<00:00,  3.73it/s]\n",
            "                 Class     Images  Instances      Box(P          R      mAP50  mAP50-95): 100%|██████████| 4/4 [00:01<00:00,  3.41it/s]"
          ]
        },
        {
          "output_type": "stream",
          "name": "stdout",
          "text": [
            "                   all        105        126      0.613      0.659      0.611      0.264\n"
          ]
        },
        {
          "output_type": "stream",
          "name": "stderr",
          "text": [
            "\n"
          ]
        },
        {
          "output_type": "stream",
          "name": "stdout",
          "text": [
            "\n",
            "      Epoch    GPU_mem   box_loss   cls_loss   dfl_loss  Instances       Size\n"
          ]
        },
        {
          "output_type": "stream",
          "name": "stderr",
          "text": [
            "      14/50      2.71G      1.558      1.347      1.557         41        640: 100%|██████████| 23/23 [00:05<00:00,  4.45it/s]\n",
            "                 Class     Images  Instances      Box(P          R      mAP50  mAP50-95): 100%|██████████| 4/4 [00:01<00:00,  3.81it/s]"
          ]
        },
        {
          "output_type": "stream",
          "name": "stdout",
          "text": [
            "                   all        105        126      0.735      0.675      0.649        0.3\n"
          ]
        },
        {
          "output_type": "stream",
          "name": "stderr",
          "text": [
            "\n"
          ]
        },
        {
          "output_type": "stream",
          "name": "stdout",
          "text": [
            "\n",
            "      Epoch    GPU_mem   box_loss   cls_loss   dfl_loss  Instances       Size\n"
          ]
        },
        {
          "output_type": "stream",
          "name": "stderr",
          "text": [
            "      15/50      2.72G      1.592      1.379      1.564         34        640: 100%|██████████| 23/23 [00:06<00:00,  3.72it/s]\n",
            "                 Class     Images  Instances      Box(P          R      mAP50  mAP50-95): 100%|██████████| 4/4 [00:01<00:00,  3.68it/s]"
          ]
        },
        {
          "output_type": "stream",
          "name": "stdout",
          "text": [
            "                   all        105        126      0.731      0.603      0.637      0.308\n"
          ]
        },
        {
          "output_type": "stream",
          "name": "stderr",
          "text": [
            "\n"
          ]
        },
        {
          "output_type": "stream",
          "name": "stdout",
          "text": [
            "\n",
            "      Epoch    GPU_mem   box_loss   cls_loss   dfl_loss  Instances       Size\n"
          ]
        },
        {
          "output_type": "stream",
          "name": "stderr",
          "text": [
            "      16/50      2.74G      1.608      1.499      1.575         26        640: 100%|██████████| 23/23 [00:05<00:00,  4.39it/s]\n",
            "                 Class     Images  Instances      Box(P          R      mAP50  mAP50-95): 100%|██████████| 4/4 [00:01<00:00,  3.61it/s]"
          ]
        },
        {
          "output_type": "stream",
          "name": "stdout",
          "text": [
            "                   all        105        126       0.82      0.635      0.688      0.334\n"
          ]
        },
        {
          "output_type": "stream",
          "name": "stderr",
          "text": [
            "\n"
          ]
        },
        {
          "output_type": "stream",
          "name": "stdout",
          "text": [
            "\n",
            "      Epoch    GPU_mem   box_loss   cls_loss   dfl_loss  Instances       Size\n"
          ]
        },
        {
          "output_type": "stream",
          "name": "stderr",
          "text": [
            "      17/50      2.76G      1.562      1.367      1.566         27        640: 100%|██████████| 23/23 [00:06<00:00,  3.71it/s]\n",
            "                 Class     Images  Instances      Box(P          R      mAP50  mAP50-95): 100%|██████████| 4/4 [00:01<00:00,  3.57it/s]"
          ]
        },
        {
          "output_type": "stream",
          "name": "stdout",
          "text": [
            "                   all        105        126      0.784      0.691      0.729      0.355\n"
          ]
        },
        {
          "output_type": "stream",
          "name": "stderr",
          "text": [
            "\n"
          ]
        },
        {
          "output_type": "stream",
          "name": "stdout",
          "text": [
            "\n",
            "      Epoch    GPU_mem   box_loss   cls_loss   dfl_loss  Instances       Size\n"
          ]
        },
        {
          "output_type": "stream",
          "name": "stderr",
          "text": [
            "      18/50      2.77G      1.494      1.256       1.51         35        640: 100%|██████████| 23/23 [00:05<00:00,  4.43it/s]\n",
            "                 Class     Images  Instances      Box(P          R      mAP50  mAP50-95): 100%|██████████| 4/4 [00:01<00:00,  2.56it/s]"
          ]
        },
        {
          "output_type": "stream",
          "name": "stdout",
          "text": [
            "                   all        105        126      0.827       0.69      0.702      0.348\n"
          ]
        },
        {
          "output_type": "stream",
          "name": "stderr",
          "text": [
            "\n"
          ]
        },
        {
          "output_type": "stream",
          "name": "stdout",
          "text": [
            "\n",
            "      Epoch    GPU_mem   box_loss   cls_loss   dfl_loss  Instances       Size\n"
          ]
        },
        {
          "output_type": "stream",
          "name": "stderr",
          "text": [
            "      19/50      2.79G      1.517      1.259      1.499         47        640: 100%|██████████| 23/23 [00:05<00:00,  4.03it/s]\n",
            "                 Class     Images  Instances      Box(P          R      mAP50  mAP50-95): 100%|██████████| 4/4 [00:00<00:00,  4.09it/s]"
          ]
        },
        {
          "output_type": "stream",
          "name": "stdout",
          "text": [
            "                   all        105        126      0.749      0.712      0.742      0.374\n"
          ]
        },
        {
          "output_type": "stream",
          "name": "stderr",
          "text": [
            "\n"
          ]
        },
        {
          "output_type": "stream",
          "name": "stdout",
          "text": [
            "\n",
            "      Epoch    GPU_mem   box_loss   cls_loss   dfl_loss  Instances       Size\n"
          ]
        },
        {
          "output_type": "stream",
          "name": "stderr",
          "text": [
            "      20/50      2.81G      1.514      1.287      1.499         37        640: 100%|██████████| 23/23 [00:05<00:00,  4.33it/s]\n",
            "                 Class     Images  Instances      Box(P          R      mAP50  mAP50-95): 100%|██████████| 4/4 [00:01<00:00,  2.23it/s]"
          ]
        },
        {
          "output_type": "stream",
          "name": "stdout",
          "text": [
            "                   all        105        126      0.811      0.675      0.722      0.349\n"
          ]
        },
        {
          "output_type": "stream",
          "name": "stderr",
          "text": [
            "\n"
          ]
        },
        {
          "output_type": "stream",
          "name": "stdout",
          "text": [
            "\n",
            "      Epoch    GPU_mem   box_loss   cls_loss   dfl_loss  Instances       Size\n"
          ]
        },
        {
          "output_type": "stream",
          "name": "stderr",
          "text": [
            "      21/50      2.83G      1.449      1.181      1.458         35        640: 100%|██████████| 23/23 [00:05<00:00,  4.51it/s]\n",
            "                 Class     Images  Instances      Box(P          R      mAP50  mAP50-95): 100%|██████████| 4/4 [00:01<00:00,  3.79it/s]"
          ]
        },
        {
          "output_type": "stream",
          "name": "stdout",
          "text": [
            "                   all        105        126      0.804      0.683      0.721      0.361\n"
          ]
        },
        {
          "output_type": "stream",
          "name": "stderr",
          "text": [
            "\n"
          ]
        },
        {
          "output_type": "stream",
          "name": "stdout",
          "text": [
            "\n",
            "      Epoch    GPU_mem   box_loss   cls_loss   dfl_loss  Instances       Size\n"
          ]
        },
        {
          "output_type": "stream",
          "name": "stderr",
          "text": [
            "      22/50      2.84G      1.495      1.238      1.513         38        640: 100%|██████████| 23/23 [00:06<00:00,  3.74it/s]\n",
            "                 Class     Images  Instances      Box(P          R      mAP50  mAP50-95): 100%|██████████| 4/4 [00:01<00:00,  2.98it/s]"
          ]
        },
        {
          "output_type": "stream",
          "name": "stdout",
          "text": [
            "                   all        105        126       0.84      0.683      0.726      0.363\n"
          ]
        },
        {
          "output_type": "stream",
          "name": "stderr",
          "text": [
            "\n"
          ]
        },
        {
          "output_type": "stream",
          "name": "stdout",
          "text": [
            "\n",
            "      Epoch    GPU_mem   box_loss   cls_loss   dfl_loss  Instances       Size\n"
          ]
        },
        {
          "output_type": "stream",
          "name": "stderr",
          "text": [
            "      23/50      2.86G      1.424      1.184      1.429         32        640: 100%|██████████| 23/23 [00:05<00:00,  4.40it/s]\n",
            "                 Class     Images  Instances      Box(P          R      mAP50  mAP50-95): 100%|██████████| 4/4 [00:01<00:00,  3.91it/s]"
          ]
        },
        {
          "output_type": "stream",
          "name": "stdout",
          "text": [
            "                   all        105        126      0.794      0.674      0.729       0.37\n"
          ]
        },
        {
          "output_type": "stream",
          "name": "stderr",
          "text": [
            "\n"
          ]
        },
        {
          "output_type": "stream",
          "name": "stdout",
          "text": [
            "\n",
            "      Epoch    GPU_mem   box_loss   cls_loss   dfl_loss  Instances       Size\n"
          ]
        },
        {
          "output_type": "stream",
          "name": "stderr",
          "text": [
            "      24/50      2.88G      1.453        1.2      1.459         36        640: 100%|██████████| 23/23 [00:06<00:00,  3.56it/s]\n",
            "                 Class     Images  Instances      Box(P          R      mAP50  mAP50-95): 100%|██████████| 4/4 [00:00<00:00,  4.32it/s]"
          ]
        },
        {
          "output_type": "stream",
          "name": "stdout",
          "text": [
            "                   all        105        126       0.78      0.722       0.74      0.398\n"
          ]
        },
        {
          "output_type": "stream",
          "name": "stderr",
          "text": [
            "\n"
          ]
        },
        {
          "output_type": "stream",
          "name": "stdout",
          "text": [
            "\n",
            "      Epoch    GPU_mem   box_loss   cls_loss   dfl_loss  Instances       Size\n"
          ]
        },
        {
          "output_type": "stream",
          "name": "stderr",
          "text": [
            "      25/50      2.89G      1.432      1.223      1.431         52        640: 100%|██████████| 23/23 [00:05<00:00,  4.49it/s]\n",
            "                 Class     Images  Instances      Box(P          R      mAP50  mAP50-95): 100%|██████████| 4/4 [00:01<00:00,  3.44it/s]"
          ]
        },
        {
          "output_type": "stream",
          "name": "stdout",
          "text": [
            "                   all        105        126      0.823      0.701      0.725      0.358\n"
          ]
        },
        {
          "output_type": "stream",
          "name": "stderr",
          "text": [
            "\n"
          ]
        },
        {
          "output_type": "stream",
          "name": "stdout",
          "text": [
            "\n",
            "      Epoch    GPU_mem   box_loss   cls_loss   dfl_loss  Instances       Size\n"
          ]
        },
        {
          "output_type": "stream",
          "name": "stderr",
          "text": [
            "      26/50      2.91G      1.445       1.21      1.457         37        640: 100%|██████████| 23/23 [00:06<00:00,  3.68it/s]\n",
            "                 Class     Images  Instances      Box(P          R      mAP50  mAP50-95): 100%|██████████| 4/4 [00:01<00:00,  3.97it/s]"
          ]
        },
        {
          "output_type": "stream",
          "name": "stdout",
          "text": [
            "                   all        105        126      0.762      0.712       0.69      0.382\n"
          ]
        },
        {
          "output_type": "stream",
          "name": "stderr",
          "text": [
            "\n"
          ]
        },
        {
          "output_type": "stream",
          "name": "stdout",
          "text": [
            "\n",
            "      Epoch    GPU_mem   box_loss   cls_loss   dfl_loss  Instances       Size\n"
          ]
        },
        {
          "output_type": "stream",
          "name": "stderr",
          "text": [
            "      27/50      2.93G      1.424      1.098      1.446         56        640: 100%|██████████| 23/23 [00:05<00:00,  4.46it/s]\n",
            "                 Class     Images  Instances      Box(P          R      mAP50  mAP50-95): 100%|██████████| 4/4 [00:00<00:00,  4.02it/s]"
          ]
        },
        {
          "output_type": "stream",
          "name": "stdout",
          "text": [
            "                   all        105        126      0.806      0.693      0.729      0.363\n"
          ]
        },
        {
          "output_type": "stream",
          "name": "stderr",
          "text": [
            "\n"
          ]
        },
        {
          "output_type": "stream",
          "name": "stdout",
          "text": [
            "\n",
            "      Epoch    GPU_mem   box_loss   cls_loss   dfl_loss  Instances       Size\n"
          ]
        },
        {
          "output_type": "stream",
          "name": "stderr",
          "text": [
            "      28/50      2.95G      1.441       1.09      1.444         27        640: 100%|██████████| 23/23 [00:06<00:00,  3.67it/s]\n",
            "                 Class     Images  Instances      Box(P          R      mAP50  mAP50-95): 100%|██████████| 4/4 [00:01<00:00,  3.66it/s]"
          ]
        },
        {
          "output_type": "stream",
          "name": "stdout",
          "text": [
            "                   all        105        126      0.742      0.683      0.676      0.358\n"
          ]
        },
        {
          "output_type": "stream",
          "name": "stderr",
          "text": [
            "\n"
          ]
        },
        {
          "output_type": "stream",
          "name": "stdout",
          "text": [
            "\n",
            "      Epoch    GPU_mem   box_loss   cls_loss   dfl_loss  Instances       Size\n"
          ]
        },
        {
          "output_type": "stream",
          "name": "stderr",
          "text": [
            "      29/50      2.96G      1.413      1.086      1.431         33        640: 100%|██████████| 23/23 [00:05<00:00,  4.38it/s]\n",
            "                 Class     Images  Instances      Box(P          R      mAP50  mAP50-95): 100%|██████████| 4/4 [00:01<00:00,  2.57it/s]"
          ]
        },
        {
          "output_type": "stream",
          "name": "stdout",
          "text": [
            "                   all        105        126      0.764      0.714      0.689      0.362\n"
          ]
        },
        {
          "output_type": "stream",
          "name": "stderr",
          "text": [
            "\n"
          ]
        },
        {
          "output_type": "stream",
          "name": "stdout",
          "text": [
            "\n",
            "      Epoch    GPU_mem   box_loss   cls_loss   dfl_loss  Instances       Size\n"
          ]
        },
        {
          "output_type": "stream",
          "name": "stderr",
          "text": [
            "      30/50      2.98G      1.367      1.048      1.409         43        640: 100%|██████████| 23/23 [00:05<00:00,  4.08it/s]\n",
            "                 Class     Images  Instances      Box(P          R      mAP50  mAP50-95): 100%|██████████| 4/4 [00:01<00:00,  3.46it/s]"
          ]
        },
        {
          "output_type": "stream",
          "name": "stdout",
          "text": [
            "                   all        105        126      0.794       0.69      0.717      0.384\n"
          ]
        },
        {
          "output_type": "stream",
          "name": "stderr",
          "text": [
            "\n"
          ]
        },
        {
          "output_type": "stream",
          "name": "stdout",
          "text": [
            "\n",
            "      Epoch    GPU_mem   box_loss   cls_loss   dfl_loss  Instances       Size\n"
          ]
        },
        {
          "output_type": "stream",
          "name": "stderr",
          "text": [
            "      31/50         3G      1.313      1.032      1.351         36        640: 100%|██████████| 23/23 [00:05<00:00,  4.03it/s]\n",
            "                 Class     Images  Instances      Box(P          R      mAP50  mAP50-95): 100%|██████████| 4/4 [00:01<00:00,  2.46it/s]"
          ]
        },
        {
          "output_type": "stream",
          "name": "stdout",
          "text": [
            "                   all        105        126      0.756      0.746      0.719      0.392\n"
          ]
        },
        {
          "output_type": "stream",
          "name": "stderr",
          "text": [
            "\n"
          ]
        },
        {
          "output_type": "stream",
          "name": "stdout",
          "text": [
            "\n",
            "      Epoch    GPU_mem   box_loss   cls_loss   dfl_loss  Instances       Size\n"
          ]
        },
        {
          "output_type": "stream",
          "name": "stderr",
          "text": [
            "      32/50      3.01G      1.399       1.08      1.416         29        640: 100%|██████████| 23/23 [00:05<00:00,  4.43it/s]\n",
            "                 Class     Images  Instances      Box(P          R      mAP50  mAP50-95): 100%|██████████| 4/4 [00:01<00:00,  3.64it/s]"
          ]
        },
        {
          "output_type": "stream",
          "name": "stdout",
          "text": [
            "                   all        105        126      0.796      0.714      0.746      0.384\n"
          ]
        },
        {
          "output_type": "stream",
          "name": "stderr",
          "text": [
            "\n"
          ]
        },
        {
          "output_type": "stream",
          "name": "stdout",
          "text": [
            "\n",
            "      Epoch    GPU_mem   box_loss   cls_loss   dfl_loss  Instances       Size\n"
          ]
        },
        {
          "output_type": "stream",
          "name": "stderr",
          "text": [
            "      33/50      3.03G      1.358      1.039      1.377         34        640: 100%|██████████| 23/23 [00:06<00:00,  3.83it/s]\n",
            "                 Class     Images  Instances      Box(P          R      mAP50  mAP50-95): 100%|██████████| 4/4 [00:01<00:00,  3.27it/s]"
          ]
        },
        {
          "output_type": "stream",
          "name": "stdout",
          "text": [
            "                   all        105        126      0.833      0.722      0.742       0.39\n"
          ]
        },
        {
          "output_type": "stream",
          "name": "stderr",
          "text": [
            "\n"
          ]
        },
        {
          "output_type": "stream",
          "name": "stdout",
          "text": [
            "\n",
            "      Epoch    GPU_mem   box_loss   cls_loss   dfl_loss  Instances       Size\n"
          ]
        },
        {
          "output_type": "stream",
          "name": "stderr",
          "text": [
            "      34/50      3.05G      1.314      1.034      1.369         37        640: 100%|██████████| 23/23 [00:05<00:00,  4.58it/s]\n",
            "                 Class     Images  Instances      Box(P          R      mAP50  mAP50-95): 100%|██████████| 4/4 [00:01<00:00,  3.32it/s]"
          ]
        },
        {
          "output_type": "stream",
          "name": "stdout",
          "text": [
            "                   all        105        126      0.825       0.71      0.735      0.385\n"
          ]
        },
        {
          "output_type": "stream",
          "name": "stderr",
          "text": [
            "\n"
          ]
        },
        {
          "output_type": "stream",
          "name": "stdout",
          "text": [
            "\n",
            "      Epoch    GPU_mem   box_loss   cls_loss   dfl_loss  Instances       Size\n"
          ]
        },
        {
          "output_type": "stream",
          "name": "stderr",
          "text": [
            "      35/50      3.06G      1.373      1.068      1.405         35        640: 100%|██████████| 23/23 [00:06<00:00,  3.72it/s]\n",
            "                 Class     Images  Instances      Box(P          R      mAP50  mAP50-95): 100%|██████████| 4/4 [00:01<00:00,  3.32it/s]"
          ]
        },
        {
          "output_type": "stream",
          "name": "stdout",
          "text": [
            "                   all        105        126       0.81       0.73      0.762      0.414\n"
          ]
        },
        {
          "output_type": "stream",
          "name": "stderr",
          "text": [
            "\n"
          ]
        },
        {
          "output_type": "stream",
          "name": "stdout",
          "text": [
            "\n",
            "      Epoch    GPU_mem   box_loss   cls_loss   dfl_loss  Instances       Size\n"
          ]
        },
        {
          "output_type": "stream",
          "name": "stderr",
          "text": [
            "      36/50      3.08G      1.387      1.041       1.41         32        640: 100%|██████████| 23/23 [00:05<00:00,  4.42it/s]\n",
            "                 Class     Images  Instances      Box(P          R      mAP50  mAP50-95): 100%|██████████| 4/4 [00:01<00:00,  3.75it/s]"
          ]
        },
        {
          "output_type": "stream",
          "name": "stdout",
          "text": [
            "                   all        105        126      0.801      0.754      0.743      0.413\n"
          ]
        },
        {
          "output_type": "stream",
          "name": "stderr",
          "text": [
            "\n"
          ]
        },
        {
          "output_type": "stream",
          "name": "stdout",
          "text": [
            "\n",
            "      Epoch    GPU_mem   box_loss   cls_loss   dfl_loss  Instances       Size\n"
          ]
        },
        {
          "output_type": "stream",
          "name": "stderr",
          "text": [
            "      37/50       3.1G      1.397      1.061      1.416         37        640: 100%|██████████| 23/23 [00:06<00:00,  3.63it/s]\n",
            "                 Class     Images  Instances      Box(P          R      mAP50  mAP50-95): 100%|██████████| 4/4 [00:01<00:00,  3.54it/s]"
          ]
        },
        {
          "output_type": "stream",
          "name": "stdout",
          "text": [
            "                   all        105        126      0.777      0.772      0.759      0.423\n"
          ]
        },
        {
          "output_type": "stream",
          "name": "stderr",
          "text": [
            "\n"
          ]
        },
        {
          "output_type": "stream",
          "name": "stdout",
          "text": [
            "\n",
            "      Epoch    GPU_mem   box_loss   cls_loss   dfl_loss  Instances       Size\n"
          ]
        },
        {
          "output_type": "stream",
          "name": "stderr",
          "text": [
            "      38/50      3.12G      1.324      1.054      1.387         40        640: 100%|██████████| 23/23 [00:05<00:00,  4.28it/s]\n",
            "                 Class     Images  Instances      Box(P          R      mAP50  mAP50-95): 100%|██████████| 4/4 [00:01<00:00,  3.98it/s]"
          ]
        },
        {
          "output_type": "stream",
          "name": "stdout",
          "text": [
            "                   all        105        126      0.794       0.77      0.749      0.401\n"
          ]
        },
        {
          "output_type": "stream",
          "name": "stderr",
          "text": [
            "\n"
          ]
        },
        {
          "output_type": "stream",
          "name": "stdout",
          "text": [
            "\n",
            "      Epoch    GPU_mem   box_loss   cls_loss   dfl_loss  Instances       Size\n"
          ]
        },
        {
          "output_type": "stream",
          "name": "stderr",
          "text": [
            "      39/50      3.13G       1.31     0.9805      1.382         32        640: 100%|██████████| 23/23 [00:06<00:00,  3.72it/s]\n",
            "                 Class     Images  Instances      Box(P          R      mAP50  mAP50-95): 100%|██████████| 4/4 [00:01<00:00,  3.57it/s]"
          ]
        },
        {
          "output_type": "stream",
          "name": "stdout",
          "text": [
            "                   all        105        126      0.797       0.77      0.739      0.415\n"
          ]
        },
        {
          "output_type": "stream",
          "name": "stderr",
          "text": [
            "\n"
          ]
        },
        {
          "output_type": "stream",
          "name": "stdout",
          "text": [
            "\n",
            "      Epoch    GPU_mem   box_loss   cls_loss   dfl_loss  Instances       Size\n"
          ]
        },
        {
          "output_type": "stream",
          "name": "stderr",
          "text": [
            "      40/50      3.15G      1.296     0.9334      1.336         32        640: 100%|██████████| 23/23 [00:05<00:00,  4.51it/s]\n",
            "                 Class     Images  Instances      Box(P          R      mAP50  mAP50-95): 100%|██████████| 4/4 [00:01<00:00,  2.60it/s]\n"
          ]
        },
        {
          "output_type": "stream",
          "name": "stdout",
          "text": [
            "                   all        105        126      0.762       0.77      0.721       0.41\n",
            "Closing dataloader mosaic\n",
            "\u001b[34m\u001b[1malbumentations: \u001b[0mBlur(p=0.01, blur_limit=(3, 7)), MedianBlur(p=0.01, blur_limit=(3, 7)), ToGray(p=0.01, method='weighted_average', num_output_channels=3), CLAHE(p=0.01, clip_limit=(1.0, 4.0), tile_grid_size=(8, 8))\n",
            "\n",
            "      Epoch    GPU_mem   box_loss   cls_loss   dfl_loss  Instances       Size\n"
          ]
        },
        {
          "output_type": "stream",
          "name": "stderr",
          "text": [
            "      41/50      3.17G      1.281      0.914       1.39         22        640: 100%|██████████| 23/23 [00:06<00:00,  3.49it/s]\n",
            "                 Class     Images  Instances      Box(P          R      mAP50  mAP50-95): 100%|██████████| 4/4 [00:01<00:00,  3.81it/s]"
          ]
        },
        {
          "output_type": "stream",
          "name": "stdout",
          "text": [
            "                   all        105        126      0.768      0.761      0.714      0.405\n"
          ]
        },
        {
          "output_type": "stream",
          "name": "stderr",
          "text": [
            "\n"
          ]
        },
        {
          "output_type": "stream",
          "name": "stdout",
          "text": [
            "\n",
            "      Epoch    GPU_mem   box_loss   cls_loss   dfl_loss  Instances       Size\n"
          ]
        },
        {
          "output_type": "stream",
          "name": "stderr",
          "text": [
            "      42/50      3.18G      1.307     0.9027      1.412         20        640: 100%|██████████| 23/23 [00:06<00:00,  3.61it/s]\n",
            "                 Class     Images  Instances      Box(P          R      mAP50  mAP50-95): 100%|██████████| 4/4 [00:00<00:00,  4.21it/s]"
          ]
        },
        {
          "output_type": "stream",
          "name": "stdout",
          "text": [
            "                   all        105        126      0.803      0.745      0.697      0.387\n"
          ]
        },
        {
          "output_type": "stream",
          "name": "stderr",
          "text": [
            "\n"
          ]
        },
        {
          "output_type": "stream",
          "name": "stdout",
          "text": [
            "\n",
            "      Epoch    GPU_mem   box_loss   cls_loss   dfl_loss  Instances       Size\n"
          ]
        },
        {
          "output_type": "stream",
          "name": "stderr",
          "text": [
            "      43/50       3.2G      1.284     0.8509      1.412         18        640: 100%|██████████| 23/23 [00:04<00:00,  4.69it/s]\n",
            "                 Class     Images  Instances      Box(P          R      mAP50  mAP50-95): 100%|██████████| 4/4 [00:01<00:00,  3.37it/s]"
          ]
        },
        {
          "output_type": "stream",
          "name": "stdout",
          "text": [
            "                   all        105        126      0.771      0.738       0.74      0.422\n"
          ]
        },
        {
          "output_type": "stream",
          "name": "stderr",
          "text": [
            "\n"
          ]
        },
        {
          "output_type": "stream",
          "name": "stdout",
          "text": [
            "\n",
            "      Epoch    GPU_mem   box_loss   cls_loss   dfl_loss  Instances       Size\n"
          ]
        },
        {
          "output_type": "stream",
          "name": "stderr",
          "text": [
            "      44/50      3.22G      1.241     0.8463      1.359         23        640: 100%|██████████| 23/23 [00:06<00:00,  3.80it/s]\n",
            "                 Class     Images  Instances      Box(P          R      mAP50  mAP50-95): 100%|██████████| 4/4 [00:01<00:00,  3.88it/s]"
          ]
        },
        {
          "output_type": "stream",
          "name": "stdout",
          "text": [
            "                   all        105        126      0.763      0.768      0.751       0.41\n"
          ]
        },
        {
          "output_type": "stream",
          "name": "stderr",
          "text": [
            "\n"
          ]
        },
        {
          "output_type": "stream",
          "name": "stdout",
          "text": [
            "\n",
            "      Epoch    GPU_mem   box_loss   cls_loss   dfl_loss  Instances       Size\n"
          ]
        },
        {
          "output_type": "stream",
          "name": "stderr",
          "text": [
            "      45/50      3.24G      1.221     0.8029      1.343         20        640: 100%|██████████| 23/23 [00:04<00:00,  4.76it/s]\n",
            "                 Class     Images  Instances      Box(P          R      mAP50  mAP50-95): 100%|██████████| 4/4 [00:00<00:00,  4.17it/s]"
          ]
        },
        {
          "output_type": "stream",
          "name": "stdout",
          "text": [
            "                   all        105        126       0.79      0.754      0.761      0.419\n"
          ]
        },
        {
          "output_type": "stream",
          "name": "stderr",
          "text": [
            "\n"
          ]
        },
        {
          "output_type": "stream",
          "name": "stdout",
          "text": [
            "\n",
            "      Epoch    GPU_mem   box_loss   cls_loss   dfl_loss  Instances       Size\n"
          ]
        },
        {
          "output_type": "stream",
          "name": "stderr",
          "text": [
            "      46/50      3.25G      1.253     0.8096      1.339         22        640: 100%|██████████| 23/23 [00:06<00:00,  3.75it/s]\n",
            "                 Class     Images  Instances      Box(P          R      mAP50  mAP50-95): 100%|██████████| 4/4 [00:00<00:00,  4.04it/s]"
          ]
        },
        {
          "output_type": "stream",
          "name": "stdout",
          "text": [
            "                   all        105        126      0.772       0.77      0.747      0.427\n"
          ]
        },
        {
          "output_type": "stream",
          "name": "stderr",
          "text": [
            "\n"
          ]
        },
        {
          "output_type": "stream",
          "name": "stdout",
          "text": [
            "\n",
            "      Epoch    GPU_mem   box_loss   cls_loss   dfl_loss  Instances       Size\n"
          ]
        },
        {
          "output_type": "stream",
          "name": "stderr",
          "text": [
            "      47/50      3.27G      1.224     0.7788      1.343         18        640: 100%|██████████| 23/23 [00:04<00:00,  4.66it/s]\n",
            "                 Class     Images  Instances      Box(P          R      mAP50  mAP50-95): 100%|██████████| 4/4 [00:00<00:00,  4.29it/s]"
          ]
        },
        {
          "output_type": "stream",
          "name": "stdout",
          "text": [
            "                   all        105        126      0.784      0.807      0.779      0.429\n"
          ]
        },
        {
          "output_type": "stream",
          "name": "stderr",
          "text": [
            "\n"
          ]
        },
        {
          "output_type": "stream",
          "name": "stdout",
          "text": [
            "\n",
            "      Epoch    GPU_mem   box_loss   cls_loss   dfl_loss  Instances       Size\n"
          ]
        },
        {
          "output_type": "stream",
          "name": "stderr",
          "text": [
            "      48/50      3.29G      1.212     0.7672      1.345         22        640: 100%|██████████| 23/23 [00:06<00:00,  3.77it/s]\n",
            "                 Class     Images  Instances      Box(P          R      mAP50  mAP50-95): 100%|██████████| 4/4 [00:00<00:00,  4.58it/s]"
          ]
        },
        {
          "output_type": "stream",
          "name": "stdout",
          "text": [
            "                   all        105        126      0.792      0.786      0.783      0.432\n"
          ]
        },
        {
          "output_type": "stream",
          "name": "stderr",
          "text": [
            "\n"
          ]
        },
        {
          "output_type": "stream",
          "name": "stdout",
          "text": [
            "\n",
            "      Epoch    GPU_mem   box_loss   cls_loss   dfl_loss  Instances       Size\n"
          ]
        },
        {
          "output_type": "stream",
          "name": "stderr",
          "text": [
            "      49/50       3.3G      1.222     0.7954      1.356         20        640: 100%|██████████| 23/23 [00:04<00:00,  4.66it/s]\n",
            "                 Class     Images  Instances      Box(P          R      mAP50  mAP50-95): 100%|██████████| 4/4 [00:01<00:00,  3.77it/s]"
          ]
        },
        {
          "output_type": "stream",
          "name": "stdout",
          "text": [
            "                   all        105        126      0.764      0.817      0.783      0.437\n"
          ]
        },
        {
          "output_type": "stream",
          "name": "stderr",
          "text": [
            "\n"
          ]
        },
        {
          "output_type": "stream",
          "name": "stdout",
          "text": [
            "\n",
            "      Epoch    GPU_mem   box_loss   cls_loss   dfl_loss  Instances       Size\n"
          ]
        },
        {
          "output_type": "stream",
          "name": "stderr",
          "text": [
            "      50/50      3.32G      1.201     0.7529      1.327         25        640: 100%|██████████| 23/23 [00:06<00:00,  3.81it/s]\n",
            "                 Class     Images  Instances      Box(P          R      mAP50  mAP50-95): 100%|██████████| 4/4 [00:00<00:00,  4.46it/s]"
          ]
        },
        {
          "output_type": "stream",
          "name": "stdout",
          "text": [
            "                   all        105        126      0.766      0.802      0.797      0.442\n"
          ]
        },
        {
          "output_type": "stream",
          "name": "stderr",
          "text": [
            "\n"
          ]
        },
        {
          "output_type": "stream",
          "name": "stdout",
          "text": [
            "\n",
            "50 epochs completed in 0.100 hours.\n",
            "Optimizer stripped from runs/detect/train/weights/last.pt, 6.2MB\n",
            "Optimizer stripped from runs/detect/train/weights/best.pt, 6.2MB\n",
            "\n",
            "Validating runs/detect/train/weights/best.pt...\n",
            "Ultralytics 8.3.168 🚀 Python-3.11.13 torch-2.6.0+cu124 CUDA:0 (Tesla T4, 15095MiB)\n",
            "Model summary (fused): 72 layers, 3,005,843 parameters, 0 gradients, 8.1 GFLOPs\n"
          ]
        },
        {
          "output_type": "stream",
          "name": "stderr",
          "text": [
            "                 Class     Images  Instances      Box(P          R      mAP50  mAP50-95): 100%|██████████| 4/4 [00:01<00:00,  2.09it/s]\n"
          ]
        },
        {
          "output_type": "stream",
          "name": "stdout",
          "text": [
            "                   all        105        126      0.766      0.802      0.797      0.442\n",
            "Speed: 0.3ms preprocess, 2.3ms inference, 0.0ms loss, 4.9ms postprocess per image\n",
            "Results saved to \u001b[1mruns/detect/train\u001b[0m\n"
          ]
        },
        {
          "output_type": "execute_result",
          "data": {
            "text/plain": [
              "ultralytics.utils.metrics.DetMetrics object with attributes:\n",
              "\n",
              "ap_class_index: array([0])\n",
              "box: ultralytics.utils.metrics.Metric object\n",
              "confusion_matrix: <ultralytics.utils.metrics.ConfusionMatrix object at 0x7c7033a15110>\n",
              "curves: ['Precision-Recall(B)', 'F1-Confidence(B)', 'Precision-Confidence(B)', 'Recall-Confidence(B)']\n",
              "curves_results: [[array([          0,    0.001001,    0.002002,    0.003003,    0.004004,    0.005005,    0.006006,    0.007007,    0.008008,    0.009009,     0.01001,    0.011011,    0.012012,    0.013013,    0.014014,    0.015015,    0.016016,    0.017017,    0.018018,    0.019019,     0.02002,    0.021021,    0.022022,    0.023023,\n",
              "          0.024024,    0.025025,    0.026026,    0.027027,    0.028028,    0.029029,     0.03003,    0.031031,    0.032032,    0.033033,    0.034034,    0.035035,    0.036036,    0.037037,    0.038038,    0.039039,     0.04004,    0.041041,    0.042042,    0.043043,    0.044044,    0.045045,    0.046046,    0.047047,\n",
              "          0.048048,    0.049049,     0.05005,    0.051051,    0.052052,    0.053053,    0.054054,    0.055055,    0.056056,    0.057057,    0.058058,    0.059059,     0.06006,    0.061061,    0.062062,    0.063063,    0.064064,    0.065065,    0.066066,    0.067067,    0.068068,    0.069069,     0.07007,    0.071071,\n",
              "          0.072072,    0.073073,    0.074074,    0.075075,    0.076076,    0.077077,    0.078078,    0.079079,     0.08008,    0.081081,    0.082082,    0.083083,    0.084084,    0.085085,    0.086086,    0.087087,    0.088088,    0.089089,     0.09009,    0.091091,    0.092092,    0.093093,    0.094094,    0.095095,\n",
              "          0.096096,    0.097097,    0.098098,    0.099099,      0.1001,      0.1011,      0.1021,      0.1031,      0.1041,     0.10511,     0.10611,     0.10711,     0.10811,     0.10911,     0.11011,     0.11111,     0.11211,     0.11311,     0.11411,     0.11512,     0.11612,     0.11712,     0.11812,     0.11912,\n",
              "           0.12012,     0.12112,     0.12212,     0.12312,     0.12412,     0.12513,     0.12613,     0.12713,     0.12813,     0.12913,     0.13013,     0.13113,     0.13213,     0.13313,     0.13413,     0.13514,     0.13614,     0.13714,     0.13814,     0.13914,     0.14014,     0.14114,     0.14214,     0.14314,\n",
              "           0.14414,     0.14515,     0.14615,     0.14715,     0.14815,     0.14915,     0.15015,     0.15115,     0.15215,     0.15315,     0.15415,     0.15516,     0.15616,     0.15716,     0.15816,     0.15916,     0.16016,     0.16116,     0.16216,     0.16316,     0.16416,     0.16517,     0.16617,     0.16717,\n",
              "           0.16817,     0.16917,     0.17017,     0.17117,     0.17217,     0.17317,     0.17417,     0.17518,     0.17618,     0.17718,     0.17818,     0.17918,     0.18018,     0.18118,     0.18218,     0.18318,     0.18418,     0.18519,     0.18619,     0.18719,     0.18819,     0.18919,     0.19019,     0.19119,\n",
              "           0.19219,     0.19319,     0.19419,      0.1952,      0.1962,      0.1972,      0.1982,      0.1992,      0.2002,      0.2012,      0.2022,      0.2032,      0.2042,     0.20521,     0.20621,     0.20721,     0.20821,     0.20921,     0.21021,     0.21121,     0.21221,     0.21321,     0.21421,     0.21522,\n",
              "           0.21622,     0.21722,     0.21822,     0.21922,     0.22022,     0.22122,     0.22222,     0.22322,     0.22422,     0.22523,     0.22623,     0.22723,     0.22823,     0.22923,     0.23023,     0.23123,     0.23223,     0.23323,     0.23423,     0.23524,     0.23624,     0.23724,     0.23824,     0.23924,\n",
              "           0.24024,     0.24124,     0.24224,     0.24324,     0.24424,     0.24525,     0.24625,     0.24725,     0.24825,     0.24925,     0.25025,     0.25125,     0.25225,     0.25325,     0.25425,     0.25526,     0.25626,     0.25726,     0.25826,     0.25926,     0.26026,     0.26126,     0.26226,     0.26326,\n",
              "           0.26426,     0.26527,     0.26627,     0.26727,     0.26827,     0.26927,     0.27027,     0.27127,     0.27227,     0.27327,     0.27427,     0.27528,     0.27628,     0.27728,     0.27828,     0.27928,     0.28028,     0.28128,     0.28228,     0.28328,     0.28428,     0.28529,     0.28629,     0.28729,\n",
              "           0.28829,     0.28929,     0.29029,     0.29129,     0.29229,     0.29329,     0.29429,      0.2953,      0.2963,      0.2973,      0.2983,      0.2993,      0.3003,      0.3013,      0.3023,      0.3033,      0.3043,     0.30531,     0.30631,     0.30731,     0.30831,     0.30931,     0.31031,     0.31131,\n",
              "           0.31231,     0.31331,     0.31431,     0.31532,     0.31632,     0.31732,     0.31832,     0.31932,     0.32032,     0.32132,     0.32232,     0.32332,     0.32432,     0.32533,     0.32633,     0.32733,     0.32833,     0.32933,     0.33033,     0.33133,     0.33233,     0.33333,     0.33433,     0.33534,\n",
              "           0.33634,     0.33734,     0.33834,     0.33934,     0.34034,     0.34134,     0.34234,     0.34334,     0.34434,     0.34535,     0.34635,     0.34735,     0.34835,     0.34935,     0.35035,     0.35135,     0.35235,     0.35335,     0.35435,     0.35536,     0.35636,     0.35736,     0.35836,     0.35936,\n",
              "           0.36036,     0.36136,     0.36236,     0.36336,     0.36436,     0.36537,     0.36637,     0.36737,     0.36837,     0.36937,     0.37037,     0.37137,     0.37237,     0.37337,     0.37437,     0.37538,     0.37638,     0.37738,     0.37838,     0.37938,     0.38038,     0.38138,     0.38238,     0.38338,\n",
              "           0.38438,     0.38539,     0.38639,     0.38739,     0.38839,     0.38939,     0.39039,     0.39139,     0.39239,     0.39339,     0.39439,      0.3954,      0.3964,      0.3974,      0.3984,      0.3994,      0.4004,      0.4014,      0.4024,      0.4034,      0.4044,     0.40541,     0.40641,     0.40741,\n",
              "           0.40841,     0.40941,     0.41041,     0.41141,     0.41241,     0.41341,     0.41441,     0.41542,     0.41642,     0.41742,     0.41842,     0.41942,     0.42042,     0.42142,     0.42242,     0.42342,     0.42442,     0.42543,     0.42643,     0.42743,     0.42843,     0.42943,     0.43043,     0.43143,\n",
              "           0.43243,     0.43343,     0.43443,     0.43544,     0.43644,     0.43744,     0.43844,     0.43944,     0.44044,     0.44144,     0.44244,     0.44344,     0.44444,     0.44545,     0.44645,     0.44745,     0.44845,     0.44945,     0.45045,     0.45145,     0.45245,     0.45345,     0.45445,     0.45546,\n",
              "           0.45646,     0.45746,     0.45846,     0.45946,     0.46046,     0.46146,     0.46246,     0.46346,     0.46446,     0.46547,     0.46647,     0.46747,     0.46847,     0.46947,     0.47047,     0.47147,     0.47247,     0.47347,     0.47447,     0.47548,     0.47648,     0.47748,     0.47848,     0.47948,\n",
              "           0.48048,     0.48148,     0.48248,     0.48348,     0.48448,     0.48549,     0.48649,     0.48749,     0.48849,     0.48949,     0.49049,     0.49149,     0.49249,     0.49349,     0.49449,      0.4955,      0.4965,      0.4975,      0.4985,      0.4995,      0.5005,      0.5015,      0.5025,      0.5035,\n",
              "            0.5045,     0.50551,     0.50651,     0.50751,     0.50851,     0.50951,     0.51051,     0.51151,     0.51251,     0.51351,     0.51451,     0.51552,     0.51652,     0.51752,     0.51852,     0.51952,     0.52052,     0.52152,     0.52252,     0.52352,     0.52452,     0.52553,     0.52653,     0.52753,\n",
              "           0.52853,     0.52953,     0.53053,     0.53153,     0.53253,     0.53353,     0.53453,     0.53554,     0.53654,     0.53754,     0.53854,     0.53954,     0.54054,     0.54154,     0.54254,     0.54354,     0.54454,     0.54555,     0.54655,     0.54755,     0.54855,     0.54955,     0.55055,     0.55155,\n",
              "           0.55255,     0.55355,     0.55455,     0.55556,     0.55656,     0.55756,     0.55856,     0.55956,     0.56056,     0.56156,     0.56256,     0.56356,     0.56456,     0.56557,     0.56657,     0.56757,     0.56857,     0.56957,     0.57057,     0.57157,     0.57257,     0.57357,     0.57457,     0.57558,\n",
              "           0.57658,     0.57758,     0.57858,     0.57958,     0.58058,     0.58158,     0.58258,     0.58358,     0.58458,     0.58559,     0.58659,     0.58759,     0.58859,     0.58959,     0.59059,     0.59159,     0.59259,     0.59359,     0.59459,      0.5956,      0.5966,      0.5976,      0.5986,      0.5996,\n",
              "            0.6006,      0.6016,      0.6026,      0.6036,      0.6046,     0.60561,     0.60661,     0.60761,     0.60861,     0.60961,     0.61061,     0.61161,     0.61261,     0.61361,     0.61461,     0.61562,     0.61662,     0.61762,     0.61862,     0.61962,     0.62062,     0.62162,     0.62262,     0.62362,\n",
              "           0.62462,     0.62563,     0.62663,     0.62763,     0.62863,     0.62963,     0.63063,     0.63163,     0.63263,     0.63363,     0.63463,     0.63564,     0.63664,     0.63764,     0.63864,     0.63964,     0.64064,     0.64164,     0.64264,     0.64364,     0.64464,     0.64565,     0.64665,     0.64765,\n",
              "           0.64865,     0.64965,     0.65065,     0.65165,     0.65265,     0.65365,     0.65465,     0.65566,     0.65666,     0.65766,     0.65866,     0.65966,     0.66066,     0.66166,     0.66266,     0.66366,     0.66466,     0.66567,     0.66667,     0.66767,     0.66867,     0.66967,     0.67067,     0.67167,\n",
              "           0.67267,     0.67367,     0.67467,     0.67568,     0.67668,     0.67768,     0.67868,     0.67968,     0.68068,     0.68168,     0.68268,     0.68368,     0.68468,     0.68569,     0.68669,     0.68769,     0.68869,     0.68969,     0.69069,     0.69169,     0.69269,     0.69369,     0.69469,      0.6957,\n",
              "            0.6967,      0.6977,      0.6987,      0.6997,      0.7007,      0.7017,      0.7027,      0.7037,      0.7047,     0.70571,     0.70671,     0.70771,     0.70871,     0.70971,     0.71071,     0.71171,     0.71271,     0.71371,     0.71471,     0.71572,     0.71672,     0.71772,     0.71872,     0.71972,\n",
              "           0.72072,     0.72172,     0.72272,     0.72372,     0.72472,     0.72573,     0.72673,     0.72773,     0.72873,     0.72973,     0.73073,     0.73173,     0.73273,     0.73373,     0.73473,     0.73574,     0.73674,     0.73774,     0.73874,     0.73974,     0.74074,     0.74174,     0.74274,     0.74374,\n",
              "           0.74474,     0.74575,     0.74675,     0.74775,     0.74875,     0.74975,     0.75075,     0.75175,     0.75275,     0.75375,     0.75475,     0.75576,     0.75676,     0.75776,     0.75876,     0.75976,     0.76076,     0.76176,     0.76276,     0.76376,     0.76476,     0.76577,     0.76677,     0.76777,\n",
              "           0.76877,     0.76977,     0.77077,     0.77177,     0.77277,     0.77377,     0.77477,     0.77578,     0.77678,     0.77778,     0.77878,     0.77978,     0.78078,     0.78178,     0.78278,     0.78378,     0.78478,     0.78579,     0.78679,     0.78779,     0.78879,     0.78979,     0.79079,     0.79179,\n",
              "           0.79279,     0.79379,     0.79479,      0.7958,      0.7968,      0.7978,      0.7988,      0.7998,      0.8008,      0.8018,      0.8028,      0.8038,      0.8048,     0.80581,     0.80681,     0.80781,     0.80881,     0.80981,     0.81081,     0.81181,     0.81281,     0.81381,     0.81481,     0.81582,\n",
              "           0.81682,     0.81782,     0.81882,     0.81982,     0.82082,     0.82182,     0.82282,     0.82382,     0.82482,     0.82583,     0.82683,     0.82783,     0.82883,     0.82983,     0.83083,     0.83183,     0.83283,     0.83383,     0.83483,     0.83584,     0.83684,     0.83784,     0.83884,     0.83984,\n",
              "           0.84084,     0.84184,     0.84284,     0.84384,     0.84484,     0.84585,     0.84685,     0.84785,     0.84885,     0.84985,     0.85085,     0.85185,     0.85285,     0.85385,     0.85485,     0.85586,     0.85686,     0.85786,     0.85886,     0.85986,     0.86086,     0.86186,     0.86286,     0.86386,\n",
              "           0.86486,     0.86587,     0.86687,     0.86787,     0.86887,     0.86987,     0.87087,     0.87187,     0.87287,     0.87387,     0.87487,     0.87588,     0.87688,     0.87788,     0.87888,     0.87988,     0.88088,     0.88188,     0.88288,     0.88388,     0.88488,     0.88589,     0.88689,     0.88789,\n",
              "           0.88889,     0.88989,     0.89089,     0.89189,     0.89289,     0.89389,     0.89489,      0.8959,      0.8969,      0.8979,      0.8989,      0.8999,      0.9009,      0.9019,      0.9029,      0.9039,      0.9049,     0.90591,     0.90691,     0.90791,     0.90891,     0.90991,     0.91091,     0.91191,\n",
              "           0.91291,     0.91391,     0.91491,     0.91592,     0.91692,     0.91792,     0.91892,     0.91992,     0.92092,     0.92192,     0.92292,     0.92392,     0.92492,     0.92593,     0.92693,     0.92793,     0.92893,     0.92993,     0.93093,     0.93193,     0.93293,     0.93393,     0.93493,     0.93594,\n",
              "           0.93694,     0.93794,     0.93894,     0.93994,     0.94094,     0.94194,     0.94294,     0.94394,     0.94494,     0.94595,     0.94695,     0.94795,     0.94895,     0.94995,     0.95095,     0.95195,     0.95295,     0.95395,     0.95495,     0.95596,     0.95696,     0.95796,     0.95896,     0.95996,\n",
              "           0.96096,     0.96196,     0.96296,     0.96396,     0.96496,     0.96597,     0.96697,     0.96797,     0.96897,     0.96997,     0.97097,     0.97197,     0.97297,     0.97397,     0.97497,     0.97598,     0.97698,     0.97798,     0.97898,     0.97998,     0.98098,     0.98198,     0.98298,     0.98398,\n",
              "           0.98498,     0.98599,     0.98699,     0.98799,     0.98899,     0.98999,     0.99099,     0.99199,     0.99299,     0.99399,     0.99499,       0.996,       0.997,       0.998,       0.999,           1]), array([[          1,           1,           1,           1,           1,           1,           1,           1,     0.96364,     0.96364,     0.96364,     0.96364,     0.96364,     0.96364,     0.96364,     0.96364,     0.96364,     0.96364,     0.96364,     0.96364,     0.96364,     0.96364,     0.96364,\n",
              "            0.96364,     0.96364,     0.96364,     0.96364,     0.96364,     0.96364,     0.96364,     0.96364,     0.96364,     0.96364,     0.96364,     0.96364,     0.96364,     0.96364,     0.96364,     0.96364,     0.96364,     0.96364,     0.96364,     0.96364,     0.96364,     0.96364,     0.96364,\n",
              "            0.96364,     0.96364,     0.96364,     0.96364,     0.96364,     0.96364,     0.96364,     0.96364,     0.96364,     0.96364,     0.96364,     0.96364,     0.96364,     0.96364,     0.96364,     0.96364,     0.96364,     0.96364,     0.96364,     0.96364,     0.96364,     0.96364,     0.96364,\n",
              "            0.96364,     0.96364,     0.96364,     0.96364,     0.96364,     0.96364,     0.96364,     0.96364,     0.96364,     0.96364,     0.96364,     0.96364,     0.96364,     0.96364,     0.96364,     0.96364,     0.96364,     0.96364,     0.96364,     0.96364,     0.96364,     0.96364,     0.96364,\n",
              "            0.96364,     0.96364,     0.96364,     0.96364,     0.96364,     0.96364,     0.96364,     0.96364,     0.96364,     0.96364,     0.96364,     0.96364,     0.96364,     0.96364,     0.96364,     0.96364,     0.96364,     0.96364,     0.96364,     0.96364,     0.96364,     0.96364,     0.96364,\n",
              "            0.96364,     0.96364,     0.96364,     0.96364,     0.96364,     0.96364,     0.96364,     0.96364,     0.96364,     0.96364,     0.96364,     0.96364,     0.96364,     0.96364,     0.96364,     0.96364,     0.96364,     0.96364,     0.96364,     0.96364,     0.96364,     0.96364,     0.96364,\n",
              "            0.96364,     0.96364,     0.96364,     0.96364,     0.96364,     0.96364,     0.96364,     0.96364,     0.96364,     0.96364,     0.96364,     0.96364,     0.96364,     0.96364,     0.96364,     0.96364,     0.96364,     0.96364,     0.96364,     0.96364,     0.96364,     0.96364,     0.96364,\n",
              "            0.96364,     0.96364,     0.96364,     0.96364,     0.96364,     0.96364,     0.96364,     0.96364,     0.96364,     0.96364,     0.96364,     0.96364,     0.96364,     0.96364,     0.96364,     0.96364,     0.96364,     0.96364,     0.96364,     0.96364,     0.96364,     0.96364,     0.96364,\n",
              "            0.96364,     0.96364,     0.96364,     0.96364,     0.96364,     0.96364,     0.96364,     0.96364,     0.96364,     0.96364,     0.96364,     0.96364,     0.96364,     0.96364,     0.96364,     0.96364,     0.96364,     0.96364,     0.96364,     0.96364,     0.96364,     0.96364,     0.96364,\n",
              "            0.96364,     0.96364,     0.96364,     0.96364,     0.96364,     0.96364,     0.96364,     0.96364,     0.96364,     0.96364,     0.96364,     0.96364,     0.96364,     0.96364,     0.96364,     0.96364,     0.96364,     0.96364,     0.96364,     0.96364,     0.96364,     0.96364,     0.96364,\n",
              "            0.96364,     0.96364,     0.96364,     0.96364,     0.96364,     0.96364,     0.96364,     0.96364,     0.96364,     0.96364,     0.96364,     0.96364,     0.96364,     0.96364,     0.96364,     0.96364,     0.96364,     0.96364,     0.96364,     0.96364,     0.96364,     0.96364,     0.96364,\n",
              "            0.96364,     0.96364,     0.96364,     0.96364,     0.96364,     0.96364,     0.96364,     0.96364,     0.96364,     0.96364,     0.96364,     0.96364,     0.96364,     0.96364,     0.96364,     0.96364,     0.96364,     0.96364,     0.96364,     0.96364,     0.96364,     0.96364,     0.96364,\n",
              "            0.96364,     0.96364,     0.96364,     0.96364,     0.96364,     0.96364,     0.96364,     0.96364,     0.96364,     0.96364,     0.96364,     0.96364,     0.96364,     0.96364,     0.96364,     0.96364,     0.96364,     0.96364,     0.96364,     0.96364,     0.96364,     0.96364,     0.96364,\n",
              "            0.96364,     0.96364,     0.96364,     0.96364,     0.96364,     0.96364,     0.96364,     0.96364,     0.96364,     0.96364,     0.96364,     0.96364,     0.96364,     0.96364,     0.96364,     0.96364,     0.96364,     0.96364,     0.96364,     0.96364,     0.96364,     0.96364,     0.96364,\n",
              "            0.96364,     0.96364,     0.96364,     0.96364,     0.96364,     0.96364,     0.96364,     0.96364,     0.96364,     0.96364,     0.96364,     0.96364,     0.96364,     0.96364,     0.96364,     0.96364,     0.96364,     0.96364,     0.96364,     0.96364,     0.96364,     0.96364,     0.96364,\n",
              "            0.96364,     0.96364,     0.96364,     0.96364,     0.96364,     0.96364,     0.96364,     0.96364,     0.96364,     0.96364,     0.96364,     0.96364,     0.96364,     0.96364,     0.96364,     0.96364,     0.96364,     0.96364,     0.96364,     0.96364,     0.96364,     0.96364,     0.96364,\n",
              "            0.96364,     0.96364,     0.96364,     0.96364,     0.96364,     0.96364,     0.96364,     0.96364,     0.96364,     0.96364,     0.96364,     0.96364,     0.96364,     0.96364,     0.96364,     0.96364,     0.96364,     0.96364,     0.96364,     0.96364,     0.96364,     0.96364,     0.96364,\n",
              "            0.96364,     0.96364,     0.96364,     0.96364,     0.96364,     0.96364,     0.96364,     0.96364,     0.96364,     0.96364,     0.96364,     0.96364,     0.96364,     0.96364,     0.96364,     0.96364,     0.96364,     0.96364,     0.96364,     0.96364,     0.96364,     0.96364,     0.96364,\n",
              "            0.96364,     0.96364,     0.96364,     0.96364,     0.96364,     0.96364,     0.96364,     0.93421,     0.93421,     0.93421,     0.93421,     0.93421,     0.93421,     0.93421,     0.93421,     0.93421,     0.93421,     0.93421,     0.93421,     0.93421,     0.93421,     0.93421,     0.93421,\n",
              "            0.93421,     0.93421,     0.93421,     0.93421,     0.93421,     0.93421,     0.93421,     0.93421,     0.93421,     0.93421,     0.93421,     0.93421,     0.93421,     0.93421,     0.93421,     0.93421,     0.93421,     0.93421,     0.93421,     0.93421,     0.93421,     0.93421,     0.93421,\n",
              "            0.93421,     0.93421,     0.93421,     0.93421,     0.93421,     0.93421,     0.93421,     0.93421,     0.93421,     0.93421,     0.93421,     0.93421,     0.93421,     0.93421,     0.93421,     0.93421,     0.93421,     0.93421,     0.93421,     0.93421,     0.93421,     0.93421,     0.93421,\n",
              "            0.93421,     0.93421,     0.93421,     0.93421,     0.93421,     0.93421,     0.93421,     0.93421,     0.93421,     0.93421,     0.93421,     0.93421,     0.93421,     0.93421,     0.93421,     0.93421,     0.93421,     0.93421,     0.93421,     0.93421,     0.93421,     0.93421,     0.93421,\n",
              "            0.93421,     0.93421,     0.93421,     0.93421,     0.93421,     0.93421,     0.93421,     0.93421,     0.93421,     0.93421,     0.93421,     0.93421,     0.93421,     0.93421,     0.93421,     0.93421,     0.93421,     0.93421,     0.93421,     0.93421,     0.93421,     0.93421,     0.93421,\n",
              "            0.93421,     0.93421,     0.93421,     0.93421,     0.93421,     0.93421,     0.93421,     0.93421,     0.93421,     0.93421,     0.93421,     0.93421,     0.93421,     0.93421,     0.93421,     0.93421,     0.93421,     0.93421,     0.93421,     0.93421,     0.93421,     0.93421,     0.93421,\n",
              "            0.93421,     0.93421,     0.93421,     0.93421,     0.93421,     0.93421,     0.93421,     0.93421,     0.93421,     0.93421,     0.93421,     0.92405,     0.92405,     0.92405,     0.92405,     0.92405,     0.92405,     0.92405,     0.92405,     0.92405,     0.92405,     0.92405,     0.92405,\n",
              "            0.92405,     0.92405,     0.92405,     0.92405,     0.91566,     0.91566,     0.91566,     0.91566,     0.91566,     0.91566,     0.91566,     0.91566,     0.91566,     0.91566,     0.91566,     0.91566,     0.91566,     0.91566,     0.91566,     0.91566,     0.91566,     0.91566,     0.91566,\n",
              "            0.91566,     0.91566,     0.91566,     0.91566,     0.91566,     0.89535,     0.89535,     0.89535,     0.89535,     0.89535,     0.89535,     0.89535,     0.89535,     0.89011,     0.89011,     0.89011,     0.89011,     0.89011,     0.89011,     0.89011,     0.89011,     0.89011,     0.89011,\n",
              "            0.89011,     0.89011,     0.89011,     0.89011,     0.89011,     0.89011,     0.89011,     0.89011,     0.89011,     0.89011,     0.89011,     0.89011,     0.89011,     0.89011,     0.89011,     0.89011,     0.89011,     0.89011,     0.89011,     0.89011,     0.89011,     0.89011,     0.88421,\n",
              "            0.88421,     0.88421,     0.88421,     0.88421,     0.88421,     0.88421,     0.88421,     0.88421,     0.88421,     0.88421,     0.88421,     0.88421,     0.88421,     0.88421,     0.88421,     0.88421,     0.88421,     0.88421,     0.88421,     0.88421,     0.88421,     0.88421,        0.88,\n",
              "               0.88,        0.88,        0.88,        0.88,        0.88,        0.88,        0.88,        0.88,        0.88,        0.88,        0.88,        0.88,        0.88,        0.88,        0.88,        0.88,        0.88,        0.88,        0.88,        0.88,        0.88,        0.88,        0.88,\n",
              "               0.88,        0.88,        0.88,        0.88,        0.88,        0.88,        0.88,        0.88,     0.87255,     0.87255,     0.87255,     0.87255,     0.87255,     0.87255,     0.87255,     0.87255,     0.86667,     0.86667,     0.86667,     0.86667,     0.86667,     0.86667,     0.86667,\n",
              "            0.86667,     0.86667,     0.86667,     0.86667,     0.86667,     0.86667,     0.86667,     0.86667,     0.86667,     0.85981,     0.85981,     0.85981,     0.85981,     0.85981,     0.85981,     0.85981,     0.85981,     0.85455,     0.85455,     0.85455,     0.85455,     0.85455,     0.85455,\n",
              "            0.85455,     0.85455,     0.85455,     0.85455,     0.85455,     0.85455,     0.85455,     0.85455,     0.85455,     0.85455,     0.82051,     0.82051,     0.82051,     0.82051,     0.82051,     0.82051,     0.82051,     0.82051,     0.82051,     0.82051,     0.82051,     0.82051,     0.82051,\n",
              "            0.82051,     0.82051,     0.82051,     0.81513,     0.81513,     0.81513,     0.81513,     0.81513,     0.81513,     0.81513,     0.81513,     0.80328,     0.80328,     0.80328,     0.80328,     0.80328,     0.80328,     0.80328,     0.79839,     0.79839,     0.79839,     0.79839,     0.79839,\n",
              "            0.79839,     0.79839,     0.79839,     0.78125,     0.78125,     0.78125,     0.78125,     0.78125,     0.78125,     0.78125,     0.78125,     0.77692,     0.77692,     0.77692,     0.77692,     0.77692,     0.77692,     0.77692,     0.77692,     0.76866,     0.76866,     0.76866,     0.76866,\n",
              "            0.76866,     0.76866,     0.76866,     0.76866,     0.76866,     0.76866,     0.76866,     0.76866,     0.76866,     0.76866,     0.76866,     0.76866,     0.75362,     0.75362,     0.75362,     0.75362,     0.75362,     0.75362,     0.75362,     0.75362,     0.73944,     0.73944,     0.73944,\n",
              "            0.73944,     0.73944,     0.73944,     0.73944,     0.73944,      0.6185,      0.6185,      0.6185,      0.6185,      0.6185,      0.6185,      0.6185,      0.6185,      0.6185,      0.6185,      0.6185,      0.6185,      0.6185,      0.6185,      0.6185,      0.6185,     0.50943,     0.50943,\n",
              "            0.50943,     0.50943,     0.50943,     0.50943,     0.50943,     0.50943,     0.41288,     0.41288,     0.41288,     0.41288,     0.41288,     0.41288,     0.41288,     0.41288,     0.24499,     0.24499,     0.24499,     0.24499,     0.24499,     0.24499,     0.24499,     0.24499,     0.24236,\n",
              "            0.24236,     0.24236,     0.24236,     0.24236,     0.24236,     0.24236,     0.24236,     0.16867,     0.16867,     0.16867,     0.16867,     0.16867,     0.16867,     0.16867,     0.16353,     0.16353,     0.16353,     0.16353,     0.16353,     0.16353,     0.16353,     0.16353,     0.10546,\n",
              "            0.10546,     0.10546,     0.10546,     0.10546,     0.10546,     0.10546,     0.10546,    0.079806,    0.079806,    0.079806,    0.079806,    0.079806,    0.079806,    0.079806,    0.079806,    0.068356,    0.068356,    0.068356,    0.068356,    0.068356,    0.068356,    0.068356,    0.068356,\n",
              "           0.045543,    0.045543,    0.045543,    0.045543,    0.045543,    0.045543,    0.045543,    0.045543,    0.042957,    0.042352,    0.041747,    0.041142,    0.040537,    0.039932,    0.039327,    0.038722,    0.038117,    0.037512,    0.036907,    0.036302,    0.035697,    0.035092,    0.034487,\n",
              "           0.033882,    0.033277,    0.032672,    0.032067,    0.031462,    0.030857,    0.030252,    0.029647,    0.029042,    0.028437,    0.027832,    0.027226,    0.026621,    0.026016,    0.025411,    0.024806,    0.024201,    0.023596,    0.022991,    0.022386,    0.021781,    0.021176,    0.020571,\n",
              "           0.019966,    0.019361,    0.018756,    0.018151,    0.017546,    0.016941,    0.016336,    0.015731,    0.015126,    0.014521,    0.013916,    0.013311,    0.012706,    0.012101,    0.011496,    0.010891,    0.010286,   0.0096805,   0.0090755,   0.0084705,   0.0078654,   0.0072604,   0.0066554,\n",
              "          0.0060503,   0.0054453,   0.0048403,   0.0042352,   0.0036302,   0.0030252,   0.0024201,   0.0018151,   0.0012101,  0.00060503,           0]]), 'Recall', 'Precision'], [array([          0,    0.001001,    0.002002,    0.003003,    0.004004,    0.005005,    0.006006,    0.007007,    0.008008,    0.009009,     0.01001,    0.011011,    0.012012,    0.013013,    0.014014,    0.015015,    0.016016,    0.017017,    0.018018,    0.019019,     0.02002,    0.021021,    0.022022,    0.023023,\n",
              "          0.024024,    0.025025,    0.026026,    0.027027,    0.028028,    0.029029,     0.03003,    0.031031,    0.032032,    0.033033,    0.034034,    0.035035,    0.036036,    0.037037,    0.038038,    0.039039,     0.04004,    0.041041,    0.042042,    0.043043,    0.044044,    0.045045,    0.046046,    0.047047,\n",
              "          0.048048,    0.049049,     0.05005,    0.051051,    0.052052,    0.053053,    0.054054,    0.055055,    0.056056,    0.057057,    0.058058,    0.059059,     0.06006,    0.061061,    0.062062,    0.063063,    0.064064,    0.065065,    0.066066,    0.067067,    0.068068,    0.069069,     0.07007,    0.071071,\n",
              "          0.072072,    0.073073,    0.074074,    0.075075,    0.076076,    0.077077,    0.078078,    0.079079,     0.08008,    0.081081,    0.082082,    0.083083,    0.084084,    0.085085,    0.086086,    0.087087,    0.088088,    0.089089,     0.09009,    0.091091,    0.092092,    0.093093,    0.094094,    0.095095,\n",
              "          0.096096,    0.097097,    0.098098,    0.099099,      0.1001,      0.1011,      0.1021,      0.1031,      0.1041,     0.10511,     0.10611,     0.10711,     0.10811,     0.10911,     0.11011,     0.11111,     0.11211,     0.11311,     0.11411,     0.11512,     0.11612,     0.11712,     0.11812,     0.11912,\n",
              "           0.12012,     0.12112,     0.12212,     0.12312,     0.12412,     0.12513,     0.12613,     0.12713,     0.12813,     0.12913,     0.13013,     0.13113,     0.13213,     0.13313,     0.13413,     0.13514,     0.13614,     0.13714,     0.13814,     0.13914,     0.14014,     0.14114,     0.14214,     0.14314,\n",
              "           0.14414,     0.14515,     0.14615,     0.14715,     0.14815,     0.14915,     0.15015,     0.15115,     0.15215,     0.15315,     0.15415,     0.15516,     0.15616,     0.15716,     0.15816,     0.15916,     0.16016,     0.16116,     0.16216,     0.16316,     0.16416,     0.16517,     0.16617,     0.16717,\n",
              "           0.16817,     0.16917,     0.17017,     0.17117,     0.17217,     0.17317,     0.17417,     0.17518,     0.17618,     0.17718,     0.17818,     0.17918,     0.18018,     0.18118,     0.18218,     0.18318,     0.18418,     0.18519,     0.18619,     0.18719,     0.18819,     0.18919,     0.19019,     0.19119,\n",
              "           0.19219,     0.19319,     0.19419,      0.1952,      0.1962,      0.1972,      0.1982,      0.1992,      0.2002,      0.2012,      0.2022,      0.2032,      0.2042,     0.20521,     0.20621,     0.20721,     0.20821,     0.20921,     0.21021,     0.21121,     0.21221,     0.21321,     0.21421,     0.21522,\n",
              "           0.21622,     0.21722,     0.21822,     0.21922,     0.22022,     0.22122,     0.22222,     0.22322,     0.22422,     0.22523,     0.22623,     0.22723,     0.22823,     0.22923,     0.23023,     0.23123,     0.23223,     0.23323,     0.23423,     0.23524,     0.23624,     0.23724,     0.23824,     0.23924,\n",
              "           0.24024,     0.24124,     0.24224,     0.24324,     0.24424,     0.24525,     0.24625,     0.24725,     0.24825,     0.24925,     0.25025,     0.25125,     0.25225,     0.25325,     0.25425,     0.25526,     0.25626,     0.25726,     0.25826,     0.25926,     0.26026,     0.26126,     0.26226,     0.26326,\n",
              "           0.26426,     0.26527,     0.26627,     0.26727,     0.26827,     0.26927,     0.27027,     0.27127,     0.27227,     0.27327,     0.27427,     0.27528,     0.27628,     0.27728,     0.27828,     0.27928,     0.28028,     0.28128,     0.28228,     0.28328,     0.28428,     0.28529,     0.28629,     0.28729,\n",
              "           0.28829,     0.28929,     0.29029,     0.29129,     0.29229,     0.29329,     0.29429,      0.2953,      0.2963,      0.2973,      0.2983,      0.2993,      0.3003,      0.3013,      0.3023,      0.3033,      0.3043,     0.30531,     0.30631,     0.30731,     0.30831,     0.30931,     0.31031,     0.31131,\n",
              "           0.31231,     0.31331,     0.31431,     0.31532,     0.31632,     0.31732,     0.31832,     0.31932,     0.32032,     0.32132,     0.32232,     0.32332,     0.32432,     0.32533,     0.32633,     0.32733,     0.32833,     0.32933,     0.33033,     0.33133,     0.33233,     0.33333,     0.33433,     0.33534,\n",
              "           0.33634,     0.33734,     0.33834,     0.33934,     0.34034,     0.34134,     0.34234,     0.34334,     0.34434,     0.34535,     0.34635,     0.34735,     0.34835,     0.34935,     0.35035,     0.35135,     0.35235,     0.35335,     0.35435,     0.35536,     0.35636,     0.35736,     0.35836,     0.35936,\n",
              "           0.36036,     0.36136,     0.36236,     0.36336,     0.36436,     0.36537,     0.36637,     0.36737,     0.36837,     0.36937,     0.37037,     0.37137,     0.37237,     0.37337,     0.37437,     0.37538,     0.37638,     0.37738,     0.37838,     0.37938,     0.38038,     0.38138,     0.38238,     0.38338,\n",
              "           0.38438,     0.38539,     0.38639,     0.38739,     0.38839,     0.38939,     0.39039,     0.39139,     0.39239,     0.39339,     0.39439,      0.3954,      0.3964,      0.3974,      0.3984,      0.3994,      0.4004,      0.4014,      0.4024,      0.4034,      0.4044,     0.40541,     0.40641,     0.40741,\n",
              "           0.40841,     0.40941,     0.41041,     0.41141,     0.41241,     0.41341,     0.41441,     0.41542,     0.41642,     0.41742,     0.41842,     0.41942,     0.42042,     0.42142,     0.42242,     0.42342,     0.42442,     0.42543,     0.42643,     0.42743,     0.42843,     0.42943,     0.43043,     0.43143,\n",
              "           0.43243,     0.43343,     0.43443,     0.43544,     0.43644,     0.43744,     0.43844,     0.43944,     0.44044,     0.44144,     0.44244,     0.44344,     0.44444,     0.44545,     0.44645,     0.44745,     0.44845,     0.44945,     0.45045,     0.45145,     0.45245,     0.45345,     0.45445,     0.45546,\n",
              "           0.45646,     0.45746,     0.45846,     0.45946,     0.46046,     0.46146,     0.46246,     0.46346,     0.46446,     0.46547,     0.46647,     0.46747,     0.46847,     0.46947,     0.47047,     0.47147,     0.47247,     0.47347,     0.47447,     0.47548,     0.47648,     0.47748,     0.47848,     0.47948,\n",
              "           0.48048,     0.48148,     0.48248,     0.48348,     0.48448,     0.48549,     0.48649,     0.48749,     0.48849,     0.48949,     0.49049,     0.49149,     0.49249,     0.49349,     0.49449,      0.4955,      0.4965,      0.4975,      0.4985,      0.4995,      0.5005,      0.5015,      0.5025,      0.5035,\n",
              "            0.5045,     0.50551,     0.50651,     0.50751,     0.50851,     0.50951,     0.51051,     0.51151,     0.51251,     0.51351,     0.51451,     0.51552,     0.51652,     0.51752,     0.51852,     0.51952,     0.52052,     0.52152,     0.52252,     0.52352,     0.52452,     0.52553,     0.52653,     0.52753,\n",
              "           0.52853,     0.52953,     0.53053,     0.53153,     0.53253,     0.53353,     0.53453,     0.53554,     0.53654,     0.53754,     0.53854,     0.53954,     0.54054,     0.54154,     0.54254,     0.54354,     0.54454,     0.54555,     0.54655,     0.54755,     0.54855,     0.54955,     0.55055,     0.55155,\n",
              "           0.55255,     0.55355,     0.55455,     0.55556,     0.55656,     0.55756,     0.55856,     0.55956,     0.56056,     0.56156,     0.56256,     0.56356,     0.56456,     0.56557,     0.56657,     0.56757,     0.56857,     0.56957,     0.57057,     0.57157,     0.57257,     0.57357,     0.57457,     0.57558,\n",
              "           0.57658,     0.57758,     0.57858,     0.57958,     0.58058,     0.58158,     0.58258,     0.58358,     0.58458,     0.58559,     0.58659,     0.58759,     0.58859,     0.58959,     0.59059,     0.59159,     0.59259,     0.59359,     0.59459,      0.5956,      0.5966,      0.5976,      0.5986,      0.5996,\n",
              "            0.6006,      0.6016,      0.6026,      0.6036,      0.6046,     0.60561,     0.60661,     0.60761,     0.60861,     0.60961,     0.61061,     0.61161,     0.61261,     0.61361,     0.61461,     0.61562,     0.61662,     0.61762,     0.61862,     0.61962,     0.62062,     0.62162,     0.62262,     0.62362,\n",
              "           0.62462,     0.62563,     0.62663,     0.62763,     0.62863,     0.62963,     0.63063,     0.63163,     0.63263,     0.63363,     0.63463,     0.63564,     0.63664,     0.63764,     0.63864,     0.63964,     0.64064,     0.64164,     0.64264,     0.64364,     0.64464,     0.64565,     0.64665,     0.64765,\n",
              "           0.64865,     0.64965,     0.65065,     0.65165,     0.65265,     0.65365,     0.65465,     0.65566,     0.65666,     0.65766,     0.65866,     0.65966,     0.66066,     0.66166,     0.66266,     0.66366,     0.66466,     0.66567,     0.66667,     0.66767,     0.66867,     0.66967,     0.67067,     0.67167,\n",
              "           0.67267,     0.67367,     0.67467,     0.67568,     0.67668,     0.67768,     0.67868,     0.67968,     0.68068,     0.68168,     0.68268,     0.68368,     0.68468,     0.68569,     0.68669,     0.68769,     0.68869,     0.68969,     0.69069,     0.69169,     0.69269,     0.69369,     0.69469,      0.6957,\n",
              "            0.6967,      0.6977,      0.6987,      0.6997,      0.7007,      0.7017,      0.7027,      0.7037,      0.7047,     0.70571,     0.70671,     0.70771,     0.70871,     0.70971,     0.71071,     0.71171,     0.71271,     0.71371,     0.71471,     0.71572,     0.71672,     0.71772,     0.71872,     0.71972,\n",
              "           0.72072,     0.72172,     0.72272,     0.72372,     0.72472,     0.72573,     0.72673,     0.72773,     0.72873,     0.72973,     0.73073,     0.73173,     0.73273,     0.73373,     0.73473,     0.73574,     0.73674,     0.73774,     0.73874,     0.73974,     0.74074,     0.74174,     0.74274,     0.74374,\n",
              "           0.74474,     0.74575,     0.74675,     0.74775,     0.74875,     0.74975,     0.75075,     0.75175,     0.75275,     0.75375,     0.75475,     0.75576,     0.75676,     0.75776,     0.75876,     0.75976,     0.76076,     0.76176,     0.76276,     0.76376,     0.76476,     0.76577,     0.76677,     0.76777,\n",
              "           0.76877,     0.76977,     0.77077,     0.77177,     0.77277,     0.77377,     0.77477,     0.77578,     0.77678,     0.77778,     0.77878,     0.77978,     0.78078,     0.78178,     0.78278,     0.78378,     0.78478,     0.78579,     0.78679,     0.78779,     0.78879,     0.78979,     0.79079,     0.79179,\n",
              "           0.79279,     0.79379,     0.79479,      0.7958,      0.7968,      0.7978,      0.7988,      0.7998,      0.8008,      0.8018,      0.8028,      0.8038,      0.8048,     0.80581,     0.80681,     0.80781,     0.80881,     0.80981,     0.81081,     0.81181,     0.81281,     0.81381,     0.81481,     0.81582,\n",
              "           0.81682,     0.81782,     0.81882,     0.81982,     0.82082,     0.82182,     0.82282,     0.82382,     0.82482,     0.82583,     0.82683,     0.82783,     0.82883,     0.82983,     0.83083,     0.83183,     0.83283,     0.83383,     0.83483,     0.83584,     0.83684,     0.83784,     0.83884,     0.83984,\n",
              "           0.84084,     0.84184,     0.84284,     0.84384,     0.84484,     0.84585,     0.84685,     0.84785,     0.84885,     0.84985,     0.85085,     0.85185,     0.85285,     0.85385,     0.85485,     0.85586,     0.85686,     0.85786,     0.85886,     0.85986,     0.86086,     0.86186,     0.86286,     0.86386,\n",
              "           0.86486,     0.86587,     0.86687,     0.86787,     0.86887,     0.86987,     0.87087,     0.87187,     0.87287,     0.87387,     0.87487,     0.87588,     0.87688,     0.87788,     0.87888,     0.87988,     0.88088,     0.88188,     0.88288,     0.88388,     0.88488,     0.88589,     0.88689,     0.88789,\n",
              "           0.88889,     0.88989,     0.89089,     0.89189,     0.89289,     0.89389,     0.89489,      0.8959,      0.8969,      0.8979,      0.8989,      0.8999,      0.9009,      0.9019,      0.9029,      0.9039,      0.9049,     0.90591,     0.90691,     0.90791,     0.90891,     0.90991,     0.91091,     0.91191,\n",
              "           0.91291,     0.91391,     0.91491,     0.91592,     0.91692,     0.91792,     0.91892,     0.91992,     0.92092,     0.92192,     0.92292,     0.92392,     0.92492,     0.92593,     0.92693,     0.92793,     0.92893,     0.92993,     0.93093,     0.93193,     0.93293,     0.93393,     0.93493,     0.93594,\n",
              "           0.93694,     0.93794,     0.93894,     0.93994,     0.94094,     0.94194,     0.94294,     0.94394,     0.94494,     0.94595,     0.94695,     0.94795,     0.94895,     0.94995,     0.95095,     0.95195,     0.95295,     0.95395,     0.95495,     0.95596,     0.95696,     0.95796,     0.95896,     0.95996,\n",
              "           0.96096,     0.96196,     0.96296,     0.96396,     0.96496,     0.96597,     0.96697,     0.96797,     0.96897,     0.96997,     0.97097,     0.97197,     0.97297,     0.97397,     0.97497,     0.97598,     0.97698,     0.97798,     0.97898,     0.97998,     0.98098,     0.98198,     0.98298,     0.98398,\n",
              "           0.98498,     0.98599,     0.98699,     0.98799,     0.98899,     0.98999,     0.99099,     0.99199,     0.99299,     0.99399,     0.99499,       0.996,       0.997,       0.998,       0.999,           1]), array([[   0.082511,    0.082511,     0.15029,     0.20231,     0.24483,     0.27868,     0.30412,     0.32307,     0.34667,     0.36713,     0.38516,     0.39893,     0.41316,     0.43269,     0.44199,     0.45347,     0.46798,     0.47866,     0.48823,      0.4936,     0.50522,     0.51575,     0.52556,\n",
              "            0.53625,     0.54851,     0.55836,     0.55609,      0.5621,     0.56745,      0.5725,     0.57501,     0.57785,     0.58601,     0.59233,     0.59314,     0.60232,     0.60566,     0.61012,     0.61625,     0.61814,     0.61915,     0.61985,     0.62055,     0.62187,     0.62334,     0.62469,\n",
              "            0.62581,     0.62713,     0.63173,     0.63318,     0.63483,     0.63674,     0.63868,     0.63607,     0.63747,     0.63833,     0.63982,     0.64103,     0.64154,     0.64205,     0.64257,     0.64726,     0.64876,     0.65194,     0.65475,     0.65542,     0.65609,     0.65868,      0.6596,\n",
              "            0.66057,     0.66255,     0.66708,     0.66787,     0.66866,     0.67015,      0.6737,     0.67519,     0.67574,     0.67629,     0.67684,     0.67743,     0.67814,     0.67884,     0.68158,     0.68231,     0.68304,     0.68381,     0.68497,     0.68645,     0.68884,     0.69256,     0.69305,\n",
              "            0.69354,     0.69403,     0.69453,     0.69504,      0.6956,     0.69615,     0.69671,     0.69733,     0.69809,     0.69886,     0.70084,     0.70187,     0.70215,     0.70243,     0.70272,       0.703,     0.70328,     0.70356,     0.70385,     0.70471,      0.7059,     0.70718,      0.7085,\n",
              "            0.70983,     0.71111,     0.71208,     0.71305,     0.71363,     0.71404,     0.71445,     0.71486,     0.71527,     0.71569,     0.71506,     0.71435,     0.71364,     0.71292,     0.71221,     0.71149,     0.70722,     0.70744,     0.70767,      0.7079,     0.70813,     0.70836,     0.70858,\n",
              "            0.70881,     0.70904,     0.70927,     0.70955,     0.71013,     0.71071,     0.71129,     0.71187,     0.71386,     0.71457,     0.71494,      0.7153,     0.71566,     0.71603,     0.71639,     0.71679,     0.71759,      0.7184,     0.71921,     0.72028,     0.72134,       0.722,      0.7225,\n",
              "              0.723,      0.7235,     0.72399,     0.72487,      0.7259,     0.72676,     0.72718,      0.7276,     0.72803,     0.72845,     0.72887,     0.72946,     0.73046,     0.73145,     0.73715,     0.73841,     0.73985,     0.74289,     0.74649,     0.74774,      0.7484,     0.74907,     0.74973,\n",
              "            0.75069,     0.75185,      0.7539,     0.75559,     0.75588,     0.75617,     0.75646,     0.75675,     0.75704,     0.75733,     0.75762,     0.75791,      0.7582,      0.7585,     0.75879,     0.75908,     0.75937,     0.75967,     0.75996,     0.76025,     0.76054,     0.76084,       0.761,\n",
              "            0.76115,      0.7613,     0.76145,      0.7616,     0.76174,     0.76189,     0.76204,     0.76219,     0.76234,     0.76249,     0.76263,     0.76278,     0.76293,     0.76308,     0.76323,     0.76337,     0.76352,     0.76375,     0.76426,     0.76477,     0.76528,     0.76578,     0.76629,\n",
              "            0.76659,     0.76681,     0.76703,     0.76725,     0.76747,      0.7677,     0.76792,     0.76814,     0.76836,     0.76858,      0.7688,     0.76902,     0.76925,     0.76967,     0.77008,      0.7705,     0.77091,     0.77133,     0.77174,     0.77211,     0.77232,     0.77254,     0.77276,\n",
              "            0.77297,     0.77319,     0.77341,     0.77362,     0.77384,     0.77406,     0.77427,     0.77449,      0.7747,     0.77492,     0.77513,     0.77534,     0.77555,     0.77576,     0.77597,     0.77618,     0.77639,      0.7766,     0.77681,     0.77702,     0.77723,     0.77744,     0.77765,\n",
              "            0.78072,     0.78086,     0.78099,     0.78112,     0.78125,     0.78139,     0.78152,     0.78165,     0.78179,     0.78192,     0.78205,     0.78218,     0.78232,     0.78245,     0.78258,     0.78271,     0.78285,     0.78298,     0.78311,     0.78324,     0.78338,     0.78351,     0.78299,\n",
              "            0.78165,     0.78032,     0.77905,     0.77972,     0.78038,     0.78105,     0.78172,      0.7839,     0.78653,     0.78718,      0.7856,     0.78403,     0.78335,     0.78351,     0.78367,     0.78382,     0.78398,     0.78414,      0.7843,     0.78445,     0.78461,     0.78477,     0.78493,\n",
              "            0.78508,     0.78524,      0.7854,     0.78555,     0.78571,     0.78587,     0.78602,     0.78618,     0.78934,     0.78946,     0.78959,     0.78972,     0.78985,     0.78998,     0.79011,     0.79024,     0.79036,     0.79049,     0.79062,     0.79075,     0.79088,     0.79101,     0.79113,\n",
              "            0.79126,     0.79139,     0.79152,     0.79165,     0.79178,      0.7919,     0.79203,     0.79216,     0.79229,     0.79205,     0.79175,     0.79145,     0.79115,     0.79084,     0.79054,     0.79024,     0.78993,     0.78963,     0.78932,     0.78902,     0.78872,     0.78841,     0.78811,\n",
              "            0.78781,     0.78711,     0.78598,     0.78485,     0.78371,     0.78297,     0.78303,      0.7831,     0.78316,     0.78323,      0.7833,     0.78336,     0.78343,     0.78349,     0.78356,     0.78362,     0.78369,     0.78375,     0.78382,     0.78389,     0.78395,     0.78402,     0.78408,\n",
              "            0.78415,     0.78421,     0.78428,     0.78434,     0.78441,     0.78447,     0.78454,      0.7846,     0.78467,     0.78474,      0.7848,     0.78487,     0.78493,       0.785,     0.78506,     0.78513,     0.78519,     0.78526,     0.78532,     0.78539,     0.78545,     0.78552,     0.78558,\n",
              "            0.78565,     0.78571,     0.78578,     0.78585,     0.78591,     0.78598,     0.78677,     0.78782,     0.78887,      0.7889,      0.7887,      0.7885,     0.78831,     0.78811,     0.78791,     0.78771,     0.78751,     0.78731,     0.78712,     0.78692,     0.78672,     0.78652,     0.78632,\n",
              "            0.78612,     0.78592,     0.78572,     0.78553,     0.78533,     0.78513,     0.78493,     0.78473,     0.78453,     0.78433,     0.78721,      0.7873,     0.78718,     0.78707,     0.78696,     0.78685,     0.78674,     0.78662,     0.78651,      0.7864,     0.78629,     0.78618,     0.78606,\n",
              "            0.78595,     0.78584,     0.78573,     0.78561,      0.7855,     0.78539,     0.78528,     0.78517,     0.78505,     0.78494,     0.78483,     0.78472,      0.7846,     0.78449,     0.78438,     0.78427,     0.78415,     0.78404,     0.78393,     0.78382,     0.78371,     0.78359,     0.78348,\n",
              "            0.78337,     0.78326,     0.78314,     0.78303,     0.78292,     0.78281,     0.78269,     0.78577,       0.786,     0.78623,     0.78646,     0.78669,     0.78692,     0.78715,     0.78738,     0.78761,     0.78784,     0.78807,      0.7883,     0.78852,     0.78875,     0.78923,     0.78988,\n",
              "            0.79053,     0.79117,     0.79182,     0.79129,     0.79029,      0.7893,      0.7883,     0.78731,     0.78989,     0.78815,     0.78564,     0.78563,     0.78584,     0.78606,     0.78628,      0.7865,     0.78672,     0.78694,     0.78716,     0.78737,     0.78759,     0.78781,     0.78803,\n",
              "            0.78824,     0.78846,     0.78955,     0.79029,     0.78744,      0.7891,     0.78991,     0.78934,     0.78877,      0.7882,     0.78763,     0.78706,     0.78649,     0.78592,     0.78535,     0.78498,     0.78474,      0.7845,     0.78426,     0.78402,     0.78378,     0.78354,      0.7833,\n",
              "            0.78306,     0.78282,     0.78258,     0.78234,      0.7821,     0.78186,     0.78162,     0.78138,     0.78114,      0.7809,     0.78066,     0.78041,     0.78017,      0.7802,     0.78039,     0.78058,     0.78078,     0.78097,     0.78116,     0.78135,     0.78154,     0.78173,     0.78192,\n",
              "            0.78211,      0.7823,     0.78249,     0.78268,     0.78287,     0.78306,     0.78325,      0.7838,     0.78464,     0.78548,     0.78632,     0.78705,     0.78773,     0.78841,     0.78909,     0.78976,     0.79023,     0.79063,     0.79103,     0.79144,     0.79184,     0.79224,     0.79264,\n",
              "            0.79304,     0.79366,     0.79453,     0.79539,     0.79625,     0.79615,     0.79534,     0.79453,     0.79373,     0.79292,     0.79211,     0.79124,     0.79019,     0.78913,     0.78807,     0.78701,     0.78682,     0.78821,     0.78959,     0.78927,     0.78881,     0.78835,     0.78788,\n",
              "            0.78742,     0.78695,     0.78649,     0.78602,     0.78556,     0.78509,     0.78462,     0.78503,      0.7858,     0.78657,     0.78735,     0.78705,     0.78435,     0.78231,     0.78147,     0.78064,      0.7798,     0.77896,     0.77812,     0.77732,     0.77907,     0.78065,      0.7798,\n",
              "            0.77896,     0.77811,     0.77726,     0.77641,     0.77557,     0.77584,     0.77655,     0.77725,     0.77795,     0.77865,     0.77406,      0.7709,     0.76809,     0.76266,     0.76144,     0.76049,     0.75953,     0.75858,     0.75763,     0.75707,      0.7601,     0.75938,     0.75866,\n",
              "            0.75794,     0.75722,     0.75649,     0.75577,     0.75505,     0.75383,      0.7515,     0.74916,      0.7463,     0.74336,     0.73228,     0.72851,     0.72749,     0.72647,     0.72545,     0.72443,     0.72341,     0.72511,     0.72596,     0.72523,     0.72451,     0.72378,     0.72305,\n",
              "            0.72232,      0.7216,     0.72087,     0.72156,     0.72392,     0.72423,     0.72454,     0.72485,     0.72516,     0.72547,     0.72578,     0.72609,     0.72639,      0.7267,     0.72701,     0.72713,     0.72609,     0.72504,       0.724,     0.72295,      0.7219,     0.71935,     0.71102,\n",
              "            0.70958,     0.71059,      0.7116,     0.71114,     0.70856,     0.70596,     0.70181,     0.69315,     0.68334,     0.68139,     0.67945,      0.6775,      0.6739,     0.66948,     0.66601,     0.66284,     0.66084,     0.65883,     0.65682,     0.64726,     0.62728,     0.62433,     0.62136,\n",
              "            0.61914,     0.61701,     0.61487,     0.60271,     0.59796,     0.59603,      0.5941,     0.59217,     0.58905,     0.58515,     0.58591,     0.58035,     0.58197,     0.58302,     0.58385,     0.58467,     0.58549,     0.57752,     0.57675,     0.57597,      0.5752,     0.57443,     0.57365,\n",
              "            0.57287,      0.5721,     0.57132,     0.57054,     0.56833,     0.55029,     0.54511,     0.54269,     0.54025,     0.53781,     0.52759,     0.52601,     0.52443,     0.52284,     0.52125,     0.51933,     0.51681,     0.51429,     0.51177,     0.50883,     0.50585,     0.50289,     0.50089,\n",
              "            0.49889,     0.49688,     0.49487,     0.48838,      0.4828,     0.47911,     0.47575,     0.47368,      0.4716,     0.46952,     0.46743,     0.44994,       0.447,     0.44524,     0.44348,     0.44171,     0.43994,      0.4383,     0.43679,     0.43529,     0.43378,     0.43227,     0.43075,\n",
              "            0.42875,     0.42379,     0.41912,     0.41577,     0.41242,     0.40887,      0.4048,     0.40072,     0.39434,     0.38806,     0.38284,     0.37867,     0.37603,     0.37339,     0.37074,     0.36834,     0.36621,     0.36407,     0.36192,     0.35977,     0.33451,     0.30832,     0.29941,\n",
              "            0.29233,     0.28764,     0.28294,      0.2782,     0.27344,     0.26757,     0.25952,     0.25318,     0.24705,     0.24087,     0.23466,     0.22086,     0.21804,     0.21521,     0.21237,     0.20859,     0.17116,     0.16893,     0.16669,     0.16444,     0.16219,     0.15993,      0.1586,\n",
              "            0.15784,     0.15234,     0.14682,     0.13412,     0.12617,     0.11907,     0.11742,     0.11622,     0.11503,     0.11383,     0.11264,     0.11144,     0.11024,     0.10904,     0.10783,     0.10663,     0.10542,     0.09818,    0.059604,    0.053503,    0.047373,    0.041193,    0.034981,\n",
              "           0.030248,    0.028152,    0.026054,    0.023955,    0.021852,    0.019747,    0.017639,    0.015625,    0.015631,    0.015636,    0.015642,    0.015647,    0.015652,    0.015656,    0.015661,    0.015665,    0.015669,    0.015673,    0.015677,     0.01568,    0.015684,    0.015687,     0.01569,\n",
              "           0.015693,    0.015696,    0.015699,    0.015702,    0.015705,    0.015708,     0.01571,    0.015713,    0.015715,    0.015717,     0.01572,    0.015722,    0.015724,    0.015726,    0.015728,     0.01573,    0.015732,    0.015734,    0.015736,    0.015738,    0.015739,    0.015741,    0.015743,\n",
              "           0.015744,    0.015746,    0.015747,           0,           0,           0,           0,           0,           0,           0,           0,           0,           0,           0,           0,           0,           0,           0,           0,           0,           0,           0,           0,\n",
              "                  0,           0,           0,           0,           0,           0,           0,           0,           0,           0,           0,           0,           0,           0,           0,           0,           0,           0,           0,           0,           0,           0,           0,\n",
              "                  0,           0,           0,           0,           0,           0,           0,           0,           0,           0,           0,           0,           0,           0,           0,           0,           0,           0,           0,           0,           0,           0,           0,\n",
              "                  0,           0,           0,           0,           0,           0,           0,           0,           0,           0,           0]]), 'Confidence', 'F1'], [array([          0,    0.001001,    0.002002,    0.003003,    0.004004,    0.005005,    0.006006,    0.007007,    0.008008,    0.009009,     0.01001,    0.011011,    0.012012,    0.013013,    0.014014,    0.015015,    0.016016,    0.017017,    0.018018,    0.019019,     0.02002,    0.021021,    0.022022,    0.023023,\n",
              "          0.024024,    0.025025,    0.026026,    0.027027,    0.028028,    0.029029,     0.03003,    0.031031,    0.032032,    0.033033,    0.034034,    0.035035,    0.036036,    0.037037,    0.038038,    0.039039,     0.04004,    0.041041,    0.042042,    0.043043,    0.044044,    0.045045,    0.046046,    0.047047,\n",
              "          0.048048,    0.049049,     0.05005,    0.051051,    0.052052,    0.053053,    0.054054,    0.055055,    0.056056,    0.057057,    0.058058,    0.059059,     0.06006,    0.061061,    0.062062,    0.063063,    0.064064,    0.065065,    0.066066,    0.067067,    0.068068,    0.069069,     0.07007,    0.071071,\n",
              "          0.072072,    0.073073,    0.074074,    0.075075,    0.076076,    0.077077,    0.078078,    0.079079,     0.08008,    0.081081,    0.082082,    0.083083,    0.084084,    0.085085,    0.086086,    0.087087,    0.088088,    0.089089,     0.09009,    0.091091,    0.092092,    0.093093,    0.094094,    0.095095,\n",
              "          0.096096,    0.097097,    0.098098,    0.099099,      0.1001,      0.1011,      0.1021,      0.1031,      0.1041,     0.10511,     0.10611,     0.10711,     0.10811,     0.10911,     0.11011,     0.11111,     0.11211,     0.11311,     0.11411,     0.11512,     0.11612,     0.11712,     0.11812,     0.11912,\n",
              "           0.12012,     0.12112,     0.12212,     0.12312,     0.12412,     0.12513,     0.12613,     0.12713,     0.12813,     0.12913,     0.13013,     0.13113,     0.13213,     0.13313,     0.13413,     0.13514,     0.13614,     0.13714,     0.13814,     0.13914,     0.14014,     0.14114,     0.14214,     0.14314,\n",
              "           0.14414,     0.14515,     0.14615,     0.14715,     0.14815,     0.14915,     0.15015,     0.15115,     0.15215,     0.15315,     0.15415,     0.15516,     0.15616,     0.15716,     0.15816,     0.15916,     0.16016,     0.16116,     0.16216,     0.16316,     0.16416,     0.16517,     0.16617,     0.16717,\n",
              "           0.16817,     0.16917,     0.17017,     0.17117,     0.17217,     0.17317,     0.17417,     0.17518,     0.17618,     0.17718,     0.17818,     0.17918,     0.18018,     0.18118,     0.18218,     0.18318,     0.18418,     0.18519,     0.18619,     0.18719,     0.18819,     0.18919,     0.19019,     0.19119,\n",
              "           0.19219,     0.19319,     0.19419,      0.1952,      0.1962,      0.1972,      0.1982,      0.1992,      0.2002,      0.2012,      0.2022,      0.2032,      0.2042,     0.20521,     0.20621,     0.20721,     0.20821,     0.20921,     0.21021,     0.21121,     0.21221,     0.21321,     0.21421,     0.21522,\n",
              "           0.21622,     0.21722,     0.21822,     0.21922,     0.22022,     0.22122,     0.22222,     0.22322,     0.22422,     0.22523,     0.22623,     0.22723,     0.22823,     0.22923,     0.23023,     0.23123,     0.23223,     0.23323,     0.23423,     0.23524,     0.23624,     0.23724,     0.23824,     0.23924,\n",
              "           0.24024,     0.24124,     0.24224,     0.24324,     0.24424,     0.24525,     0.24625,     0.24725,     0.24825,     0.24925,     0.25025,     0.25125,     0.25225,     0.25325,     0.25425,     0.25526,     0.25626,     0.25726,     0.25826,     0.25926,     0.26026,     0.26126,     0.26226,     0.26326,\n",
              "           0.26426,     0.26527,     0.26627,     0.26727,     0.26827,     0.26927,     0.27027,     0.27127,     0.27227,     0.27327,     0.27427,     0.27528,     0.27628,     0.27728,     0.27828,     0.27928,     0.28028,     0.28128,     0.28228,     0.28328,     0.28428,     0.28529,     0.28629,     0.28729,\n",
              "           0.28829,     0.28929,     0.29029,     0.29129,     0.29229,     0.29329,     0.29429,      0.2953,      0.2963,      0.2973,      0.2983,      0.2993,      0.3003,      0.3013,      0.3023,      0.3033,      0.3043,     0.30531,     0.30631,     0.30731,     0.30831,     0.30931,     0.31031,     0.31131,\n",
              "           0.31231,     0.31331,     0.31431,     0.31532,     0.31632,     0.31732,     0.31832,     0.31932,     0.32032,     0.32132,     0.32232,     0.32332,     0.32432,     0.32533,     0.32633,     0.32733,     0.32833,     0.32933,     0.33033,     0.33133,     0.33233,     0.33333,     0.33433,     0.33534,\n",
              "           0.33634,     0.33734,     0.33834,     0.33934,     0.34034,     0.34134,     0.34234,     0.34334,     0.34434,     0.34535,     0.34635,     0.34735,     0.34835,     0.34935,     0.35035,     0.35135,     0.35235,     0.35335,     0.35435,     0.35536,     0.35636,     0.35736,     0.35836,     0.35936,\n",
              "           0.36036,     0.36136,     0.36236,     0.36336,     0.36436,     0.36537,     0.36637,     0.36737,     0.36837,     0.36937,     0.37037,     0.37137,     0.37237,     0.37337,     0.37437,     0.37538,     0.37638,     0.37738,     0.37838,     0.37938,     0.38038,     0.38138,     0.38238,     0.38338,\n",
              "           0.38438,     0.38539,     0.38639,     0.38739,     0.38839,     0.38939,     0.39039,     0.39139,     0.39239,     0.39339,     0.39439,      0.3954,      0.3964,      0.3974,      0.3984,      0.3994,      0.4004,      0.4014,      0.4024,      0.4034,      0.4044,     0.40541,     0.40641,     0.40741,\n",
              "           0.40841,     0.40941,     0.41041,     0.41141,     0.41241,     0.41341,     0.41441,     0.41542,     0.41642,     0.41742,     0.41842,     0.41942,     0.42042,     0.42142,     0.42242,     0.42342,     0.42442,     0.42543,     0.42643,     0.42743,     0.42843,     0.42943,     0.43043,     0.43143,\n",
              "           0.43243,     0.43343,     0.43443,     0.43544,     0.43644,     0.43744,     0.43844,     0.43944,     0.44044,     0.44144,     0.44244,     0.44344,     0.44444,     0.44545,     0.44645,     0.44745,     0.44845,     0.44945,     0.45045,     0.45145,     0.45245,     0.45345,     0.45445,     0.45546,\n",
              "           0.45646,     0.45746,     0.45846,     0.45946,     0.46046,     0.46146,     0.46246,     0.46346,     0.46446,     0.46547,     0.46647,     0.46747,     0.46847,     0.46947,     0.47047,     0.47147,     0.47247,     0.47347,     0.47447,     0.47548,     0.47648,     0.47748,     0.47848,     0.47948,\n",
              "           0.48048,     0.48148,     0.48248,     0.48348,     0.48448,     0.48549,     0.48649,     0.48749,     0.48849,     0.48949,     0.49049,     0.49149,     0.49249,     0.49349,     0.49449,      0.4955,      0.4965,      0.4975,      0.4985,      0.4995,      0.5005,      0.5015,      0.5025,      0.5035,\n",
              "            0.5045,     0.50551,     0.50651,     0.50751,     0.50851,     0.50951,     0.51051,     0.51151,     0.51251,     0.51351,     0.51451,     0.51552,     0.51652,     0.51752,     0.51852,     0.51952,     0.52052,     0.52152,     0.52252,     0.52352,     0.52452,     0.52553,     0.52653,     0.52753,\n",
              "           0.52853,     0.52953,     0.53053,     0.53153,     0.53253,     0.53353,     0.53453,     0.53554,     0.53654,     0.53754,     0.53854,     0.53954,     0.54054,     0.54154,     0.54254,     0.54354,     0.54454,     0.54555,     0.54655,     0.54755,     0.54855,     0.54955,     0.55055,     0.55155,\n",
              "           0.55255,     0.55355,     0.55455,     0.55556,     0.55656,     0.55756,     0.55856,     0.55956,     0.56056,     0.56156,     0.56256,     0.56356,     0.56456,     0.56557,     0.56657,     0.56757,     0.56857,     0.56957,     0.57057,     0.57157,     0.57257,     0.57357,     0.57457,     0.57558,\n",
              "           0.57658,     0.57758,     0.57858,     0.57958,     0.58058,     0.58158,     0.58258,     0.58358,     0.58458,     0.58559,     0.58659,     0.58759,     0.58859,     0.58959,     0.59059,     0.59159,     0.59259,     0.59359,     0.59459,      0.5956,      0.5966,      0.5976,      0.5986,      0.5996,\n",
              "            0.6006,      0.6016,      0.6026,      0.6036,      0.6046,     0.60561,     0.60661,     0.60761,     0.60861,     0.60961,     0.61061,     0.61161,     0.61261,     0.61361,     0.61461,     0.61562,     0.61662,     0.61762,     0.61862,     0.61962,     0.62062,     0.62162,     0.62262,     0.62362,\n",
              "           0.62462,     0.62563,     0.62663,     0.62763,     0.62863,     0.62963,     0.63063,     0.63163,     0.63263,     0.63363,     0.63463,     0.63564,     0.63664,     0.63764,     0.63864,     0.63964,     0.64064,     0.64164,     0.64264,     0.64364,     0.64464,     0.64565,     0.64665,     0.64765,\n",
              "           0.64865,     0.64965,     0.65065,     0.65165,     0.65265,     0.65365,     0.65465,     0.65566,     0.65666,     0.65766,     0.65866,     0.65966,     0.66066,     0.66166,     0.66266,     0.66366,     0.66466,     0.66567,     0.66667,     0.66767,     0.66867,     0.66967,     0.67067,     0.67167,\n",
              "           0.67267,     0.67367,     0.67467,     0.67568,     0.67668,     0.67768,     0.67868,     0.67968,     0.68068,     0.68168,     0.68268,     0.68368,     0.68468,     0.68569,     0.68669,     0.68769,     0.68869,     0.68969,     0.69069,     0.69169,     0.69269,     0.69369,     0.69469,      0.6957,\n",
              "            0.6967,      0.6977,      0.6987,      0.6997,      0.7007,      0.7017,      0.7027,      0.7037,      0.7047,     0.70571,     0.70671,     0.70771,     0.70871,     0.70971,     0.71071,     0.71171,     0.71271,     0.71371,     0.71471,     0.71572,     0.71672,     0.71772,     0.71872,     0.71972,\n",
              "           0.72072,     0.72172,     0.72272,     0.72372,     0.72472,     0.72573,     0.72673,     0.72773,     0.72873,     0.72973,     0.73073,     0.73173,     0.73273,     0.73373,     0.73473,     0.73574,     0.73674,     0.73774,     0.73874,     0.73974,     0.74074,     0.74174,     0.74274,     0.74374,\n",
              "           0.74474,     0.74575,     0.74675,     0.74775,     0.74875,     0.74975,     0.75075,     0.75175,     0.75275,     0.75375,     0.75475,     0.75576,     0.75676,     0.75776,     0.75876,     0.75976,     0.76076,     0.76176,     0.76276,     0.76376,     0.76476,     0.76577,     0.76677,     0.76777,\n",
              "           0.76877,     0.76977,     0.77077,     0.77177,     0.77277,     0.77377,     0.77477,     0.77578,     0.77678,     0.77778,     0.77878,     0.77978,     0.78078,     0.78178,     0.78278,     0.78378,     0.78478,     0.78579,     0.78679,     0.78779,     0.78879,     0.78979,     0.79079,     0.79179,\n",
              "           0.79279,     0.79379,     0.79479,      0.7958,      0.7968,      0.7978,      0.7988,      0.7998,      0.8008,      0.8018,      0.8028,      0.8038,      0.8048,     0.80581,     0.80681,     0.80781,     0.80881,     0.80981,     0.81081,     0.81181,     0.81281,     0.81381,     0.81481,     0.81582,\n",
              "           0.81682,     0.81782,     0.81882,     0.81982,     0.82082,     0.82182,     0.82282,     0.82382,     0.82482,     0.82583,     0.82683,     0.82783,     0.82883,     0.82983,     0.83083,     0.83183,     0.83283,     0.83383,     0.83483,     0.83584,     0.83684,     0.83784,     0.83884,     0.83984,\n",
              "           0.84084,     0.84184,     0.84284,     0.84384,     0.84484,     0.84585,     0.84685,     0.84785,     0.84885,     0.84985,     0.85085,     0.85185,     0.85285,     0.85385,     0.85485,     0.85586,     0.85686,     0.85786,     0.85886,     0.85986,     0.86086,     0.86186,     0.86286,     0.86386,\n",
              "           0.86486,     0.86587,     0.86687,     0.86787,     0.86887,     0.86987,     0.87087,     0.87187,     0.87287,     0.87387,     0.87487,     0.87588,     0.87688,     0.87788,     0.87888,     0.87988,     0.88088,     0.88188,     0.88288,     0.88388,     0.88488,     0.88589,     0.88689,     0.88789,\n",
              "           0.88889,     0.88989,     0.89089,     0.89189,     0.89289,     0.89389,     0.89489,      0.8959,      0.8969,      0.8979,      0.8989,      0.8999,      0.9009,      0.9019,      0.9029,      0.9039,      0.9049,     0.90591,     0.90691,     0.90791,     0.90891,     0.90991,     0.91091,     0.91191,\n",
              "           0.91291,     0.91391,     0.91491,     0.91592,     0.91692,     0.91792,     0.91892,     0.91992,     0.92092,     0.92192,     0.92292,     0.92392,     0.92492,     0.92593,     0.92693,     0.92793,     0.92893,     0.92993,     0.93093,     0.93193,     0.93293,     0.93393,     0.93493,     0.93594,\n",
              "           0.93694,     0.93794,     0.93894,     0.93994,     0.94094,     0.94194,     0.94294,     0.94394,     0.94494,     0.94595,     0.94695,     0.94795,     0.94895,     0.94995,     0.95095,     0.95195,     0.95295,     0.95395,     0.95495,     0.95596,     0.95696,     0.95796,     0.95896,     0.95996,\n",
              "           0.96096,     0.96196,     0.96296,     0.96396,     0.96496,     0.96597,     0.96697,     0.96797,     0.96897,     0.96997,     0.97097,     0.97197,     0.97297,     0.97397,     0.97497,     0.97598,     0.97698,     0.97798,     0.97898,     0.97998,     0.98098,     0.98198,     0.98298,     0.98398,\n",
              "           0.98498,     0.98599,     0.98699,     0.98799,     0.98899,     0.98999,     0.99099,     0.99199,     0.99299,     0.99399,     0.99499,       0.996,       0.997,       0.998,       0.999,           1]), array([[   0.043173,    0.043173,     0.08195,     0.11402,     0.14177,     0.16524,     0.18379,      0.1978,      0.2158,     0.23189,     0.24773,     0.25924,     0.27139,     0.28849,     0.29683,     0.30727,     0.32075,     0.33086,     0.34008,     0.34532,      0.3568,      0.3674,     0.37743,\n",
              "            0.38856,     0.40156,     0.41221,     0.41154,     0.41816,     0.42411,     0.42978,     0.43262,     0.43584,     0.44519,     0.45253,     0.45347,     0.46429,     0.46827,     0.47363,     0.48105,     0.48336,     0.48459,     0.48546,     0.48632,     0.48794,     0.48976,     0.49142,\n",
              "            0.49281,     0.49445,     0.50019,     0.50201,     0.50409,      0.5065,     0.50896,     0.50845,     0.51024,     0.51135,     0.51327,     0.51482,     0.51548,     0.51615,     0.51681,      0.5229,     0.52487,     0.52904,     0.53275,     0.53364,     0.53453,     0.53798,     0.53921,\n",
              "            0.54051,     0.54316,     0.54927,     0.55035,     0.55143,     0.55345,     0.55832,     0.56037,     0.56112,     0.56188,     0.56263,     0.56346,     0.56444,     0.56541,     0.56923,     0.57024,     0.57126,     0.57233,     0.57396,     0.57604,     0.57942,      0.5847,      0.5854,\n",
              "            0.58611,     0.58681,     0.58751,     0.58825,     0.58905,     0.58984,     0.59064,     0.59154,     0.59264,     0.59374,      0.5966,      0.5981,     0.59851,     0.59892,     0.59933,     0.59974,     0.60015,     0.60056,     0.60097,     0.60223,     0.60397,     0.60585,     0.60779,\n",
              "            0.60976,     0.61164,     0.61308,     0.61453,     0.61538,     0.61599,     0.61661,     0.61722,     0.61783,     0.61845,     0.61816,     0.61779,     0.61743,     0.61706,     0.61669,     0.61632,     0.61425,      0.6146,     0.61494,     0.61529,     0.61563,     0.61598,     0.61632,\n",
              "            0.61667,     0.61701,     0.61735,     0.61778,     0.61866,     0.61954,     0.62042,     0.62131,     0.62435,     0.62544,       0.626,     0.62655,     0.62711,     0.62767,     0.62823,     0.62884,     0.63008,     0.63132,     0.63258,     0.63423,     0.63589,     0.63692,     0.63769,\n",
              "            0.63847,     0.63924,     0.64002,     0.64139,       0.643,     0.64435,     0.64502,     0.64568,     0.64635,     0.64701,     0.64768,     0.64861,     0.65019,     0.65176,     0.66088,     0.66289,     0.66523,     0.67015,     0.67605,     0.67809,     0.67918,     0.68028,     0.68137,\n",
              "            0.68295,     0.68488,     0.68829,     0.69111,      0.6916,     0.69209,     0.69257,     0.69306,     0.69355,     0.69404,     0.69452,     0.69501,      0.6955,     0.69599,     0.69649,     0.69698,     0.69747,     0.69797,     0.69846,     0.69895,     0.69945,     0.69994,     0.70022,\n",
              "            0.70047,     0.70073,     0.70098,     0.70123,     0.70148,     0.70173,     0.70198,     0.70224,     0.70249,     0.70274,     0.70299,     0.70324,      0.7035,     0.70375,       0.704,     0.70425,      0.7045,     0.70489,     0.70576,     0.70663,      0.7075,     0.70836,     0.70923,\n",
              "            0.70974,     0.71012,      0.7105,     0.71088,     0.71126,     0.71164,     0.71202,      0.7124,     0.71278,     0.71316,     0.71355,     0.71393,     0.71432,     0.71504,     0.71576,     0.71647,     0.71719,     0.71791,     0.71862,     0.71926,     0.71964,     0.72002,     0.72039,\n",
              "            0.72077,     0.72115,     0.72152,      0.7219,     0.72228,     0.72265,     0.72303,     0.72341,     0.72378,     0.72416,     0.72453,     0.72489,     0.72526,     0.72563,       0.726,     0.72637,     0.72674,      0.7271,     0.72747,     0.72784,     0.72821,     0.72858,     0.72894,\n",
              "            0.73436,     0.73459,     0.73483,     0.73507,      0.7353,     0.73554,     0.73577,     0.73601,     0.73624,     0.73648,     0.73671,     0.73695,     0.73719,     0.73742,     0.73766,     0.73789,     0.73813,     0.73836,      0.7386,     0.73884,     0.73907,     0.73931,      0.7392,\n",
              "            0.73865,     0.73811,     0.73763,     0.73883,     0.74003,     0.74123,     0.74243,     0.74637,     0.75116,     0.75335,     0.75273,     0.75212,     0.75198,     0.75227,     0.75256,     0.75285,     0.75314,     0.75343,     0.75372,     0.75401,      0.7543,     0.75459,     0.75488,\n",
              "            0.75517,     0.75546,     0.75575,     0.75604,     0.75633,     0.75663,     0.75692,     0.75721,     0.76308,     0.76332,     0.76356,      0.7638,     0.76404,     0.76429,     0.76453,     0.76477,     0.76501,     0.76525,     0.76549,     0.76573,     0.76597,     0.76621,     0.76645,\n",
              "            0.76669,     0.76693,     0.76717,     0.76741,     0.76766,      0.7679,     0.76814,     0.76838,     0.76862,     0.76856,     0.76845,     0.76834,     0.76822,     0.76811,       0.768,     0.76788,     0.76777,     0.76766,     0.76754,     0.76743,     0.76732,      0.7672,     0.76709,\n",
              "            0.76698,     0.76672,     0.76629,     0.76586,     0.76544,     0.76519,     0.76532,     0.76544,     0.76557,     0.76569,     0.76582,     0.76594,     0.76607,      0.7662,     0.76632,     0.76645,     0.76657,      0.7667,     0.76682,     0.76695,     0.76707,      0.7672,     0.76732,\n",
              "            0.76745,     0.76757,      0.7677,     0.76783,     0.76795,     0.76808,      0.7682,     0.76833,     0.76845,     0.76858,      0.7687,     0.76883,     0.76895,     0.76908,      0.7692,     0.76933,     0.76946,     0.76958,     0.76971,     0.76983,     0.76996,     0.77008,     0.77021,\n",
              "            0.77033,     0.77046,     0.77058,     0.77071,     0.77083,     0.77096,      0.7725,     0.77452,     0.77655,     0.77686,     0.77679,     0.77672,     0.77665,     0.77657,      0.7765,     0.77643,     0.77636,     0.77629,     0.77621,     0.77614,     0.77607,       0.776,     0.77592,\n",
              "            0.77585,     0.77578,     0.77571,     0.77563,     0.77556,     0.77549,     0.77542,     0.77534,     0.77527,      0.7752,     0.78086,     0.78121,     0.78117,     0.78113,     0.78109,     0.78105,     0.78101,     0.78097,     0.78093,     0.78089,     0.78085,     0.78081,     0.78077,\n",
              "            0.78073,     0.78069,     0.78065,     0.78061,     0.78057,     0.78053,     0.78049,     0.78045,     0.78041,     0.78036,     0.78032,     0.78028,     0.78024,      0.7802,     0.78016,     0.78012,     0.78008,     0.78004,        0.78,     0.77996,     0.77992,     0.77988,     0.77984,\n",
              "             0.7798,     0.77976,     0.77972,     0.77968,     0.77964,      0.7796,     0.77956,     0.78583,     0.78629,     0.78675,     0.78721,     0.78767,     0.78813,     0.78859,     0.78905,     0.78951,     0.78997,     0.79043,     0.79089,     0.79135,     0.79181,     0.79278,     0.79409,\n",
              "             0.7954,     0.79671,     0.79802,     0.79815,     0.79781,     0.79747,     0.79714,      0.7968,     0.80238,     0.80256,     0.80172,     0.80207,     0.80253,     0.80298,     0.80344,      0.8039,     0.80435,     0.80481,     0.80527,     0.80572,     0.80618,     0.80664,     0.80709,\n",
              "            0.80755,     0.80801,     0.81029,     0.81464,     0.81474,      0.8183,     0.82045,     0.82027,     0.82009,     0.81992,     0.81974,     0.81956,     0.81939,     0.81921,     0.81904,     0.81892,     0.81885,     0.81877,      0.8187,     0.81862,     0.81855,     0.81847,      0.8184,\n",
              "            0.81832,     0.81825,     0.81817,      0.8181,     0.81802,     0.81794,     0.81787,     0.81779,     0.81772,     0.81764,     0.81757,     0.81749,     0.81742,     0.81765,     0.81807,     0.81849,     0.81891,     0.81933,     0.81975,     0.82017,     0.82059,     0.82101,     0.82143,\n",
              "            0.82185,     0.82227,     0.82269,     0.82311,     0.82353,     0.82395,     0.82437,     0.82559,     0.82746,     0.82933,      0.8312,     0.83285,     0.83437,     0.83589,     0.83741,     0.83894,     0.83999,      0.8409,     0.84181,     0.84272,     0.84364,     0.84455,     0.84546,\n",
              "            0.84637,     0.84779,     0.84976,     0.85174,     0.85371,     0.85442,     0.85421,       0.854,     0.85379,     0.85358,     0.85337,     0.85315,     0.85287,     0.85259,     0.85231,     0.85203,     0.85302,     0.85628,     0.85954,      0.8597,     0.85959,     0.85947,     0.85935,\n",
              "            0.85923,     0.85912,       0.859,     0.85888,     0.85876,     0.85864,     0.85853,     0.85979,     0.86165,     0.86352,     0.86538,     0.86646,     0.86581,     0.86531,      0.8651,      0.8649,     0.86469,     0.86449,     0.86428,     0.86415,     0.86849,     0.87254,     0.87234,\n",
              "            0.87214,     0.87194,     0.87174,     0.87154,     0.87134,     0.87258,     0.87436,     0.87615,     0.87794,     0.87972,     0.87895,     0.87824,      0.8776,     0.87636,     0.87608,     0.87586,     0.87564,     0.87542,      0.8752,     0.87584,     0.88419,     0.88403,     0.88388,\n",
              "            0.88372,     0.88356,      0.8834,     0.88325,     0.88309,     0.88282,      0.8823,     0.88179,     0.88115,     0.88049,     0.88708,     0.88626,     0.88604,     0.88582,     0.88559,     0.88537,     0.88515,     0.89141,     0.89526,     0.89511,     0.89496,     0.89481,     0.89466,\n",
              "            0.89451,     0.89437,     0.89422,     0.89776,     0.90511,     0.90608,     0.90705,     0.90802,       0.909,     0.90997,     0.91094,     0.91191,     0.91288,     0.91385,     0.91483,     0.91564,     0.91546,     0.91529,     0.91511,     0.91494,     0.91476,     0.91433,     0.91289,\n",
              "            0.91528,     0.91866,     0.92205,     0.92389,     0.92349,     0.92309,     0.93011,     0.93287,      0.9315,     0.93122,     0.93094,     0.93066,     0.93014,     0.92949,     0.92898,     0.92851,      0.9282,      0.9279,      0.9276,     0.92612,     0.92291,     0.92242,     0.92193,\n",
              "            0.92155,     0.92119,     0.92082,      0.9187,     0.91786,     0.91751,     0.91716,     0.91681,     0.91623,     0.91551,     0.92581,     0.93558,     0.94409,     0.94963,     0.95404,     0.95845,     0.96286,     0.96294,     0.96287,      0.9628,     0.96274,     0.96267,      0.9626,\n",
              "            0.96253,     0.96246,     0.96239,     0.96233,     0.96213,     0.96046,     0.95997,     0.95973,     0.95949,     0.95925,     0.95821,     0.95805,     0.95788,     0.95772,     0.95755,     0.95735,     0.95708,     0.95681,     0.95654,     0.95621,     0.95588,     0.95555,     0.95532,\n",
              "            0.95509,     0.95486,     0.95463,     0.95386,     0.95319,     0.95274,     0.95232,     0.95206,      0.9518,     0.95153,     0.95127,     0.94892,      0.9485,     0.94825,       0.948,     0.94775,      0.9475,     0.94726,     0.94704,     0.94681,     0.94659,     0.94636,     0.94614,\n",
              "            0.94584,     0.94507,     0.94434,      0.9438,     0.94326,     0.94268,     0.94199,      0.9413,     0.94017,     0.93904,     0.93807,     0.93729,     0.93677,     0.93625,     0.93574,     0.93526,     0.93482,     0.93438,     0.93394,      0.9335,      0.9278,     0.92101,     0.91845,\n",
              "            0.91635,     0.91486,     0.91338,     0.91179,     0.91016,     0.90809,     0.90513,     0.90263,     0.90019,     0.89751,     0.89481,     0.88817,     0.88668,     0.88519,      0.8837,     0.88165,     0.85692,     0.85504,     0.85317,     0.85129,     0.84941,     0.84753,     0.86528,\n",
              "            0.91577,     0.91266,     0.90956,     0.90117,     0.89502,     0.88933,     0.88779,     0.88661,     0.88542,     0.88423,     0.88305,     0.88186,     0.88068,     0.87949,      0.8783,     0.87712,     0.87593,     0.86708,     0.79507,     0.77456,     0.75406,     0.72261,     0.68844,\n",
              "             0.6584,     0.63562,     0.61285,     0.59007,     0.56729,     0.54451,     0.52173,     0.50055,     0.51261,     0.52467,     0.53673,     0.54879,     0.56085,     0.57291,     0.58497,     0.59703,     0.60909,     0.62114,      0.6332,     0.64526,     0.65732,     0.66938,     0.68144,\n",
              "             0.6935,     0.70556,     0.71762,     0.72968,     0.74174,     0.75379,     0.76585,     0.77791,     0.78997,     0.80203,     0.81409,     0.82615,     0.83821,     0.85027,     0.86233,     0.87439,     0.88645,      0.8985,     0.91056,     0.92262,     0.93468,     0.94674,      0.9588,\n",
              "            0.97086,     0.98292,     0.99498,           1,           1,           1,           1,           1,           1,           1,           1,           1,           1,           1,           1,           1,           1,           1,           1,           1,           1,           1,           1,\n",
              "                  1,           1,           1,           1,           1,           1,           1,           1,           1,           1,           1,           1,           1,           1,           1,           1,           1,           1,           1,           1,           1,           1,           1,\n",
              "                  1,           1,           1,           1,           1,           1,           1,           1,           1,           1,           1,           1,           1,           1,           1,           1,           1,           1,           1,           1,           1,           1,           1,\n",
              "                  1,           1,           1,           1,           1,           1,           1,           1,           1,           1,           1]]), 'Confidence', 'Precision'], [array([          0,    0.001001,    0.002002,    0.003003,    0.004004,    0.005005,    0.006006,    0.007007,    0.008008,    0.009009,     0.01001,    0.011011,    0.012012,    0.013013,    0.014014,    0.015015,    0.016016,    0.017017,    0.018018,    0.019019,     0.02002,    0.021021,    0.022022,    0.023023,\n",
              "          0.024024,    0.025025,    0.026026,    0.027027,    0.028028,    0.029029,     0.03003,    0.031031,    0.032032,    0.033033,    0.034034,    0.035035,    0.036036,    0.037037,    0.038038,    0.039039,     0.04004,    0.041041,    0.042042,    0.043043,    0.044044,    0.045045,    0.046046,    0.047047,\n",
              "          0.048048,    0.049049,     0.05005,    0.051051,    0.052052,    0.053053,    0.054054,    0.055055,    0.056056,    0.057057,    0.058058,    0.059059,     0.06006,    0.061061,    0.062062,    0.063063,    0.064064,    0.065065,    0.066066,    0.067067,    0.068068,    0.069069,     0.07007,    0.071071,\n",
              "          0.072072,    0.073073,    0.074074,    0.075075,    0.076076,    0.077077,    0.078078,    0.079079,     0.08008,    0.081081,    0.082082,    0.083083,    0.084084,    0.085085,    0.086086,    0.087087,    0.088088,    0.089089,     0.09009,    0.091091,    0.092092,    0.093093,    0.094094,    0.095095,\n",
              "          0.096096,    0.097097,    0.098098,    0.099099,      0.1001,      0.1011,      0.1021,      0.1031,      0.1041,     0.10511,     0.10611,     0.10711,     0.10811,     0.10911,     0.11011,     0.11111,     0.11211,     0.11311,     0.11411,     0.11512,     0.11612,     0.11712,     0.11812,     0.11912,\n",
              "           0.12012,     0.12112,     0.12212,     0.12312,     0.12412,     0.12513,     0.12613,     0.12713,     0.12813,     0.12913,     0.13013,     0.13113,     0.13213,     0.13313,     0.13413,     0.13514,     0.13614,     0.13714,     0.13814,     0.13914,     0.14014,     0.14114,     0.14214,     0.14314,\n",
              "           0.14414,     0.14515,     0.14615,     0.14715,     0.14815,     0.14915,     0.15015,     0.15115,     0.15215,     0.15315,     0.15415,     0.15516,     0.15616,     0.15716,     0.15816,     0.15916,     0.16016,     0.16116,     0.16216,     0.16316,     0.16416,     0.16517,     0.16617,     0.16717,\n",
              "           0.16817,     0.16917,     0.17017,     0.17117,     0.17217,     0.17317,     0.17417,     0.17518,     0.17618,     0.17718,     0.17818,     0.17918,     0.18018,     0.18118,     0.18218,     0.18318,     0.18418,     0.18519,     0.18619,     0.18719,     0.18819,     0.18919,     0.19019,     0.19119,\n",
              "           0.19219,     0.19319,     0.19419,      0.1952,      0.1962,      0.1972,      0.1982,      0.1992,      0.2002,      0.2012,      0.2022,      0.2032,      0.2042,     0.20521,     0.20621,     0.20721,     0.20821,     0.20921,     0.21021,     0.21121,     0.21221,     0.21321,     0.21421,     0.21522,\n",
              "           0.21622,     0.21722,     0.21822,     0.21922,     0.22022,     0.22122,     0.22222,     0.22322,     0.22422,     0.22523,     0.22623,     0.22723,     0.22823,     0.22923,     0.23023,     0.23123,     0.23223,     0.23323,     0.23423,     0.23524,     0.23624,     0.23724,     0.23824,     0.23924,\n",
              "           0.24024,     0.24124,     0.24224,     0.24324,     0.24424,     0.24525,     0.24625,     0.24725,     0.24825,     0.24925,     0.25025,     0.25125,     0.25225,     0.25325,     0.25425,     0.25526,     0.25626,     0.25726,     0.25826,     0.25926,     0.26026,     0.26126,     0.26226,     0.26326,\n",
              "           0.26426,     0.26527,     0.26627,     0.26727,     0.26827,     0.26927,     0.27027,     0.27127,     0.27227,     0.27327,     0.27427,     0.27528,     0.27628,     0.27728,     0.27828,     0.27928,     0.28028,     0.28128,     0.28228,     0.28328,     0.28428,     0.28529,     0.28629,     0.28729,\n",
              "           0.28829,     0.28929,     0.29029,     0.29129,     0.29229,     0.29329,     0.29429,      0.2953,      0.2963,      0.2973,      0.2983,      0.2993,      0.3003,      0.3013,      0.3023,      0.3033,      0.3043,     0.30531,     0.30631,     0.30731,     0.30831,     0.30931,     0.31031,     0.31131,\n",
              "           0.31231,     0.31331,     0.31431,     0.31532,     0.31632,     0.31732,     0.31832,     0.31932,     0.32032,     0.32132,     0.32232,     0.32332,     0.32432,     0.32533,     0.32633,     0.32733,     0.32833,     0.32933,     0.33033,     0.33133,     0.33233,     0.33333,     0.33433,     0.33534,\n",
              "           0.33634,     0.33734,     0.33834,     0.33934,     0.34034,     0.34134,     0.34234,     0.34334,     0.34434,     0.34535,     0.34635,     0.34735,     0.34835,     0.34935,     0.35035,     0.35135,     0.35235,     0.35335,     0.35435,     0.35536,     0.35636,     0.35736,     0.35836,     0.35936,\n",
              "           0.36036,     0.36136,     0.36236,     0.36336,     0.36436,     0.36537,     0.36637,     0.36737,     0.36837,     0.36937,     0.37037,     0.37137,     0.37237,     0.37337,     0.37437,     0.37538,     0.37638,     0.37738,     0.37838,     0.37938,     0.38038,     0.38138,     0.38238,     0.38338,\n",
              "           0.38438,     0.38539,     0.38639,     0.38739,     0.38839,     0.38939,     0.39039,     0.39139,     0.39239,     0.39339,     0.39439,      0.3954,      0.3964,      0.3974,      0.3984,      0.3994,      0.4004,      0.4014,      0.4024,      0.4034,      0.4044,     0.40541,     0.40641,     0.40741,\n",
              "           0.40841,     0.40941,     0.41041,     0.41141,     0.41241,     0.41341,     0.41441,     0.41542,     0.41642,     0.41742,     0.41842,     0.41942,     0.42042,     0.42142,     0.42242,     0.42342,     0.42442,     0.42543,     0.42643,     0.42743,     0.42843,     0.42943,     0.43043,     0.43143,\n",
              "           0.43243,     0.43343,     0.43443,     0.43544,     0.43644,     0.43744,     0.43844,     0.43944,     0.44044,     0.44144,     0.44244,     0.44344,     0.44444,     0.44545,     0.44645,     0.44745,     0.44845,     0.44945,     0.45045,     0.45145,     0.45245,     0.45345,     0.45445,     0.45546,\n",
              "           0.45646,     0.45746,     0.45846,     0.45946,     0.46046,     0.46146,     0.46246,     0.46346,     0.46446,     0.46547,     0.46647,     0.46747,     0.46847,     0.46947,     0.47047,     0.47147,     0.47247,     0.47347,     0.47447,     0.47548,     0.47648,     0.47748,     0.47848,     0.47948,\n",
              "           0.48048,     0.48148,     0.48248,     0.48348,     0.48448,     0.48549,     0.48649,     0.48749,     0.48849,     0.48949,     0.49049,     0.49149,     0.49249,     0.49349,     0.49449,      0.4955,      0.4965,      0.4975,      0.4985,      0.4995,      0.5005,      0.5015,      0.5025,      0.5035,\n",
              "            0.5045,     0.50551,     0.50651,     0.50751,     0.50851,     0.50951,     0.51051,     0.51151,     0.51251,     0.51351,     0.51451,     0.51552,     0.51652,     0.51752,     0.51852,     0.51952,     0.52052,     0.52152,     0.52252,     0.52352,     0.52452,     0.52553,     0.52653,     0.52753,\n",
              "           0.52853,     0.52953,     0.53053,     0.53153,     0.53253,     0.53353,     0.53453,     0.53554,     0.53654,     0.53754,     0.53854,     0.53954,     0.54054,     0.54154,     0.54254,     0.54354,     0.54454,     0.54555,     0.54655,     0.54755,     0.54855,     0.54955,     0.55055,     0.55155,\n",
              "           0.55255,     0.55355,     0.55455,     0.55556,     0.55656,     0.55756,     0.55856,     0.55956,     0.56056,     0.56156,     0.56256,     0.56356,     0.56456,     0.56557,     0.56657,     0.56757,     0.56857,     0.56957,     0.57057,     0.57157,     0.57257,     0.57357,     0.57457,     0.57558,\n",
              "           0.57658,     0.57758,     0.57858,     0.57958,     0.58058,     0.58158,     0.58258,     0.58358,     0.58458,     0.58559,     0.58659,     0.58759,     0.58859,     0.58959,     0.59059,     0.59159,     0.59259,     0.59359,     0.59459,      0.5956,      0.5966,      0.5976,      0.5986,      0.5996,\n",
              "            0.6006,      0.6016,      0.6026,      0.6036,      0.6046,     0.60561,     0.60661,     0.60761,     0.60861,     0.60961,     0.61061,     0.61161,     0.61261,     0.61361,     0.61461,     0.61562,     0.61662,     0.61762,     0.61862,     0.61962,     0.62062,     0.62162,     0.62262,     0.62362,\n",
              "           0.62462,     0.62563,     0.62663,     0.62763,     0.62863,     0.62963,     0.63063,     0.63163,     0.63263,     0.63363,     0.63463,     0.63564,     0.63664,     0.63764,     0.63864,     0.63964,     0.64064,     0.64164,     0.64264,     0.64364,     0.64464,     0.64565,     0.64665,     0.64765,\n",
              "           0.64865,     0.64965,     0.65065,     0.65165,     0.65265,     0.65365,     0.65465,     0.65566,     0.65666,     0.65766,     0.65866,     0.65966,     0.66066,     0.66166,     0.66266,     0.66366,     0.66466,     0.66567,     0.66667,     0.66767,     0.66867,     0.66967,     0.67067,     0.67167,\n",
              "           0.67267,     0.67367,     0.67467,     0.67568,     0.67668,     0.67768,     0.67868,     0.67968,     0.68068,     0.68168,     0.68268,     0.68368,     0.68468,     0.68569,     0.68669,     0.68769,     0.68869,     0.68969,     0.69069,     0.69169,     0.69269,     0.69369,     0.69469,      0.6957,\n",
              "            0.6967,      0.6977,      0.6987,      0.6997,      0.7007,      0.7017,      0.7027,      0.7037,      0.7047,     0.70571,     0.70671,     0.70771,     0.70871,     0.70971,     0.71071,     0.71171,     0.71271,     0.71371,     0.71471,     0.71572,     0.71672,     0.71772,     0.71872,     0.71972,\n",
              "           0.72072,     0.72172,     0.72272,     0.72372,     0.72472,     0.72573,     0.72673,     0.72773,     0.72873,     0.72973,     0.73073,     0.73173,     0.73273,     0.73373,     0.73473,     0.73574,     0.73674,     0.73774,     0.73874,     0.73974,     0.74074,     0.74174,     0.74274,     0.74374,\n",
              "           0.74474,     0.74575,     0.74675,     0.74775,     0.74875,     0.74975,     0.75075,     0.75175,     0.75275,     0.75375,     0.75475,     0.75576,     0.75676,     0.75776,     0.75876,     0.75976,     0.76076,     0.76176,     0.76276,     0.76376,     0.76476,     0.76577,     0.76677,     0.76777,\n",
              "           0.76877,     0.76977,     0.77077,     0.77177,     0.77277,     0.77377,     0.77477,     0.77578,     0.77678,     0.77778,     0.77878,     0.77978,     0.78078,     0.78178,     0.78278,     0.78378,     0.78478,     0.78579,     0.78679,     0.78779,     0.78879,     0.78979,     0.79079,     0.79179,\n",
              "           0.79279,     0.79379,     0.79479,      0.7958,      0.7968,      0.7978,      0.7988,      0.7998,      0.8008,      0.8018,      0.8028,      0.8038,      0.8048,     0.80581,     0.80681,     0.80781,     0.80881,     0.80981,     0.81081,     0.81181,     0.81281,     0.81381,     0.81481,     0.81582,\n",
              "           0.81682,     0.81782,     0.81882,     0.81982,     0.82082,     0.82182,     0.82282,     0.82382,     0.82482,     0.82583,     0.82683,     0.82783,     0.82883,     0.82983,     0.83083,     0.83183,     0.83283,     0.83383,     0.83483,     0.83584,     0.83684,     0.83784,     0.83884,     0.83984,\n",
              "           0.84084,     0.84184,     0.84284,     0.84384,     0.84484,     0.84585,     0.84685,     0.84785,     0.84885,     0.84985,     0.85085,     0.85185,     0.85285,     0.85385,     0.85485,     0.85586,     0.85686,     0.85786,     0.85886,     0.85986,     0.86086,     0.86186,     0.86286,     0.86386,\n",
              "           0.86486,     0.86587,     0.86687,     0.86787,     0.86887,     0.86987,     0.87087,     0.87187,     0.87287,     0.87387,     0.87487,     0.87588,     0.87688,     0.87788,     0.87888,     0.87988,     0.88088,     0.88188,     0.88288,     0.88388,     0.88488,     0.88589,     0.88689,     0.88789,\n",
              "           0.88889,     0.88989,     0.89089,     0.89189,     0.89289,     0.89389,     0.89489,      0.8959,      0.8969,      0.8979,      0.8989,      0.8999,      0.9009,      0.9019,      0.9029,      0.9039,      0.9049,     0.90591,     0.90691,     0.90791,     0.90891,     0.90991,     0.91091,     0.91191,\n",
              "           0.91291,     0.91391,     0.91491,     0.91592,     0.91692,     0.91792,     0.91892,     0.91992,     0.92092,     0.92192,     0.92292,     0.92392,     0.92492,     0.92593,     0.92693,     0.92793,     0.92893,     0.92993,     0.93093,     0.93193,     0.93293,     0.93393,     0.93493,     0.93594,\n",
              "           0.93694,     0.93794,     0.93894,     0.93994,     0.94094,     0.94194,     0.94294,     0.94394,     0.94494,     0.94595,     0.94695,     0.94795,     0.94895,     0.94995,     0.95095,     0.95195,     0.95295,     0.95395,     0.95495,     0.95596,     0.95696,     0.95796,     0.95896,     0.95996,\n",
              "           0.96096,     0.96196,     0.96296,     0.96396,     0.96496,     0.96597,     0.96697,     0.96797,     0.96897,     0.96997,     0.97097,     0.97197,     0.97297,     0.97397,     0.97497,     0.97598,     0.97698,     0.97798,     0.97898,     0.97998,     0.98098,     0.98198,     0.98298,     0.98398,\n",
              "           0.98498,     0.98599,     0.98699,     0.98799,     0.98899,     0.98999,     0.99099,     0.99199,     0.99299,     0.99399,     0.99499,       0.996,       0.997,       0.998,       0.999,           1]), array([[    0.92857,     0.92857,     0.90476,     0.89683,     0.89683,     0.88889,     0.88095,     0.88095,     0.88095,     0.88095,     0.86508,     0.86508,     0.86508,     0.86508,     0.86508,     0.86508,     0.86508,     0.86508,     0.86508,     0.86508,     0.86508,     0.86508,     0.86508,\n",
              "            0.86508,     0.86508,     0.86508,     0.85714,     0.85714,     0.85714,     0.85714,     0.85714,     0.85714,     0.85714,     0.85714,     0.85714,     0.85714,     0.85714,     0.85714,     0.85714,     0.85714,     0.85714,     0.85714,     0.85714,     0.85714,     0.85714,     0.85714,\n",
              "            0.85714,     0.85714,     0.85714,     0.85714,     0.85714,     0.85714,     0.85714,     0.84921,     0.84921,     0.84921,     0.84921,     0.84921,     0.84921,     0.84921,     0.84921,     0.84921,     0.84921,     0.84921,     0.84921,     0.84921,     0.84921,     0.84921,     0.84921,\n",
              "            0.84921,     0.84921,     0.84921,     0.84921,     0.84921,     0.84921,     0.84921,     0.84921,     0.84921,     0.84921,     0.84921,     0.84921,     0.84921,     0.84921,     0.84921,     0.84921,     0.84921,     0.84921,     0.84921,     0.84921,     0.84921,     0.84921,     0.84921,\n",
              "            0.84921,     0.84921,     0.84921,     0.84921,     0.84921,     0.84921,     0.84921,     0.84921,     0.84921,     0.84921,     0.84921,     0.84921,     0.84921,     0.84921,     0.84921,     0.84921,     0.84921,     0.84921,     0.84921,     0.84921,     0.84921,     0.84921,     0.84921,\n",
              "            0.84921,     0.84921,     0.84921,     0.84921,     0.84921,     0.84921,     0.84921,     0.84921,     0.84921,     0.84921,       0.848,     0.84669,     0.84537,     0.84406,     0.84274,     0.84143,     0.83333,     0.83333,     0.83333,     0.83333,     0.83333,     0.83333,     0.83333,\n",
              "            0.83333,     0.83333,     0.83333,     0.83333,     0.83333,     0.83333,     0.83333,     0.83333,     0.83333,     0.83333,     0.83333,     0.83333,     0.83333,     0.83333,     0.83333,     0.83333,     0.83333,     0.83333,     0.83333,     0.83333,     0.83333,     0.83333,     0.83333,\n",
              "            0.83333,     0.83333,     0.83333,     0.83333,     0.83333,     0.83333,     0.83333,     0.83333,     0.83333,     0.83333,     0.83333,     0.83333,     0.83333,     0.83333,     0.83333,     0.83333,     0.83333,     0.83333,     0.83333,     0.83333,     0.83333,     0.83333,     0.83333,\n",
              "            0.83333,     0.83333,     0.83333,     0.83333,     0.83333,     0.83333,     0.83333,     0.83333,     0.83333,     0.83333,     0.83333,     0.83333,     0.83333,     0.83333,     0.83333,     0.83333,     0.83333,     0.83333,     0.83333,     0.83333,     0.83333,     0.83333,     0.83333,\n",
              "            0.83333,     0.83333,     0.83333,     0.83333,     0.83333,     0.83333,     0.83333,     0.83333,     0.83333,     0.83333,     0.83333,     0.83333,     0.83333,     0.83333,     0.83333,     0.83333,     0.83333,     0.83333,     0.83333,     0.83333,     0.83333,     0.83333,     0.83333,\n",
              "            0.83333,     0.83333,     0.83333,     0.83333,     0.83333,     0.83333,     0.83333,     0.83333,     0.83333,     0.83333,     0.83333,     0.83333,     0.83333,     0.83333,     0.83333,     0.83333,     0.83333,     0.83333,     0.83333,     0.83333,     0.83333,     0.83333,     0.83333,\n",
              "            0.83333,     0.83333,     0.83333,     0.83333,     0.83333,     0.83333,     0.83333,     0.83333,     0.83333,     0.83333,     0.83333,     0.83333,     0.83333,     0.83333,     0.83333,     0.83333,     0.83333,     0.83333,     0.83333,     0.83333,     0.83333,     0.83333,     0.83333,\n",
              "            0.83333,     0.83333,     0.83333,     0.83333,     0.83333,     0.83333,     0.83333,     0.83333,     0.83333,     0.83333,     0.83333,     0.83333,     0.83333,     0.83333,     0.83333,     0.83333,     0.83333,     0.83333,     0.83333,     0.83333,     0.83333,     0.83333,      0.8323,\n",
              "            0.82997,     0.82765,      0.8254,      0.8254,      0.8254,      0.8254,      0.8254,      0.8254,      0.8254,     0.82419,     0.82147,     0.81876,     0.81746,     0.81746,     0.81746,     0.81746,     0.81746,     0.81746,     0.81746,     0.81746,     0.81746,     0.81746,     0.81746,\n",
              "            0.81746,     0.81746,     0.81746,     0.81746,     0.81746,     0.81746,     0.81746,     0.81746,     0.81746,     0.81746,     0.81746,     0.81746,     0.81746,     0.81746,     0.81746,     0.81746,     0.81746,     0.81746,     0.81746,     0.81746,     0.81746,     0.81746,     0.81746,\n",
              "            0.81746,     0.81746,     0.81746,     0.81746,     0.81746,     0.81746,     0.81746,     0.81746,     0.81746,     0.81703,     0.81651,     0.81599,     0.81548,     0.81496,     0.81444,     0.81393,     0.81341,      0.8129,     0.81238,     0.81186,     0.81135,     0.81083,     0.81031,\n",
              "             0.8098,     0.80862,     0.80671,     0.80479,     0.80288,     0.80159,     0.80159,     0.80159,     0.80159,     0.80159,     0.80159,     0.80159,     0.80159,     0.80159,     0.80159,     0.80159,     0.80159,     0.80159,     0.80159,     0.80159,     0.80159,     0.80159,     0.80159,\n",
              "            0.80159,     0.80159,     0.80159,     0.80159,     0.80159,     0.80159,     0.80159,     0.80159,     0.80159,     0.80159,     0.80159,     0.80159,     0.80159,     0.80159,     0.80159,     0.80159,     0.80159,     0.80159,     0.80159,     0.80159,     0.80159,     0.80159,     0.80159,\n",
              "            0.80159,     0.80159,     0.80159,     0.80159,     0.80159,     0.80159,     0.80159,     0.80159,     0.80159,     0.80132,     0.80098,     0.80065,     0.80032,     0.79999,     0.79966,     0.79932,     0.79899,     0.79866,     0.79833,       0.798,     0.79766,     0.79733,       0.797,\n",
              "            0.79667,     0.79634,       0.796,     0.79567,     0.79534,     0.79501,     0.79468,     0.79434,     0.79401,     0.79368,     0.79365,     0.79348,     0.79329,      0.7931,     0.79292,     0.79273,     0.79255,     0.79236,     0.79217,     0.79199,      0.7918,     0.79162,     0.79143,\n",
              "            0.79125,     0.79106,     0.79087,     0.79069,      0.7905,     0.79032,     0.79013,     0.78994,     0.78976,     0.78957,     0.78939,      0.7892,     0.78901,     0.78883,     0.78864,     0.78846,     0.78827,     0.78808,      0.7879,     0.78771,     0.78753,     0.78734,     0.78715,\n",
              "            0.78697,     0.78678,      0.7866,     0.78641,     0.78622,     0.78604,     0.78585,     0.78571,     0.78571,     0.78571,     0.78571,     0.78571,     0.78571,     0.78571,     0.78571,     0.78571,     0.78571,     0.78571,     0.78571,     0.78571,     0.78571,     0.78571,     0.78571,\n",
              "            0.78571,     0.78571,     0.78571,     0.78454,     0.78292,     0.78129,     0.77966,     0.77804,     0.77778,     0.77425,     0.77019,     0.76984,     0.76984,     0.76984,     0.76984,     0.76984,     0.76984,     0.76984,     0.76984,     0.76984,     0.76984,     0.76984,     0.76984,\n",
              "            0.76984,     0.76984,     0.76984,     0.76735,      0.7619,      0.7619,     0.76156,     0.76066,     0.75975,     0.75885,     0.75795,     0.75704,     0.75614,     0.75523,     0.75433,     0.75374,     0.75336,     0.75298,     0.75261,     0.75223,     0.75185,     0.75147,     0.75109,\n",
              "            0.75071,     0.75034,     0.74996,     0.74958,      0.7492,     0.74882,     0.74844,     0.74807,     0.74769,     0.74731,     0.74693,     0.74655,     0.74617,     0.74603,     0.74603,     0.74603,     0.74603,     0.74603,     0.74603,     0.74603,     0.74603,     0.74603,     0.74603,\n",
              "            0.74603,     0.74603,     0.74603,     0.74603,     0.74603,     0.74603,     0.74603,     0.74603,     0.74603,     0.74603,     0.74603,     0.74603,     0.74603,     0.74603,     0.74603,     0.74603,     0.74603,     0.74603,     0.74603,     0.74603,     0.74603,     0.74603,     0.74603,\n",
              "            0.74603,     0.74603,     0.74603,     0.74603,     0.74603,     0.74531,     0.74406,     0.74281,     0.74156,     0.74031,     0.73905,     0.73771,     0.73609,     0.73446,     0.73283,     0.73121,     0.73016,     0.73016,     0.73016,     0.72951,      0.7288,     0.72809,     0.72739,\n",
              "            0.72668,     0.72597,     0.72527,     0.72456,     0.72385,     0.72314,     0.72244,     0.72222,     0.72222,     0.72222,     0.72222,     0.72097,      0.7169,     0.71384,     0.71259,     0.71134,     0.71008,     0.70883,     0.70758,     0.70635,     0.70635,     0.70627,     0.70502,\n",
              "            0.70377,     0.70251,     0.70126,     0.70001,     0.69876,     0.69841,     0.69841,     0.69841,     0.69841,     0.69841,     0.69154,     0.68694,     0.68287,     0.67507,     0.67332,     0.67197,     0.67061,     0.66926,      0.6679,     0.66667,     0.66655,     0.66553,     0.66452,\n",
              "             0.6635,     0.66248,     0.66147,     0.66045,     0.65943,     0.65772,     0.65447,     0.65122,     0.64725,     0.64319,     0.62348,     0.61843,     0.61707,     0.61572,     0.61436,     0.61301,     0.61165,     0.61111,     0.61051,     0.60955,      0.6086,     0.60764,     0.60668,\n",
              "            0.60573,     0.60477,     0.60381,     0.60317,     0.60317,     0.60317,     0.60317,     0.60317,     0.60317,     0.60317,     0.60317,     0.60317,     0.60317,     0.60317,     0.60317,     0.60299,     0.60163,     0.60027,     0.59892,     0.59756,     0.59621,     0.59291,     0.58226,\n",
              "            0.57937,     0.57937,     0.57937,     0.57804,     0.57478,     0.57153,     0.56349,     0.55144,     0.53958,     0.53726,     0.53494,     0.53261,     0.52834,     0.52314,     0.51907,     0.51538,     0.51305,     0.51073,     0.50841,     0.49747,      0.4751,     0.47185,     0.46859,\n",
              "            0.46617,     0.46385,     0.46152,     0.44846,     0.44342,     0.44138,     0.43935,     0.43731,     0.43405,     0.42999,     0.42857,     0.42063,     0.42063,     0.42063,     0.42063,     0.42063,     0.42063,     0.41244,     0.41166,     0.41089,     0.41011,     0.40934,     0.40856,\n",
              "            0.40779,     0.40702,     0.40624,     0.40547,     0.40327,     0.38561,     0.38063,      0.3783,     0.37598,     0.37365,     0.36401,     0.36253,     0.36105,     0.35957,     0.35809,     0.35631,     0.35398,     0.35166,     0.34933,     0.34664,     0.34393,     0.34124,     0.33943,\n",
              "            0.33762,     0.33581,       0.334,     0.32822,     0.32327,     0.32002,     0.31707,     0.31527,     0.31346,     0.31165,     0.30984,     0.29488,      0.2924,     0.29092,     0.28944,     0.28796,     0.28648,     0.28511,     0.28386,     0.28261,     0.28136,      0.2801,     0.27885,\n",
              "             0.2772,     0.27313,     0.26932,     0.26661,      0.2639,     0.26105,     0.25779,     0.25454,      0.2495,     0.24456,     0.24049,     0.23726,     0.23523,     0.23319,     0.23116,     0.22933,     0.22771,     0.22608,     0.22445,     0.22282,     0.20404,     0.18515,     0.17886,\n",
              "             0.1739,     0.17065,     0.16739,     0.16414,     0.16089,      0.1569,     0.15148,     0.14724,     0.14317,      0.1391,     0.13504,     0.12611,      0.1243,     0.12249,     0.12069,     0.11828,    0.095078,    0.093722,    0.092366,     0.09101,    0.089654,    0.088299,    0.087302,\n",
              "           0.086361,    0.083107,    0.079853,    0.072449,    0.067871,    0.063804,    0.062866,    0.062188,     0.06151,    0.060832,    0.060154,    0.059476,    0.058799,    0.058121,    0.057443,    0.056765,    0.056087,    0.052036,    0.030963,    0.027709,    0.024455,    0.021201,    0.017947,\n",
              "            0.01548,    0.014395,     0.01331,    0.012225,    0.011141,    0.010056,   0.0089714,   0.0079365,   0.0079365,   0.0079365,   0.0079365,   0.0079365,   0.0079365,   0.0079365,   0.0079365,   0.0079365,   0.0079365,   0.0079365,   0.0079365,   0.0079365,   0.0079365,   0.0079365,   0.0079365,\n",
              "          0.0079365,   0.0079365,   0.0079365,   0.0079365,   0.0079365,   0.0079365,   0.0079365,   0.0079365,   0.0079365,   0.0079365,   0.0079365,   0.0079365,   0.0079365,   0.0079365,   0.0079365,   0.0079365,   0.0079365,   0.0079365,   0.0079365,   0.0079365,   0.0079365,   0.0079365,   0.0079365,\n",
              "          0.0079365,   0.0079365,   0.0079365,           0,           0,           0,           0,           0,           0,           0,           0,           0,           0,           0,           0,           0,           0,           0,           0,           0,           0,           0,           0,\n",
              "                  0,           0,           0,           0,           0,           0,           0,           0,           0,           0,           0,           0,           0,           0,           0,           0,           0,           0,           0,           0,           0,           0,           0,\n",
              "                  0,           0,           0,           0,           0,           0,           0,           0,           0,           0,           0,           0,           0,           0,           0,           0,           0,           0,           0,           0,           0,           0,           0,\n",
              "                  0,           0,           0,           0,           0,           0,           0,           0,           0,           0,           0]]), 'Confidence', 'Recall']]\n",
              "fitness: np.float64(0.47767541405502145)\n",
              "keys: ['metrics/precision(B)', 'metrics/recall(B)', 'metrics/mAP50(B)', 'metrics/mAP50-95(B)']\n",
              "maps: array([     0.4422])\n",
              "names: {0: 'gun'}\n",
              "nt_per_class: array([126])\n",
              "nt_per_image: array([104])\n",
              "results_dict: {'metrics/precision(B)': np.float64(0.76607008956169), 'metrics/recall(B)': np.float64(0.8015873015873016), 'metrics/mAP50(B)': np.float64(0.7969418199691766), 'metrics/mAP50-95(B)': np.float64(0.4422013689534487), 'fitness': np.float64(0.47767541405502145)}\n",
              "save_dir: PosixPath('runs/detect/train')\n",
              "speed: {'preprocess': 0.2558556190468239, 'inference': 2.276986238096123, 'loss': 0.0009984761889080844, 'postprocess': 4.8588882285706685}\n",
              "stats: {'tp': [], 'conf': [], 'pred_cls': [], 'target_cls': [], 'target_img': []}\n",
              "task: 'detect'"
            ]
          },
          "metadata": {},
          "execution_count": 6
        }
      ]
    },
    {
      "cell_type": "code",
      "source": [
        "results = model.predict(source='/content/yolo_gun_dataset/test/images', save=True, conf=0.5)\n"
      ],
      "metadata": {
        "colab": {
          "base_uri": "https://localhost:8080/"
        },
        "id": "fbFNK2SdZV5U",
        "outputId": "8daa38ce-2386-4c2f-9a59-b473c10ca37d"
      },
      "execution_count": null,
      "outputs": [
        {
          "output_type": "stream",
          "name": "stdout",
          "text": [
            "\n",
            "image 1/53 /content/yolo_gun_dataset/test/images/002e137e-ASP_111_jpeg.rf.f54cc9a0d8a4adada8a5bf20c1747aba.jpg: 640x640 (no detections), 26.1ms\n",
            "image 2/53 /content/yolo_gun_dataset/test/images/03d30d68-115_jpeg.rf.60e1928dd4672c0c3eb218bdd2b9edb3.jpg: 640x640 1 gun, 15.0ms\n",
            "image 3/53 /content/yolo_gun_dataset/test/images/08d8adec-169_jpeg.rf.4f26969f5d673d4b1ab8181160fbc2c9.jpg: 640x640 1 gun, 40.2ms\n",
            "image 4/53 /content/yolo_gun_dataset/test/images/0b7858cc-180_jpeg.rf.4bbda5b9a2e60543b1a0011429b44ef4.jpg: 640x640 2 guns, 40.9ms\n",
            "image 5/53 /content/yolo_gun_dataset/test/images/16623beb-149_jpeg.rf.4429da0b164570f7dda5dc679efdc4fa.jpg: 640x640 1 gun, 11.3ms\n",
            "image 6/53 /content/yolo_gun_dataset/test/images/1d148356-ASP_152_png.rf.a8c171eef8ab5b2ef85d725f9d686603.jpg: 640x640 1 gun, 16.3ms\n",
            "image 7/53 /content/yolo_gun_dataset/test/images/1fca3387-324_jpeg.rf.0c837de6617340e3d2f5be8719fcf349.jpg: 640x640 1 gun, 33.3ms\n",
            "image 8/53 /content/yolo_gun_dataset/test/images/2637e1e5-143_jpeg.rf.ee655e1da5d60951306f633b34f82a90.jpg: 640x640 1 gun, 20.0ms\n",
            "image 9/53 /content/yolo_gun_dataset/test/images/2c16f5f3-212_jpeg.rf.eccbc84ec0e81b7f83e7dd07c82a1e65.jpg: 640x640 1 gun, 11.7ms\n",
            "image 10/53 /content/yolo_gun_dataset/test/images/3c29b7e7-191_jpeg.rf.c25cdaa6cbc210eb35dab30b3c28d84b.jpg: 640x640 1 gun, 12.1ms\n",
            "image 11/53 /content/yolo_gun_dataset/test/images/40deacc4-240_jpeg.rf.04f9c984803dbb405f874cab72eece48.jpg: 640x640 1 gun, 18.2ms\n",
            "image 12/53 /content/yolo_gun_dataset/test/images/46778c59-333_jpeg.rf.0dba49d2aa5ed80d28c7a83627437e36.jpg: 640x640 1 gun, 29.1ms\n",
            "image 13/53 /content/yolo_gun_dataset/test/images/47667241-247_jpeg.rf.ba9e7174b16143b016ce8fe89b91b1cc.jpg: 640x640 1 gun, 40.1ms\n",
            "image 14/53 /content/yolo_gun_dataset/test/images/4e09b339-ASP_153_png.rf.bed6365ef6605c4d87d7e73747691129.jpg: 640x640 (no detections), 10.9ms\n",
            "image 15/53 /content/yolo_gun_dataset/test/images/61a23b16-ASP_182_png.rf.b17e33a37feee2708459b7467e60ba29.jpg: 640x640 1 gun, 23.0ms\n",
            "image 16/53 /content/yolo_gun_dataset/test/images/61c23608-ASP_127_jpeg.rf.0b006dd68f90d621af445df23ef80036.jpg: 640x640 1 gun, 11.8ms\n",
            "image 17/53 /content/yolo_gun_dataset/test/images/62c6ac4c-11_jpeg.rf.af5f5697dfcb566153d4eaeb24235c1f.jpg: 640x640 1 gun, 13.6ms\n",
            "image 18/53 /content/yolo_gun_dataset/test/images/63b2e05c-ASP_19_jpeg.rf.1605cd12a0f7e22371bece5d85e3a032.jpg: 640x640 1 gun, 14.4ms\n",
            "image 19/53 /content/yolo_gun_dataset/test/images/72b75152-260_jpeg.rf.04dcb141338f5a7773fddfea63e4f414.jpg: 640x640 1 gun, 11.1ms\n",
            "image 20/53 /content/yolo_gun_dataset/test/images/7348d07d-ASP_179_png.rf.b46ba4b12ec37ae348bc09bf4c19d7c2.jpg: 640x640 2 guns, 16.9ms\n",
            "image 21/53 /content/yolo_gun_dataset/test/images/78df79fc-226_jpeg.rf.b64fdc92ddde303cf8f723d4a07f8983.jpg: 640x640 2 guns, 31.5ms\n",
            "image 22/53 /content/yolo_gun_dataset/test/images/79e3ed89-266_jpeg.rf.1bb792f1c539a0e360097a68b9343a26.jpg: 640x640 1 gun, 12.1ms\n",
            "image 23/53 /content/yolo_gun_dataset/test/images/7a7ba205-ASP_135_jpg.rf.3634bbe82c25addfd0024778668a32ad.jpg: 640x640 (no detections), 13.3ms\n",
            "image 24/53 /content/yolo_gun_dataset/test/images/7ecc35f8-236_jpeg.rf.bf2d35943054f5b0c2a12da63a4ea107.jpg: 640x640 1 gun, 26.0ms\n",
            "image 25/53 /content/yolo_gun_dataset/test/images/818417f7-95_jpeg.rf.8dd0ef0b4761a985316e4ef5e2f73cef.jpg: 640x640 1 gun, 11.1ms\n",
            "image 26/53 /content/yolo_gun_dataset/test/images/85306190-1_jpeg.rf.394ecead40dfad1a075ef7b23ac6c489.jpg: 640x640 1 gun, 23.5ms\n",
            "image 27/53 /content/yolo_gun_dataset/test/images/8dd645af-319_jpeg.rf.85fe737e471b797a2c8dbc32502a0302.jpg: 640x640 2 guns, 11.0ms\n",
            "image 28/53 /content/yolo_gun_dataset/test/images/8ed42e9c-292_jpeg.rf.3d1d545fe6f9acd837f09f2263b7fe91.jpg: 640x640 1 gun, 10.8ms\n",
            "image 29/53 /content/yolo_gun_dataset/test/images/90498c6d-103_jpeg.rf.f015f94e482b69686b79f556e848c000.jpg: 640x640 1 gun, 10.8ms\n",
            "image 30/53 /content/yolo_gun_dataset/test/images/9077fb8f-47_jpeg.rf.797d649b2aec1c78280bc2f5b8e8a4ee.jpg: 640x640 2 guns, 7.4ms\n",
            "image 31/53 /content/yolo_gun_dataset/test/images/92ae3bd4-117_jpeg.rf.784792a23b4e2c829fbcd86c3aa7ffda.jpg: 640x640 1 gun, 7.4ms\n",
            "image 32/53 /content/yolo_gun_dataset/test/images/92fb3bb7-75_jpeg.rf.2fd558c82818bdc9eb212bd892162472.jpg: 640x640 1 gun, 7.4ms\n",
            "image 33/53 /content/yolo_gun_dataset/test/images/9358e6d3-257_jpeg.rf.7a780dc708d83b9b0ec3881566332bc7.jpg: 640x640 1 gun, 8.9ms\n",
            "image 34/53 /content/yolo_gun_dataset/test/images/94244073-4_jpeg.rf.8fd1e020a44afe435df44fdd4d80c232.jpg: 640x640 (no detections), 7.3ms\n",
            "image 35/53 /content/yolo_gun_dataset/test/images/9be5d12b-84_jpeg.rf.673ca405ca6343ac5e2d87243ba78091.jpg: 640x640 2 guns, 7.4ms\n",
            "image 36/53 /content/yolo_gun_dataset/test/images/9bff9a45-ASP_131_jpeg.rf.3e2f0ef933bc0def7dd04d5e5e7664a2.jpg: 640x640 (no detections), 7.3ms\n",
            "image 37/53 /content/yolo_gun_dataset/test/images/a34e6f1c-75_jpeg.rf.2150dfee0a10e17157f36d33fbcffe36.jpg: 640x640 1 gun, 7.3ms\n",
            "image 38/53 /content/yolo_gun_dataset/test/images/a71afc5f-ASP_145_png.rf.1d96998d866c511864668cb6e81943b3.jpg: 640x640 1 gun, 7.6ms\n",
            "image 39/53 /content/yolo_gun_dataset/test/images/ac045b71-169_jpeg.rf.741f38e5f4d60fde1edde547658a6cd4.jpg: 640x640 1 gun, 7.4ms\n",
            "image 40/53 /content/yolo_gun_dataset/test/images/af54a8df-115_jpeg.rf.07286cebb4372199fe0781f5692f7cee.jpg: 640x640 1 gun, 7.6ms\n",
            "image 41/53 /content/yolo_gun_dataset/test/images/b29d6971-251_jpeg.rf.581e3957af32c2d95d50e8546e445c4b.jpg: 640x640 2 guns, 9.1ms\n",
            "image 42/53 /content/yolo_gun_dataset/test/images/b32f52a3-88_jpeg.rf.3f66e56d067e14cc9926afe1885fd427.jpg: 640x640 1 gun, 7.3ms\n",
            "image 43/53 /content/yolo_gun_dataset/test/images/b6571686-89_jpeg.rf.386b6e9ab32c7a57b72b6c478f5066a5.jpg: 640x640 (no detections), 7.4ms\n",
            "image 44/53 /content/yolo_gun_dataset/test/images/b66b5f1f-88_jpeg.rf.56c9aefa64b80bb6b8be3540bf1840ea.jpg: 640x640 1 gun, 7.3ms\n",
            "image 45/53 /content/yolo_gun_dataset/test/images/bd40f392-ASP_136_jpeg.rf.a5b9571ee86a7ced0b69f249a1a032d2.jpg: 640x640 2 guns, 7.3ms\n",
            "image 46/53 /content/yolo_gun_dataset/test/images/bf08badb-149_jpeg.rf.eedf6a46ec2492fbe4c47098ae6c1e26.jpg: 640x640 1 gun, 7.4ms\n",
            "image 47/53 /content/yolo_gun_dataset/test/images/c11ad1f3-22_jpeg.rf.58e03ab79253b841cacf42010205e9e0.jpg: 640x640 1 gun, 7.3ms\n",
            "image 48/53 /content/yolo_gun_dataset/test/images/c3e99e04-ASP_18_jpeg.rf.ac65df3d9deb625fe49c83dd4cbeaa83.jpg: 640x640 3 guns, 7.4ms\n",
            "image 49/53 /content/yolo_gun_dataset/test/images/c5cb88f8-190_jpeg.rf.ba415afdbb33ec0b3061627de78dc6e6.jpg: 640x640 2 guns, 7.0ms\n",
            "image 50/53 /content/yolo_gun_dataset/test/images/ccd4e6ed-315_jpeg.rf.b2e30d6854c8017616cde6d887558bb6.jpg: 640x640 3 guns, 7.1ms\n",
            "image 51/53 /content/yolo_gun_dataset/test/images/eb96ea68-37_jpeg.rf.841aa923b61c58e7a5864f459f0e3d53.jpg: 640x640 1 gun, 6.6ms\n",
            "image 52/53 /content/yolo_gun_dataset/test/images/f6b2f4f7-ASP_122_jpeg.rf.412876e5f21f5482fb32b14688addf37.jpg: 640x640 1 gun, 6.4ms\n",
            "image 53/53 /content/yolo_gun_dataset/test/images/ffbf9b76-256_jpeg.rf.96cb256f865da651735816e211c9efaa.jpg: 640x640 1 gun, 6.6ms\n",
            "Speed: 5.0ms preprocess, 14.0ms inference, 2.4ms postprocess per image at shape (1, 3, 640, 640)\n",
            "Results saved to \u001b[1mruns/detect/train2\u001b[0m\n"
          ]
        }
      ]
    },
    {
      "cell_type": "code",
      "source": [],
      "metadata": {
        "id": "_4p1ZI_ka44b"
      },
      "execution_count": null,
      "outputs": []
    }
  ]
}